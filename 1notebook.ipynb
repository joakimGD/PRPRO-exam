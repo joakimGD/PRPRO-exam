{
 "cells": [
  {
   "cell_type": "markdown",
   "id": "cad3eb56",
   "metadata": {},
   "source": []
  },
  {
   "cell_type": "code",
   "execution_count": 1,
   "id": "1f4616dc",
   "metadata": {},
   "outputs": [],
   "source": [
    "import numpy as np\n",
    "import pandas as pd\n",
    "import arviz as az\n",
    "import pymc as pm\n",
    "import matplotlib.pyplot as plt"
   ]
  },
  {
   "cell_type": "code",
   "execution_count": 2,
   "id": "4334eee7",
   "metadata": {},
   "outputs": [],
   "source": [
    "df = pd.read_csv('dataset.csv')"
   ]
  },
  {
   "cell_type": "code",
   "execution_count": 3,
   "id": "5482c411",
   "metadata": {},
   "outputs": [
    {
     "data": {
      "application/vnd.microsoft.datawrangler.viewer.v0+json": {
       "columns": [
        {
         "name": "index",
         "rawType": "int64",
         "type": "integer"
        },
        {
         "name": "application",
         "rawType": "object",
         "type": "string"
        },
        {
         "name": "endpoint",
         "rawType": "object",
         "type": "string"
        },
        {
         "name": "energy_consumption",
         "rawType": "float64",
         "type": "float"
        },
        {
         "name": "runtime",
         "rawType": "float64",
         "type": "float"
        }
       ],
       "conversionMethod": "pd.DataFrame",
       "ref": "86eae4b3-049e-4dd2-b8f6-fe14f3a2f6eb",
       "rows": [
        [
         "0",
         "rust-actix",
         "/api/register",
         "0.4493584406276907",
         "0.1488120555877685"
        ],
        [
         "1",
         "rust-actix",
         "/api/register",
         "0.4338710918675588",
         "0.1488950252532959"
        ],
        [
         "2",
         "rust-actix",
         "/api/register",
         "0.2708436065876184",
         "0.094728946685791"
        ],
        [
         "3",
         "rust-actix",
         "/api/register",
         "0.4797763649394256",
         "0.1634671688079834"
        ],
        [
         "4",
         "rust-actix",
         "/api/register",
         "0.2688328697571478",
         "0.0922999382019043"
        ],
        [
         "5",
         "rust-actix",
         "/api/register",
         "0.2702365128308768",
         "0.0925853252410888"
        ],
        [
         "6",
         "rust-actix",
         "/api/register",
         "0.2764840322390682",
         "0.0945019721984863"
        ],
        [
         "7",
         "rust-actix",
         "/api/register",
         "0.4777908933456274",
         "0.1634671688079834"
        ],
        [
         "8",
         "rust-actix",
         "/api/register",
         "0.4469782898038941",
         "0.1480019092559814"
        ],
        [
         "9",
         "rust-actix",
         "/api/register",
         "0.2807451948908122",
         "0.0957138538360595"
        ],
        [
         "10",
         "rust-actix",
         "/api/register",
         "0.275577776656746",
         "0.0946917533874511"
        ],
        [
         "11",
         "rust-actix",
         "/api/register",
         "0.2674819997358781",
         "0.0936589241027832"
        ],
        [
         "12",
         "rust-actix",
         "/api/register",
         "0.2747045620658352",
         "0.0936870574951171"
        ],
        [
         "13",
         "rust-actix",
         "/api/register",
         "0.2658132729318936",
         "0.0910179615020752"
        ],
        [
         "14",
         "rust-actix",
         "/api/register",
         "0.4398228676238885",
         "0.1506121158599853"
        ],
        [
         "15",
         "rust-actix",
         "/api/register",
         "0.2752072942618609",
         "0.0942761898040771"
        ],
        [
         "16",
         "rust-actix",
         "/api/register",
         "0.5630224351607466",
         "0.1927711963653564"
        ],
        [
         "17",
         "rust-actix",
         "/api/register",
         "0.2706266993884582",
         "0.0926671028137207"
        ],
        [
         "18",
         "rust-actix",
         "/api/register",
         "0.4416270297774074",
         "0.1506121158599853"
        ],
        [
         "19",
         "rust-actix",
         "/api/register",
         "0.2706957477806781",
         "0.0913131237030029"
        ],
        [
         "20",
         "ruby-sinatra",
         "/api/register",
         "0.5841972949619958",
         "0.1956791877746582"
        ],
        [
         "21",
         "ruby-sinatra",
         "/api/register",
         "0.5881046508206963",
         "0.195897102355957"
        ],
        [
         "22",
         "ruby-sinatra",
         "/api/register",
         "0.5890982909642161",
         "0.1962590217590332"
        ],
        [
         "23",
         "ruby-sinatra",
         "/api/register",
         "0.6001181565943623",
         "0.1956138610839843"
        ],
        [
         "24",
         "ruby-sinatra",
         "/api/register",
         "0.6044563422080954",
         "0.1932110786437988"
        ],
        [
         "25",
         "ruby-sinatra",
         "/api/register",
         "0.7157190034071729",
         "0.195674180984497"
        ],
        [
         "26",
         "ruby-sinatra",
         "/api/register",
         "0.6162752726751249",
         "0.2059569358825683"
        ],
        [
         "27",
         "ruby-sinatra",
         "/api/register",
         "0.5875811870786264",
         "0.1940350532531738"
        ],
        [
         "28",
         "ruby-sinatra",
         "/api/register",
         "0.5843676884742873",
         "0.1947600841522216"
        ],
        [
         "29",
         "ruby-sinatra",
         "/api/register",
         "0.5713378944683993",
         "0.1952641010284423"
        ],
        [
         "30",
         "ruby-sinatra",
         "/api/register",
         "0.5834586716858323",
         "0.1947128772735595"
        ],
        [
         "31",
         "ruby-sinatra",
         "/api/register",
         "0.5757538143973305",
         "0.1937460899353027"
        ],
        [
         "32",
         "ruby-sinatra",
         "/api/register",
         "0.6132945149906844",
         "0.2059569358825683"
        ],
        [
         "33",
         "ruby-sinatra",
         "/api/register",
         "0.5811726626399148",
         "0.1943099498748779"
        ],
        [
         "34",
         "ruby-sinatra",
         "/api/register",
         "0.6079680281686703",
         "0.2037179470062255"
        ],
        [
         "35",
         "ruby-sinatra",
         "/api/register",
         "0.5909846953462078",
         "0.1969091892242431"
        ],
        [
         "36",
         "ruby-sinatra",
         "/api/register",
         "0.5787379476797125",
         "0.1936309337615966"
        ],
        [
         "37",
         "ruby-sinatra",
         "/api/register",
         "0.5835730211498457",
         "0.1949951648712158"
        ],
        [
         "38",
         "ruby-sinatra",
         "/api/register",
         "0.5884973420779714",
         "0.1963729858398437"
        ],
        [
         "39",
         "ruby-sinatra",
         "/api/register",
         "0.5789493179916007",
         "0.1975617408752441"
        ],
        [
         "40",
         "go-gorilla",
         "/api/register",
         "0.4835881760811842",
         "0.1281499862670898"
        ],
        [
         "41",
         "go-gorilla",
         "/api/register",
         "0.4259970705379601",
         "0.1435070037841797"
        ],
        [
         "42",
         "go-gorilla",
         "/api/register",
         "0.3876895286540501",
         "0.1307461261749267"
        ],
        [
         "43",
         "go-gorilla",
         "/api/register",
         "0.3855730688046602",
         "0.1277580261230468"
        ],
        [
         "44",
         "go-gorilla",
         "/api/register",
         "0.3855762509065242",
         "0.1298160552978515"
        ],
        [
         "45",
         "go-gorilla",
         "/api/register",
         "0.3889759769294868",
         "0.1277499198913574"
        ],
        [
         "46",
         "go-gorilla",
         "/api/register",
         "0.3772413171654989",
         "0.1285860538482666"
        ],
        [
         "47",
         "go-gorilla",
         "/api/register",
         "0.3729707032107397",
         "0.1281499862670898"
        ],
        [
         "48",
         "go-gorilla",
         "/api/register",
         "0.3850522803366516",
         "0.130173921585083"
        ],
        [
         "49",
         "go-gorilla",
         "/api/register",
         "0.3722042712927303",
         "0.1278462409973144"
        ]
       ],
       "shape": {
        "columns": 4,
        "rows": 1960
       }
      },
      "text/html": [
       "<div>\n",
       "<style scoped>\n",
       "    .dataframe tbody tr th:only-of-type {\n",
       "        vertical-align: middle;\n",
       "    }\n",
       "\n",
       "    .dataframe tbody tr th {\n",
       "        vertical-align: top;\n",
       "    }\n",
       "\n",
       "    .dataframe thead th {\n",
       "        text-align: right;\n",
       "    }\n",
       "</style>\n",
       "<table border=\"1\" class=\"dataframe\">\n",
       "  <thead>\n",
       "    <tr style=\"text-align: right;\">\n",
       "      <th></th>\n",
       "      <th>application</th>\n",
       "      <th>endpoint</th>\n",
       "      <th>energy_consumption</th>\n",
       "      <th>runtime</th>\n",
       "    </tr>\n",
       "  </thead>\n",
       "  <tbody>\n",
       "    <tr>\n",
       "      <th>0</th>\n",
       "      <td>rust-actix</td>\n",
       "      <td>/api/register</td>\n",
       "      <td>0.449358</td>\n",
       "      <td>0.148812</td>\n",
       "    </tr>\n",
       "    <tr>\n",
       "      <th>1</th>\n",
       "      <td>rust-actix</td>\n",
       "      <td>/api/register</td>\n",
       "      <td>0.433871</td>\n",
       "      <td>0.148895</td>\n",
       "    </tr>\n",
       "    <tr>\n",
       "      <th>2</th>\n",
       "      <td>rust-actix</td>\n",
       "      <td>/api/register</td>\n",
       "      <td>0.270844</td>\n",
       "      <td>0.094729</td>\n",
       "    </tr>\n",
       "    <tr>\n",
       "      <th>3</th>\n",
       "      <td>rust-actix</td>\n",
       "      <td>/api/register</td>\n",
       "      <td>0.479776</td>\n",
       "      <td>0.163467</td>\n",
       "    </tr>\n",
       "    <tr>\n",
       "      <th>4</th>\n",
       "      <td>rust-actix</td>\n",
       "      <td>/api/register</td>\n",
       "      <td>0.268833</td>\n",
       "      <td>0.092300</td>\n",
       "    </tr>\n",
       "    <tr>\n",
       "      <th>...</th>\n",
       "      <td>...</td>\n",
       "      <td>...</td>\n",
       "      <td>...</td>\n",
       "      <td>...</td>\n",
       "    </tr>\n",
       "    <tr>\n",
       "      <th>1955</th>\n",
       "      <td>javascript-express</td>\n",
       "      <td>/logout</td>\n",
       "      <td>0.096436</td>\n",
       "      <td>0.032214</td>\n",
       "    </tr>\n",
       "    <tr>\n",
       "      <th>1956</th>\n",
       "      <td>javascript-express</td>\n",
       "      <td>/logout</td>\n",
       "      <td>0.097559</td>\n",
       "      <td>0.032214</td>\n",
       "    </tr>\n",
       "    <tr>\n",
       "      <th>1957</th>\n",
       "      <td>javascript-express</td>\n",
       "      <td>/logout</td>\n",
       "      <td>0.096922</td>\n",
       "      <td>0.032214</td>\n",
       "    </tr>\n",
       "    <tr>\n",
       "      <th>1958</th>\n",
       "      <td>javascript-express</td>\n",
       "      <td>/logout</td>\n",
       "      <td>0.097086</td>\n",
       "      <td>0.032214</td>\n",
       "    </tr>\n",
       "    <tr>\n",
       "      <th>1959</th>\n",
       "      <td>javascript-express</td>\n",
       "      <td>/logout</td>\n",
       "      <td>0.096938</td>\n",
       "      <td>0.032214</td>\n",
       "    </tr>\n",
       "  </tbody>\n",
       "</table>\n",
       "<p>1960 rows × 4 columns</p>\n",
       "</div>"
      ],
      "text/plain": [
       "             application       endpoint  energy_consumption   runtime\n",
       "0             rust-actix  /api/register            0.449358  0.148812\n",
       "1             rust-actix  /api/register            0.433871  0.148895\n",
       "2             rust-actix  /api/register            0.270844  0.094729\n",
       "3             rust-actix  /api/register            0.479776  0.163467\n",
       "4             rust-actix  /api/register            0.268833  0.092300\n",
       "...                  ...            ...                 ...       ...\n",
       "1955  javascript-express        /logout            0.096436  0.032214\n",
       "1956  javascript-express        /logout            0.097559  0.032214\n",
       "1957  javascript-express        /logout            0.096922  0.032214\n",
       "1958  javascript-express        /logout            0.097086  0.032214\n",
       "1959  javascript-express        /logout            0.096938  0.032214\n",
       "\n",
       "[1960 rows x 4 columns]"
      ]
     },
     "execution_count": 3,
     "metadata": {},
     "output_type": "execute_result"
    }
   ],
   "source": [
    "df"
   ]
  },
  {
   "cell_type": "code",
   "execution_count": 4,
   "id": "c0da2403",
   "metadata": {},
   "outputs": [
    {
     "data": {
      "text/plain": [
       "['/api/register',\n",
       " '/api/msgs/user0',\n",
       " '/api/msgs',\n",
       " '/api/fllws/user',\n",
       " '/api/unfllws/user',\n",
       " '/api/latest',\n",
       " '/register',\n",
       " '/login',\n",
       " '/user/follow',\n",
       " '/add_message',\n",
       " '/public',\n",
       " '/user/user0',\n",
       " '/user/unfollow',\n",
       " '/logout']"
      ]
     },
     "execution_count": 4,
     "metadata": {},
     "output_type": "execute_result"
    }
   ],
   "source": [
    "df.endpoint.unique().tolist()"
   ]
  },
  {
   "cell_type": "code",
   "execution_count": 5,
   "id": "9d6229ab",
   "metadata": {},
   "outputs": [
    {
     "data": {
      "text/plain": [
       "['rust-actix',\n",
       " 'ruby-sinatra',\n",
       " 'go-gorilla',\n",
       " 'go-gin',\n",
       " 'python-flask',\n",
       " 'c-sharp-razor',\n",
       " 'javascript-express']"
      ]
     },
     "execution_count": 5,
     "metadata": {},
     "output_type": "execute_result"
    }
   ],
   "source": [
    "df.application.unique().tolist()"
   ]
  },
  {
   "cell_type": "markdown",
   "id": "f57173cd",
   "metadata": {},
   "source": [
    "From what we can see then we have 4 different types of data:\n",
    "\n",
    "- Application:\n",
    "  - Formatted with `<programming_language>-<web_framework>`\n",
    "- Endpoint:\n",
    "  - the path of the endpoint like `/api/register`\n",
    "- Energy_consumption:\n",
    "  - the energy consumption of the endpoint in jules\n",
    "  - Because of fysics we can not have negative energy consumption, so we can assume that the energy consumption is always positive.\n",
    "- Runtime:\n",
    "  - the time it took to run the endpoint in seconds\n",
    "  - Because of fysics we can not have negative time, so we can assume that the time is always positive.\n"
   ]
  },
  {
   "cell_type": "code",
   "execution_count": 6,
   "id": "253c00f8",
   "metadata": {},
   "outputs": [
    {
     "data": {
      "application/vnd.microsoft.datawrangler.viewer.v0+json": {
       "columns": [
        {
         "name": "index",
         "rawType": "int64",
         "type": "integer"
        },
        {
         "name": "application",
         "rawType": "object",
         "type": "string"
        },
        {
         "name": "endpoint",
         "rawType": "int64",
         "type": "integer"
        }
       ],
       "conversionMethod": "pd.DataFrame",
       "ref": "9298bfce-8a9f-4e0e-8e18-66cbdc5aed21",
       "rows": [
        [
         "0",
         "c-sharp-razor",
         "14"
        ],
        [
         "1",
         "go-gin",
         "14"
        ],
        [
         "2",
         "go-gorilla",
         "14"
        ],
        [
         "3",
         "javascript-express",
         "14"
        ],
        [
         "4",
         "python-flask",
         "14"
        ],
        [
         "5",
         "ruby-sinatra",
         "14"
        ],
        [
         "6",
         "rust-actix",
         "14"
        ]
       ],
       "shape": {
        "columns": 2,
        "rows": 7
       }
      },
      "text/html": [
       "<div>\n",
       "<style scoped>\n",
       "    .dataframe tbody tr th:only-of-type {\n",
       "        vertical-align: middle;\n",
       "    }\n",
       "\n",
       "    .dataframe tbody tr th {\n",
       "        vertical-align: top;\n",
       "    }\n",
       "\n",
       "    .dataframe thead th {\n",
       "        text-align: right;\n",
       "    }\n",
       "</style>\n",
       "<table border=\"1\" class=\"dataframe\">\n",
       "  <thead>\n",
       "    <tr style=\"text-align: right;\">\n",
       "      <th></th>\n",
       "      <th>application</th>\n",
       "      <th>endpoint</th>\n",
       "    </tr>\n",
       "  </thead>\n",
       "  <tbody>\n",
       "    <tr>\n",
       "      <th>0</th>\n",
       "      <td>c-sharp-razor</td>\n",
       "      <td>14</td>\n",
       "    </tr>\n",
       "    <tr>\n",
       "      <th>1</th>\n",
       "      <td>go-gin</td>\n",
       "      <td>14</td>\n",
       "    </tr>\n",
       "    <tr>\n",
       "      <th>2</th>\n",
       "      <td>go-gorilla</td>\n",
       "      <td>14</td>\n",
       "    </tr>\n",
       "    <tr>\n",
       "      <th>3</th>\n",
       "      <td>javascript-express</td>\n",
       "      <td>14</td>\n",
       "    </tr>\n",
       "    <tr>\n",
       "      <th>4</th>\n",
       "      <td>python-flask</td>\n",
       "      <td>14</td>\n",
       "    </tr>\n",
       "    <tr>\n",
       "      <th>5</th>\n",
       "      <td>ruby-sinatra</td>\n",
       "      <td>14</td>\n",
       "    </tr>\n",
       "    <tr>\n",
       "      <th>6</th>\n",
       "      <td>rust-actix</td>\n",
       "      <td>14</td>\n",
       "    </tr>\n",
       "  </tbody>\n",
       "</table>\n",
       "</div>"
      ],
      "text/plain": [
       "          application  endpoint\n",
       "0       c-sharp-razor        14\n",
       "1              go-gin        14\n",
       "2          go-gorilla        14\n",
       "3  javascript-express        14\n",
       "4        python-flask        14\n",
       "5        ruby-sinatra        14\n",
       "6          rust-actix        14"
      ]
     },
     "execution_count": 6,
     "metadata": {},
     "output_type": "execute_result"
    }
   ],
   "source": [
    "# check if all applications have the same number of endpoints\n",
    "df.groupby('application').endpoint.nunique().reset_index().sort_values('endpoint', ascending=False)"
   ]
  },
  {
   "cell_type": "markdown",
   "id": "ea959a2e",
   "metadata": {},
   "source": [
    "# H1\n",
    "> The web framework `c-sharp-razor` consumes more energy than any other web framework in the dataset."
   ]
  },
  {
   "cell_type": "code",
   "execution_count": 7,
   "id": "33ee4409",
   "metadata": {},
   "outputs": [
    {
     "name": "stderr",
     "output_type": "stream",
     "text": [
      "Initializing NUTS using jitter+adapt_diag...\n",
      "Multiprocess sampling (4 chains in 4 jobs)\n",
      "NUTS: [mu_csharp, mu_other, sigma_csharp, sigma_other]\n"
     ]
    },
    {
     "data": {
      "application/vnd.jupyter.widget-view+json": {
       "model_id": "ef79da78dca847bfb5964976bc337a25",
       "version_major": 2,
       "version_minor": 0
      },
      "text/plain": [
       "Output()"
      ]
     },
     "metadata": {},
     "output_type": "display_data"
    },
    {
     "data": {
      "text/html": [
       "<pre style=\"white-space:pre;overflow-x:auto;line-height:normal;font-family:Menlo,'DejaVu Sans Mono',consolas,'Courier New',monospace\"></pre>\n"
      ],
      "text/plain": []
     },
     "metadata": {},
     "output_type": "display_data"
    },
    {
     "name": "stderr",
     "output_type": "stream",
     "text": [
      "Sampling 4 chains for 1_000 tune and 1_000 draw iterations (4_000 + 4_000 draws total) took 34 seconds.\n"
     ]
    }
   ],
   "source": [
    "# Filter data for c-sharp-razor and other frameworks\n",
    "c_sharp_razor_data = df[df['application'] == 'c-sharp-razor']['energy_consumption']\n",
    "other_frameworks_data = df[df['application'] != 'c-sharp-razor']['energy_consumption']\n",
    "\n",
    "# PyMC model\n",
    "with pm.Model() as model_vs:\n",
    "    # Priors for the means and standard deviations\n",
    "    mu_csharp = pm.Normal('mu_csharp', mu=0, sigma=10)\n",
    "    mu_other = pm.Normal('mu_other', mu=0, sigma=10)\n",
    "    sigma_csharp = pm.HalfNormal('sigma_csharp', sigma=10)\n",
    "    sigma_other = pm.HalfNormal('sigma_other', sigma=10)\n",
    "\n",
    "    # Likelihoods for the observed data\n",
    "    csharp_obs = pm.Normal('csharp_obs', mu=mu_csharp, sigma=sigma_csharp, observed=c_sharp_razor_data)\n",
    "    other_obs = pm.Normal('other_obs', mu=mu_other, sigma=sigma_other, observed=other_frameworks_data)\n",
    "\n",
    "    # Difference in means\n",
    "    diff = pm.Deterministic('diff', mu_csharp - mu_other)\n",
    "\n",
    "    # Sampling\n",
    "    trace = pm.sample(1000, return_inferencedata=True)"
   ]
  },
  {
   "cell_type": "code",
   "execution_count": 8,
   "id": "b781e172",
   "metadata": {},
   "outputs": [
    {
     "name": "stderr",
     "output_type": "stream",
     "text": [
      "Sampling: [csharp_obs, mu_csharp, mu_other, other_obs, sigma_csharp, sigma_other]\n"
     ]
    }
   ],
   "source": [
    "with model_vs:\n",
    "    model_vs_prior_pred = pm.sample_prior_predictive(samples = 400, random_seed = 42)"
   ]
  },
  {
   "cell_type": "code",
   "execution_count": 9,
   "id": "cbb34e82",
   "metadata": {},
   "outputs": [
    {
     "data": {
      "text/html": [
       "<div><svg style=\"position: absolute; width: 0; height: 0; overflow: hidden\">\n",
       "<defs>\n",
       "<symbol id=\"icon-database\" viewBox=\"0 0 32 32\">\n",
       "<path d=\"M16 0c-8.837 0-16 2.239-16 5v4c0 2.761 7.163 5 16 5s16-2.239 16-5v-4c0-2.761-7.163-5-16-5z\"></path>\n",
       "<path d=\"M16 17c-8.837 0-16-2.239-16-5v6c0 2.761 7.163 5 16 5s16-2.239 16-5v-6c0 2.761-7.163 5-16 5z\"></path>\n",
       "<path d=\"M16 26c-8.837 0-16-2.239-16-5v6c0 2.761 7.163 5 16 5s16-2.239 16-5v-6c0 2.761-7.163 5-16 5z\"></path>\n",
       "</symbol>\n",
       "<symbol id=\"icon-file-text2\" viewBox=\"0 0 32 32\">\n",
       "<path d=\"M28.681 7.159c-0.694-0.947-1.662-2.053-2.724-3.116s-2.169-2.030-3.116-2.724c-1.612-1.182-2.393-1.319-2.841-1.319h-15.5c-1.378 0-2.5 1.121-2.5 2.5v27c0 1.378 1.122 2.5 2.5 2.5h23c1.378 0 2.5-1.122 2.5-2.5v-19.5c0-0.448-0.137-1.23-1.319-2.841zM24.543 5.457c0.959 0.959 1.712 1.825 2.268 2.543h-4.811v-4.811c0.718 0.556 1.584 1.309 2.543 2.268zM28 29.5c0 0.271-0.229 0.5-0.5 0.5h-23c-0.271 0-0.5-0.229-0.5-0.5v-27c0-0.271 0.229-0.5 0.5-0.5 0 0 15.499-0 15.5 0v7c0 0.552 0.448 1 1 1h7v19.5z\"></path>\n",
       "<path d=\"M23 26h-14c-0.552 0-1-0.448-1-1s0.448-1 1-1h14c0.552 0 1 0.448 1 1s-0.448 1-1 1z\"></path>\n",
       "<path d=\"M23 22h-14c-0.552 0-1-0.448-1-1s0.448-1 1-1h14c0.552 0 1 0.448 1 1s-0.448 1-1 1z\"></path>\n",
       "<path d=\"M23 18h-14c-0.552 0-1-0.448-1-1s0.448-1 1-1h14c0.552 0 1 0.448 1 1s-0.448 1-1 1z\"></path>\n",
       "</symbol>\n",
       "</defs>\n",
       "</svg>\n",
       "<style>/* CSS stylesheet for displaying xarray objects in jupyterlab.\n",
       " *\n",
       " */\n",
       "\n",
       ":root {\n",
       "  --xr-font-color0: var(--jp-content-font-color0, rgba(0, 0, 0, 1));\n",
       "  --xr-font-color2: var(--jp-content-font-color2, rgba(0, 0, 0, 0.54));\n",
       "  --xr-font-color3: var(--jp-content-font-color3, rgba(0, 0, 0, 0.38));\n",
       "  --xr-border-color: var(--jp-border-color2, #e0e0e0);\n",
       "  --xr-disabled-color: var(--jp-layout-color3, #bdbdbd);\n",
       "  --xr-background-color: var(--jp-layout-color0, white);\n",
       "  --xr-background-color-row-even: var(--jp-layout-color1, white);\n",
       "  --xr-background-color-row-odd: var(--jp-layout-color2, #eeeeee);\n",
       "}\n",
       "\n",
       "html[theme=\"dark\"],\n",
       "html[data-theme=\"dark\"],\n",
       "body[data-theme=\"dark\"],\n",
       "body.vscode-dark {\n",
       "  --xr-font-color0: rgba(255, 255, 255, 1);\n",
       "  --xr-font-color2: rgba(255, 255, 255, 0.54);\n",
       "  --xr-font-color3: rgba(255, 255, 255, 0.38);\n",
       "  --xr-border-color: #1f1f1f;\n",
       "  --xr-disabled-color: #515151;\n",
       "  --xr-background-color: #111111;\n",
       "  --xr-background-color-row-even: #111111;\n",
       "  --xr-background-color-row-odd: #313131;\n",
       "}\n",
       "\n",
       ".xr-wrap {\n",
       "  display: block !important;\n",
       "  min-width: 300px;\n",
       "  max-width: 700px;\n",
       "}\n",
       "\n",
       ".xr-text-repr-fallback {\n",
       "  /* fallback to plain text repr when CSS is not injected (untrusted notebook) */\n",
       "  display: none;\n",
       "}\n",
       "\n",
       ".xr-header {\n",
       "  padding-top: 6px;\n",
       "  padding-bottom: 6px;\n",
       "  margin-bottom: 4px;\n",
       "  border-bottom: solid 1px var(--xr-border-color);\n",
       "}\n",
       "\n",
       ".xr-header > div,\n",
       ".xr-header > ul {\n",
       "  display: inline;\n",
       "  margin-top: 0;\n",
       "  margin-bottom: 0;\n",
       "}\n",
       "\n",
       ".xr-obj-type,\n",
       ".xr-array-name {\n",
       "  margin-left: 2px;\n",
       "  margin-right: 10px;\n",
       "}\n",
       "\n",
       ".xr-obj-type {\n",
       "  color: var(--xr-font-color2);\n",
       "}\n",
       "\n",
       ".xr-sections {\n",
       "  padding-left: 0 !important;\n",
       "  display: grid;\n",
       "  grid-template-columns: 150px auto auto 1fr 0 20px 0 20px;\n",
       "}\n",
       "\n",
       ".xr-section-item {\n",
       "  display: contents;\n",
       "}\n",
       "\n",
       ".xr-section-item input {\n",
       "  display: inline-block;\n",
       "  opacity: 0;\n",
       "  height: 0;\n",
       "}\n",
       "\n",
       ".xr-section-item input + label {\n",
       "  color: var(--xr-disabled-color);\n",
       "}\n",
       "\n",
       ".xr-section-item input:enabled + label {\n",
       "  cursor: pointer;\n",
       "  color: var(--xr-font-color2);\n",
       "}\n",
       "\n",
       ".xr-section-item input:focus + label {\n",
       "  border: 2px solid var(--xr-font-color0);\n",
       "}\n",
       "\n",
       ".xr-section-item input:enabled + label:hover {\n",
       "  color: var(--xr-font-color0);\n",
       "}\n",
       "\n",
       ".xr-section-summary {\n",
       "  grid-column: 1;\n",
       "  color: var(--xr-font-color2);\n",
       "  font-weight: 500;\n",
       "}\n",
       "\n",
       ".xr-section-summary > span {\n",
       "  display: inline-block;\n",
       "  padding-left: 0.5em;\n",
       "}\n",
       "\n",
       ".xr-section-summary-in:disabled + label {\n",
       "  color: var(--xr-font-color2);\n",
       "}\n",
       "\n",
       ".xr-section-summary-in + label:before {\n",
       "  display: inline-block;\n",
       "  content: \"►\";\n",
       "  font-size: 11px;\n",
       "  width: 15px;\n",
       "  text-align: center;\n",
       "}\n",
       "\n",
       ".xr-section-summary-in:disabled + label:before {\n",
       "  color: var(--xr-disabled-color);\n",
       "}\n",
       "\n",
       ".xr-section-summary-in:checked + label:before {\n",
       "  content: \"▼\";\n",
       "}\n",
       "\n",
       ".xr-section-summary-in:checked + label > span {\n",
       "  display: none;\n",
       "}\n",
       "\n",
       ".xr-section-summary,\n",
       ".xr-section-inline-details {\n",
       "  padding-top: 4px;\n",
       "  padding-bottom: 4px;\n",
       "}\n",
       "\n",
       ".xr-section-inline-details {\n",
       "  grid-column: 2 / -1;\n",
       "}\n",
       "\n",
       ".xr-section-details {\n",
       "  display: none;\n",
       "  grid-column: 1 / -1;\n",
       "  margin-bottom: 5px;\n",
       "}\n",
       "\n",
       ".xr-section-summary-in:checked ~ .xr-section-details {\n",
       "  display: contents;\n",
       "}\n",
       "\n",
       ".xr-array-wrap {\n",
       "  grid-column: 1 / -1;\n",
       "  display: grid;\n",
       "  grid-template-columns: 20px auto;\n",
       "}\n",
       "\n",
       ".xr-array-wrap > label {\n",
       "  grid-column: 1;\n",
       "  vertical-align: top;\n",
       "}\n",
       "\n",
       ".xr-preview {\n",
       "  color: var(--xr-font-color3);\n",
       "}\n",
       "\n",
       ".xr-array-preview,\n",
       ".xr-array-data {\n",
       "  padding: 0 5px !important;\n",
       "  grid-column: 2;\n",
       "}\n",
       "\n",
       ".xr-array-data,\n",
       ".xr-array-in:checked ~ .xr-array-preview {\n",
       "  display: none;\n",
       "}\n",
       "\n",
       ".xr-array-in:checked ~ .xr-array-data,\n",
       ".xr-array-preview {\n",
       "  display: inline-block;\n",
       "}\n",
       "\n",
       ".xr-dim-list {\n",
       "  display: inline-block !important;\n",
       "  list-style: none;\n",
       "  padding: 0 !important;\n",
       "  margin: 0;\n",
       "}\n",
       "\n",
       ".xr-dim-list li {\n",
       "  display: inline-block;\n",
       "  padding: 0;\n",
       "  margin: 0;\n",
       "}\n",
       "\n",
       ".xr-dim-list:before {\n",
       "  content: \"(\";\n",
       "}\n",
       "\n",
       ".xr-dim-list:after {\n",
       "  content: \")\";\n",
       "}\n",
       "\n",
       ".xr-dim-list li:not(:last-child):after {\n",
       "  content: \",\";\n",
       "  padding-right: 5px;\n",
       "}\n",
       "\n",
       ".xr-has-index {\n",
       "  font-weight: bold;\n",
       "}\n",
       "\n",
       ".xr-var-list,\n",
       ".xr-var-item {\n",
       "  display: contents;\n",
       "}\n",
       "\n",
       ".xr-var-item > div,\n",
       ".xr-var-item label,\n",
       ".xr-var-item > .xr-var-name span {\n",
       "  background-color: var(--xr-background-color-row-even);\n",
       "  margin-bottom: 0;\n",
       "}\n",
       "\n",
       ".xr-var-item > .xr-var-name:hover span {\n",
       "  padding-right: 5px;\n",
       "}\n",
       "\n",
       ".xr-var-list > li:nth-child(odd) > div,\n",
       ".xr-var-list > li:nth-child(odd) > label,\n",
       ".xr-var-list > li:nth-child(odd) > .xr-var-name span {\n",
       "  background-color: var(--xr-background-color-row-odd);\n",
       "}\n",
       "\n",
       ".xr-var-name {\n",
       "  grid-column: 1;\n",
       "}\n",
       "\n",
       ".xr-var-dims {\n",
       "  grid-column: 2;\n",
       "}\n",
       "\n",
       ".xr-var-dtype {\n",
       "  grid-column: 3;\n",
       "  text-align: right;\n",
       "  color: var(--xr-font-color2);\n",
       "}\n",
       "\n",
       ".xr-var-preview {\n",
       "  grid-column: 4;\n",
       "}\n",
       "\n",
       ".xr-index-preview {\n",
       "  grid-column: 2 / 5;\n",
       "  color: var(--xr-font-color2);\n",
       "}\n",
       "\n",
       ".xr-var-name,\n",
       ".xr-var-dims,\n",
       ".xr-var-dtype,\n",
       ".xr-preview,\n",
       ".xr-attrs dt {\n",
       "  white-space: nowrap;\n",
       "  overflow: hidden;\n",
       "  text-overflow: ellipsis;\n",
       "  padding-right: 10px;\n",
       "}\n",
       "\n",
       ".xr-var-name:hover,\n",
       ".xr-var-dims:hover,\n",
       ".xr-var-dtype:hover,\n",
       ".xr-attrs dt:hover {\n",
       "  overflow: visible;\n",
       "  width: auto;\n",
       "  z-index: 1;\n",
       "}\n",
       "\n",
       ".xr-var-attrs,\n",
       ".xr-var-data,\n",
       ".xr-index-data {\n",
       "  display: none;\n",
       "  background-color: var(--xr-background-color) !important;\n",
       "  padding-bottom: 5px !important;\n",
       "}\n",
       "\n",
       ".xr-var-attrs-in:checked ~ .xr-var-attrs,\n",
       ".xr-var-data-in:checked ~ .xr-var-data,\n",
       ".xr-index-data-in:checked ~ .xr-index-data {\n",
       "  display: block;\n",
       "}\n",
       "\n",
       ".xr-var-data > table {\n",
       "  float: right;\n",
       "}\n",
       "\n",
       ".xr-var-name span,\n",
       ".xr-var-data,\n",
       ".xr-index-name div,\n",
       ".xr-index-data,\n",
       ".xr-attrs {\n",
       "  padding-left: 25px !important;\n",
       "}\n",
       "\n",
       ".xr-attrs,\n",
       ".xr-var-attrs,\n",
       ".xr-var-data,\n",
       ".xr-index-data {\n",
       "  grid-column: 1 / -1;\n",
       "}\n",
       "\n",
       "dl.xr-attrs {\n",
       "  padding: 0;\n",
       "  margin: 0;\n",
       "  display: grid;\n",
       "  grid-template-columns: 125px auto;\n",
       "}\n",
       "\n",
       ".xr-attrs dt,\n",
       ".xr-attrs dd {\n",
       "  padding: 0;\n",
       "  margin: 0;\n",
       "  float: left;\n",
       "  padding-right: 10px;\n",
       "  width: auto;\n",
       "}\n",
       "\n",
       ".xr-attrs dt {\n",
       "  font-weight: normal;\n",
       "  grid-column: 1;\n",
       "}\n",
       "\n",
       ".xr-attrs dt:hover span {\n",
       "  display: inline-block;\n",
       "  background: var(--xr-background-color);\n",
       "  padding-right: 10px;\n",
       "}\n",
       "\n",
       ".xr-attrs dd {\n",
       "  grid-column: 2;\n",
       "  white-space: pre-wrap;\n",
       "  word-break: break-all;\n",
       "}\n",
       "\n",
       ".xr-icon-database,\n",
       ".xr-icon-file-text2,\n",
       ".xr-no-icon {\n",
       "  display: inline-block;\n",
       "  vertical-align: middle;\n",
       "  width: 1em;\n",
       "  height: 1.5em !important;\n",
       "  stroke-width: 0;\n",
       "  stroke: currentColor;\n",
       "  fill: currentColor;\n",
       "}\n",
       "</style><pre class='xr-text-repr-fallback'>&lt;xarray.Dataset&gt; Size: 18kB\n",
       "Dimensions:       (draw: 400)\n",
       "Coordinates:\n",
       "    chain         int32 4B 0\n",
       "  * draw          (draw) int32 2kB 0 1 2 3 4 5 6 ... 393 394 395 396 397 398 399\n",
       "Data variables:\n",
       "    sigma_other   (draw) float64 3kB 4.183 6.056 0.2879 ... 4.784 2.547 2.046\n",
       "    mu_other      (draw) float64 3kB -1.004 14.6 -15.82 ... -2.07 -7.839 15.07\n",
       "    sigma_csharp  (draw) float64 3kB 12.54 6.063 13.4 10.69 ... 1.489 6.364 7.85\n",
       "    diff          (draw) float64 3kB -2.429 -31.21 11.96 ... 16.42 11.5 -43.31\n",
       "    mu_csharp     (draw) float64 3kB -3.433 -16.61 -3.855 ... 14.35 3.66 -28.24\n",
       "Attributes:\n",
       "    created_at:                 2025-05-07T11:28:41.219469+00:00\n",
       "    arviz_version:              0.20.0\n",
       "    inference_library:          pymc\n",
       "    inference_library_version:  5.20.1</pre><div class='xr-wrap' style='display:none'><div class='xr-header'><div class='xr-obj-type'>xarray.Dataset</div></div><ul class='xr-sections'><li class='xr-section-item'><input id='section-5f35deb4-a660-46ef-8b10-8c7e3291ee85' class='xr-section-summary-in' type='checkbox' disabled ><label for='section-5f35deb4-a660-46ef-8b10-8c7e3291ee85' class='xr-section-summary'  title='Expand/collapse section'>Dimensions:</label><div class='xr-section-inline-details'><ul class='xr-dim-list'><li><span class='xr-has-index'>draw</span>: 400</li></ul></div><div class='xr-section-details'></div></li><li class='xr-section-item'><input id='section-b35c589e-9444-4dda-b8a8-177355a3de93' class='xr-section-summary-in' type='checkbox'  checked><label for='section-b35c589e-9444-4dda-b8a8-177355a3de93' class='xr-section-summary' >Coordinates: <span>(2)</span></label><div class='xr-section-inline-details'></div><div class='xr-section-details'><ul class='xr-var-list'><li class='xr-var-item'><div class='xr-var-name'><span>chain</span></div><div class='xr-var-dims'>()</div><div class='xr-var-dtype'>int32</div><div class='xr-var-preview xr-preview'>0</div><input id='attrs-bd705e98-3398-40c2-8d18-f649e344686b' class='xr-var-attrs-in' type='checkbox' disabled><label for='attrs-bd705e98-3398-40c2-8d18-f649e344686b' title='Show/Hide attributes'><svg class='icon xr-icon-file-text2'><use xlink:href='#icon-file-text2'></use></svg></label><input id='data-1bb01d35-96fa-4312-abf9-ff95a19ddf05' class='xr-var-data-in' type='checkbox'><label for='data-1bb01d35-96fa-4312-abf9-ff95a19ddf05' title='Show/Hide data repr'><svg class='icon xr-icon-database'><use xlink:href='#icon-database'></use></svg></label><div class='xr-var-attrs'><dl class='xr-attrs'></dl></div><div class='xr-var-data'><pre>array(0)</pre></div></li><li class='xr-var-item'><div class='xr-var-name'><span class='xr-has-index'>draw</span></div><div class='xr-var-dims'>(draw)</div><div class='xr-var-dtype'>int32</div><div class='xr-var-preview xr-preview'>0 1 2 3 4 5 ... 395 396 397 398 399</div><input id='attrs-fe3e5020-19db-417f-bb6b-c8cc9185c13e' class='xr-var-attrs-in' type='checkbox' disabled><label for='attrs-fe3e5020-19db-417f-bb6b-c8cc9185c13e' title='Show/Hide attributes'><svg class='icon xr-icon-file-text2'><use xlink:href='#icon-file-text2'></use></svg></label><input id='data-085d0eba-d580-45a4-9b59-ae13b88489b3' class='xr-var-data-in' type='checkbox'><label for='data-085d0eba-d580-45a4-9b59-ae13b88489b3' title='Show/Hide data repr'><svg class='icon xr-icon-database'><use xlink:href='#icon-database'></use></svg></label><div class='xr-var-attrs'><dl class='xr-attrs'></dl></div><div class='xr-var-data'><pre>array([  0,   1,   2, ..., 397, 398, 399])</pre></div></li></ul></div></li><li class='xr-section-item'><input id='section-3b075080-0f9c-4ab2-8e39-f0fc5c6dd833' class='xr-section-summary-in' type='checkbox'  checked><label for='section-3b075080-0f9c-4ab2-8e39-f0fc5c6dd833' class='xr-section-summary' >Data variables: <span>(5)</span></label><div class='xr-section-inline-details'></div><div class='xr-section-details'><ul class='xr-var-list'><li class='xr-var-item'><div class='xr-var-name'><span>sigma_other</span></div><div class='xr-var-dims'>(draw)</div><div class='xr-var-dtype'>float64</div><div class='xr-var-preview xr-preview'>4.183 6.056 0.2879 ... 2.547 2.046</div><input id='attrs-b9dfed72-62f7-4409-ad1c-e0d9e2c239dd' class='xr-var-attrs-in' type='checkbox' disabled><label for='attrs-b9dfed72-62f7-4409-ad1c-e0d9e2c239dd' title='Show/Hide attributes'><svg class='icon xr-icon-file-text2'><use xlink:href='#icon-file-text2'></use></svg></label><input id='data-f0a8e244-8b75-4907-b82e-0e3156702805' class='xr-var-data-in' type='checkbox'><label for='data-f0a8e244-8b75-4907-b82e-0e3156702805' title='Show/Hide data repr'><svg class='icon xr-icon-database'><use xlink:href='#icon-database'></use></svg></label><div class='xr-var-attrs'><dl class='xr-attrs'></dl></div><div class='xr-var-data'><pre>array([ 4.18329965,  6.05576174,  0.2878786 , 10.84245999, 14.64220977,\n",
       "        2.90727355, 13.3075642 ,  0.34723462,  2.80418475,  1.07493071,\n",
       "       19.20800855, 15.78644988, 10.05957191,  4.51215047,  5.93433671,\n",
       "        0.9382112 , 18.51958669,  2.55904748,  2.82986373,  4.15816003,\n",
       "       10.88774014, 19.67291648,  8.87378458, 13.28237841,  1.31579807,\n",
       "        3.61969293,  7.82031105,  2.82663987, 10.05950133,  0.18512136,\n",
       "       12.43159525, 26.03375854,  1.51392232,  5.15530617,  2.19637398,\n",
       "        4.02345912, 13.61288285,  7.42877368,  9.36852176,  1.75470311,\n",
       "       15.25204183,  0.98214473, 11.64903565,  5.23587907, 10.6559789 ,\n",
       "        3.10791134,  5.55952398,  0.99634762,  2.57690782, 15.89518692,\n",
       "       18.14912286,  5.36173047, 12.71389787,  5.54038908, 17.2433064 ,\n",
       "        3.11785691,  0.6331837 , 13.82127648,  5.84728126,  5.09750138,\n",
       "        2.51333498,  4.06217238,  8.65637603,  5.3392518 ,  0.38778286,\n",
       "       11.42634157,  4.63506282, 22.66922594,  5.287392  ,  3.24615855,\n",
       "        1.544165  ,  8.19607713, 12.02935725,  0.95448375, 13.61743402,\n",
       "        2.77370159,  3.06659168, 14.0419209 , 15.38971756, 15.96927189,\n",
       "       12.68357058,  7.44444533, 13.79033285,  3.72894177,  2.25219044,\n",
       "        7.96899898,  1.9003288 ,  4.05208181, 15.66706006, 16.22262356,\n",
       "        5.58645305, 12.85027003,  6.48879917,  6.42422687, 21.70433339,\n",
       "        5.49192447,  0.31924228,  7.44391488, 13.0574661 ,  8.70002508,\n",
       "...\n",
       "       11.89337485,  2.12424471,  0.26522671,  2.76301533, 15.43892418,\n",
       "        4.64397934,  0.38635458, 21.66116613, 16.4557186 , 13.79417885,\n",
       "        0.22623707, 12.41175647,  3.83683129,  6.24332561,  6.97224793,\n",
       "       10.51398398,  7.34188817,  2.32992853,  7.54392929,  1.79534545,\n",
       "        0.58775837, 14.14171059,  1.16336391,  2.64644874, 28.44313282,\n",
       "       19.00386062,  2.55127324, 14.00458006, 16.47077715,  8.15997754,\n",
       "       13.77795904,  8.40164917,  5.33262951,  3.71303534,  7.13515207,\n",
       "        1.88912972, 15.28259336,  4.89242169, 15.36115767,  9.56774162,\n",
       "       12.15817943,  4.01688641,  0.33058161,  0.4687855 ,  7.87384594,\n",
       "        5.80634647,  0.26455248,  7.64793727,  7.14022489,  3.39550492,\n",
       "       13.31906509,  0.44711003,  0.2008487 ,  9.80777916, 18.68514195,\n",
       "        1.41063842,  5.42734229, 17.54081009, 20.91322582,  0.16787768,\n",
       "        0.33339213, 16.18520485,  4.63280896,  2.57989946,  8.22371617,\n",
       "        3.15472189, 15.63096354,  7.15301981,  1.26162293,  2.43062652,\n",
       "       12.13930307,  0.33261735, 15.62116812,  6.11714812,  1.04850629,\n",
       "       12.50274034,  8.25659292,  0.36120888,  3.78633101, 24.57683232,\n",
       "        5.55577404,  0.5666101 ,  9.62645261, 14.96629035,  8.6181319 ,\n",
       "        3.93367924,  2.10880536, 15.20930293,  6.86590095,  0.47851937,\n",
       "        0.4965364 ,  0.82755449, 11.19213763, 13.52838614, 11.6737392 ,\n",
       "        1.64952801,  4.16318269,  4.78443568,  2.54671722,  2.04552537])</pre></div></li><li class='xr-var-item'><div class='xr-var-name'><span>mu_other</span></div><div class='xr-var-dims'>(draw)</div><div class='xr-var-dtype'>float64</div><div class='xr-var-preview xr-preview'>-1.004 14.6 -15.82 ... -7.839 15.07</div><input id='attrs-f5cf5fef-73ac-4e54-b92a-1d2fea3a439e' class='xr-var-attrs-in' type='checkbox' disabled><label for='attrs-f5cf5fef-73ac-4e54-b92a-1d2fea3a439e' title='Show/Hide attributes'><svg class='icon xr-icon-file-text2'><use xlink:href='#icon-file-text2'></use></svg></label><input id='data-27f15b65-262a-4459-8c0b-e87e2198c80c' class='xr-var-data-in' type='checkbox'><label for='data-27f15b65-262a-4459-8c0b-e87e2198c80c' title='Show/Hide data repr'><svg class='icon xr-icon-database'><use xlink:href='#icon-database'></use></svg></label><div class='xr-var-attrs'><dl class='xr-attrs'></dl></div><div class='xr-var-data'><pre>array([ -1.00425348,  14.601151  , -15.81619937,   0.32891174,\n",
       "        -8.58895375,   6.00596891,  20.50954043,  10.87867329,\n",
       "        14.79568343,  13.9849756 ,   7.3703816 ,  -5.07831954,\n",
       "         4.14866945,  -9.0195063 ,  -2.06228696,   8.37411502,\n",
       "       -10.62349663, -10.80754894,   1.97380851,  -3.91858739,\n",
       "         3.81621953,  -4.95632458,   7.87657319,  -2.8655597 ,\n",
       "        -5.49061203, -15.81960775,  -9.4298402 , -12.53222517,\n",
       "         2.13120417, -17.6555511 ,  -0.06516541,  -7.54913191,\n",
       "        -8.02156609,   0.98716027,  -4.87463526,   6.01915871,\n",
       "        19.39312948,   6.45417099,   9.91101647,   9.96887066,\n",
       "       -19.01101152,   1.38443533,   6.57242236,  -4.62777577,\n",
       "         3.37252963,  -3.86062299,   6.76104273, -11.90165186,\n",
       "        13.66845128,  -2.63426378,  -7.50477953,  -9.61261053,\n",
       "        -4.46406863,   7.43236689,  -4.31733552,  16.62262179,\n",
       "         7.00419561,  -2.81500729, -10.22375175, -15.82358771,\n",
       "         8.23293392,  16.25185067,  16.00776651,  -4.11622357,\n",
       "        -1.20527658,   3.25651837,   0.86474033,   0.41548471,\n",
       "        -5.91131575,  13.46254911, -17.61261916,  -4.5861608 ,\n",
       "        -7.24617308,  13.04243072,   7.81426445,   6.4642112 ,\n",
       "         3.13535665,  -1.68171883,  -5.33541926,  -3.48798065,\n",
       "...\n",
       "        15.00331619,  -6.04737026, -10.9050716 ,  -9.50145085,\n",
       "       -10.50258881,   2.75490052,  -6.68198959, -25.75369187,\n",
       "        -5.395602  ,  12.48806317,  -5.03087751,  -3.66854947,\n",
       "        14.20353817,  -4.44818302,  -4.35199407,   7.19316191,\n",
       "        24.62206425, -24.55513407,   7.40884337, -10.46515958,\n",
       "         3.58912769,  -0.57773467,  19.5562093 , -11.61395897,\n",
       "         1.53551414, -28.00420025,  -0.94987393,   9.4317834 ,\n",
       "         7.5189196 ,  -0.66802703,   2.74197295,  -6.65694423,\n",
       "       -16.17694479, -13.27987719,   1.51368459,   7.29333975,\n",
       "        -2.5046457 ,  11.81326977,   5.93027442,  -0.98668428,\n",
       "        -8.07114837, -11.69372479, -10.60057601,   1.27370302,\n",
       "       -12.55654534, -18.79239901,  -8.53437856,   3.5099559 ,\n",
       "        13.89112559,  -1.26443554,   8.90354778,  21.6366052 ,\n",
       "        -8.67037958,   0.7028419 ,  -6.76790622,   5.16501268,\n",
       "       -10.07204343,  -1.69101696,   4.10316104,   7.02589085,\n",
       "        12.16829987,  -2.43369828,  -1.29435523,   5.55696028,\n",
       "        -2.97678529,   1.30929913,  12.33736116, -13.51861205,\n",
       "         0.46689247,  16.06039333,  18.56492463, -12.5677769 ,\n",
       "        -0.48469883,  15.85583548,   2.42656485,  11.47485081,\n",
       "         2.99960886,  -2.07025011,  -7.83907831,  15.07290884])</pre></div></li><li class='xr-var-item'><div class='xr-var-name'><span>sigma_csharp</span></div><div class='xr-var-dims'>(draw)</div><div class='xr-var-dtype'>float64</div><div class='xr-var-preview xr-preview'>12.54 6.063 13.4 ... 6.364 7.85</div><input id='attrs-fd462780-d7c7-4abe-94f2-209dd40bed68' class='xr-var-attrs-in' type='checkbox' disabled><label for='attrs-fd462780-d7c7-4abe-94f2-209dd40bed68' title='Show/Hide attributes'><svg class='icon xr-icon-file-text2'><use xlink:href='#icon-file-text2'></use></svg></label><input id='data-b1a87690-60ef-419a-8060-1d13fa50c8d1' class='xr-var-data-in' type='checkbox'><label for='data-b1a87690-60ef-419a-8060-1d13fa50c8d1' title='Show/Hide data repr'><svg class='icon xr-icon-database'><use xlink:href='#icon-database'></use></svg></label><div class='xr-var-attrs'><dl class='xr-attrs'></dl></div><div class='xr-var-data'><pre>array([1.25449437e+01, 6.06289440e+00, 1.34017760e+01, 1.06913733e+01,\n",
       "       1.34347243e+01, 2.28717990e+01, 9.35168241e+00, 1.52642827e+01,\n",
       "       5.34727079e-02, 1.13549160e+01, 1.53544757e+01, 5.00906936e+00,\n",
       "       3.62857166e+00, 1.34906970e+01, 1.64516398e+00, 1.58020939e+01,\n",
       "       2.04512030e-01, 4.33927836e+00, 9.65291177e-01, 4.86275686e+00,\n",
       "       6.79542658e+00, 1.12001049e+01, 1.23881778e+01, 7.45197731e+00,\n",
       "       6.73665837e+00, 1.59397787e+01, 7.54631580e+00, 1.01038290e+01,\n",
       "       2.13751010e+01, 7.25928183e+00, 1.23927765e+01, 9.12210721e+00,\n",
       "       4.59251562e+00, 6.50899475e+00, 9.68106057e+00, 7.99913017e+00,\n",
       "       1.40247058e+01, 1.48450009e+01, 1.37031745e+01, 1.10922355e+01,\n",
       "       5.45103317e-01, 1.33342683e+01, 1.72341941e+01, 4.09362524e+00,\n",
       "       4.16687448e+00, 1.09770432e+01, 8.36776252e-01, 1.42639338e+01,\n",
       "       1.44576877e+01, 1.12858597e+01, 2.38031345e+00, 3.20812982e+00,\n",
       "       1.84593474e+01, 4.84111107e+00, 9.33584761e+00, 6.04450844e+00,\n",
       "       6.58731310e+00, 1.72447360e+00, 1.24497859e+01, 3.72778188e+00,\n",
       "       1.62297494e+01, 8.56234565e+00, 1.18815510e+01, 1.27891056e+01,\n",
       "       1.20678608e+01, 7.18333249e+00, 1.22590360e+01, 2.71310317e+01,\n",
       "       1.06666416e+01, 1.39837448e+01, 1.55864081e+01, 1.28140912e+01,\n",
       "       1.01220078e+01, 7.34423332e+00, 7.91851870e+00, 7.94469860e+00,\n",
       "       1.82020327e+01, 7.36764958e+00, 5.25482149e+00, 1.46452678e+00,\n",
       "...\n",
       "       1.99351257e+00, 1.34488447e+00, 4.81573899e+00, 3.49661575e+00,\n",
       "       1.35562971e+01, 1.19925119e+01, 4.63737584e+00, 9.29633954e+00,\n",
       "       8.61721297e+00, 9.22228530e-01, 5.24309817e+00, 5.50738250e+00,\n",
       "       1.36023178e+01, 1.02353845e+01, 2.59049198e+01, 5.24907281e+00,\n",
       "       1.38885091e+00, 1.99854962e+01, 1.45620820e+01, 1.29419802e+01,\n",
       "       4.58420205e-02, 6.52768282e+00, 1.99069235e+01, 1.34886657e+01,\n",
       "       1.59377599e+00, 1.08537119e+01, 7.51123145e+00, 3.13679018e+00,\n",
       "       5.56945361e+00, 1.32587827e+00, 2.07179403e+01, 1.44477038e+01,\n",
       "       3.65030970e+00, 1.18185840e+01, 4.09566424e-01, 2.24564666e+00,\n",
       "       1.18335903e+01, 5.64363477e+00, 2.37421764e-01, 7.68274116e+00,\n",
       "       8.46510081e+00, 2.14154931e+01, 1.15478573e+00, 7.94991722e+00,\n",
       "       3.78257914e+00, 8.71887861e+00, 7.93317390e+00, 1.42155052e+01,\n",
       "       6.17180185e+00, 7.34743112e+00, 8.00545174e-01, 2.89973057e+00,\n",
       "       7.56381094e+00, 1.59333924e+01, 1.25941058e+01, 3.64550396e+00,\n",
       "       2.36989402e+01, 1.87204724e+01, 7.84283898e+00, 1.29053914e+01,\n",
       "       1.11318980e+01, 1.16414789e+01, 1.97964470e+01, 8.02844039e-01,\n",
       "       9.22513938e+00, 6.68752700e+00, 1.43620097e+01, 2.21826133e+01,\n",
       "       3.40833233e+00, 3.45571917e+00, 9.82464345e+00, 1.98764137e+01,\n",
       "       9.88063033e+00, 1.13036619e+01, 5.44183624e-01, 4.36303265e+00,\n",
       "       1.02011201e-01, 1.48920918e+00, 6.36404496e+00, 7.85032149e+00])</pre></div></li><li class='xr-var-item'><div class='xr-var-name'><span>diff</span></div><div class='xr-var-dims'>(draw)</div><div class='xr-var-dtype'>float64</div><div class='xr-var-preview xr-preview'>-2.429 -31.21 11.96 ... 11.5 -43.31</div><input id='attrs-b4d18ecd-714f-408f-b673-9827853a2726' class='xr-var-attrs-in' type='checkbox' disabled><label for='attrs-b4d18ecd-714f-408f-b673-9827853a2726' title='Show/Hide attributes'><svg class='icon xr-icon-file-text2'><use xlink:href='#icon-file-text2'></use></svg></label><input id='data-c6a29789-f4de-4bdd-ad4e-0de35665b9e2' class='xr-var-data-in' type='checkbox'><label for='data-c6a29789-f4de-4bdd-ad4e-0de35665b9e2' title='Show/Hide data repr'><svg class='icon xr-icon-database'><use xlink:href='#icon-database'></use></svg></label><div class='xr-var-attrs'><dl class='xr-attrs'></dl></div><div class='xr-var-data'><pre>array([ -2.42875309, -31.20620219,  11.96108352,  12.76193127,\n",
       "        10.3449549 , -17.95229056, -23.72208988,   1.74456582,\n",
       "       -27.24100758, -14.98622268,   8.86539589,  -6.85134616,\n",
       "         5.67117278,  12.46935569,  -4.43308992, -13.06524657,\n",
       "         6.00652005,  11.17946736, -19.99605195,  14.95495641,\n",
       "         0.07472239,  22.86287322,  -3.60136614, -12.15479511,\n",
       "        16.54285914,   5.9476099 ,   6.4018844 ,  20.98598197,\n",
       "        -9.53385297,  14.03757683,  -0.56084381,   1.34188754,\n",
       "         6.43006635,   6.54221885,   4.40351765,  -4.05078886,\n",
       "       -19.88003144,   7.08661956,  -4.70180491, -26.42566337,\n",
       "        13.10442442,   3.01681593,  -8.97148249,   5.91318221,\n",
       "         0.73388377,  23.45367166,  -5.25857447,   8.18481075,\n",
       "       -25.8087799 ,   0.1594998 ,  20.47259394,  20.13618092,\n",
       "        14.64451296,  -7.78080455,   6.24881739, -24.2545073 ,\n",
       "       -12.58827456,  -4.75689974,  22.08854052,  31.83466692,\n",
       "       -17.26005426, -18.50326778, -24.29633408,   4.85704682,\n",
       "        -6.31469052,   9.06684053,   5.47243335,   2.1768866 ,\n",
       "        22.35007704, -10.25928119,  25.38861032,   9.29415646,\n",
       "         4.88122751,  -8.24132746, -11.2183347 ,  -4.89555322,\n",
       "         0.67918397,   7.82769626,  -6.64008151,  -4.09446929,\n",
       "...\n",
       "        -3.14808008,  -4.07232161,  12.20821624,  18.48046655,\n",
       "        11.36021944,  -5.27937694,   6.61692237,  34.87805736,\n",
       "         3.50005554, -13.38897275,   2.62861593,   4.6312358 ,\n",
       "        -0.32050589, -18.95355445,  -2.69237829,  -7.99745485,\n",
       "       -16.05540079,  21.33048623, -19.31801565,   7.10500689,\n",
       "         2.66880427,  -4.45274585, -21.15591355,   5.48149786,\n",
       "         4.37946832,  44.98618952,  -0.36836255,  -5.64668303,\n",
       "        10.40082748,  -1.40096307,  -2.45118892,  10.92832554,\n",
       "        17.24130642,   4.32143092,  12.95836768, -14.38174727,\n",
       "        11.12953329,   6.41316165, -10.47449714,  16.14761289,\n",
       "        15.02947148,   6.77812521, -15.21198198,   5.01824619,\n",
       "        17.42741552,  14.46064416,  12.32443186, -11.67318181,\n",
       "         8.24534567,  -8.9267365 ,  -9.78336136, -26.88463329,\n",
       "        13.5156564 ,  -8.56555918,  17.66925217,  -6.36913878,\n",
       "        14.94735323,  -3.85735142, -17.59922544, -29.95182254,\n",
       "        -5.5101841 ,  -3.92720051,  -8.38934996,  -3.96614773,\n",
       "        13.60132428,  -8.19511594, -36.27878619,  15.89001401,\n",
       "        -9.31577645,  -7.95917955, -33.50454555,  11.60134637,\n",
       "        -1.23991022, -20.06608504, -15.18473571, -15.49181241,\n",
       "         2.71357337,  16.41741357,  11.49880327, -43.31107096])</pre></div></li><li class='xr-var-item'><div class='xr-var-name'><span>mu_csharp</span></div><div class='xr-var-dims'>(draw)</div><div class='xr-var-dtype'>float64</div><div class='xr-var-preview xr-preview'>-3.433 -16.61 ... 3.66 -28.24</div><input id='attrs-4002d12e-4f15-4ae4-80d9-7545cefb85aa' class='xr-var-attrs-in' type='checkbox' disabled><label for='attrs-4002d12e-4f15-4ae4-80d9-7545cefb85aa' title='Show/Hide attributes'><svg class='icon xr-icon-file-text2'><use xlink:href='#icon-file-text2'></use></svg></label><input id='data-1a453a0d-fec9-4911-b835-fa2adc6b2d4c' class='xr-var-data-in' type='checkbox'><label for='data-1a453a0d-fec9-4911-b835-fa2adc6b2d4c' title='Show/Hide data repr'><svg class='icon xr-icon-database'><use xlink:href='#icon-database'></use></svg></label><div class='xr-var-attrs'><dl class='xr-attrs'></dl></div><div class='xr-var-data'><pre>array([-3.43300657e+00, -1.66050512e+01, -3.85511585e+00,  1.30908430e+01,\n",
       "        1.75600114e+00, -1.19463217e+01, -3.21254945e+00,  1.26232391e+01,\n",
       "       -1.24453242e+01, -1.00124708e+00,  1.62357775e+01, -1.19296657e+01,\n",
       "        9.81984223e+00,  3.44984939e+00, -6.49537688e+00, -4.69113155e+00,\n",
       "       -4.61697657e+00,  3.71918420e-01, -1.80222434e+01,  1.10363690e+01,\n",
       "        3.89094192e+00,  1.79065486e+01,  4.27520705e+00, -1.50203548e+01,\n",
       "        1.10522471e+01, -9.87199785e+00, -3.02795580e+00,  8.45375680e+00,\n",
       "       -7.40264879e+00, -3.61797427e+00, -6.26009219e-01, -6.20724437e+00,\n",
       "       -1.59149973e+00,  7.52937912e+00, -4.71117605e-01,  1.96836986e+00,\n",
       "       -4.86901961e-01,  1.35407906e+01,  5.20921156e+00, -1.64567927e+01,\n",
       "       -5.90658710e+00,  4.40125126e+00, -2.39906012e+00,  1.28540644e+00,\n",
       "        4.10641340e+00,  1.95930487e+01,  1.50246827e+00, -3.71684111e+00,\n",
       "       -1.21403286e+01, -2.47476397e+00,  1.29678144e+01,  1.05235704e+01,\n",
       "        1.01804443e+01, -3.48437651e-01,  1.93148187e+00, -7.63188551e+00,\n",
       "       -5.58407895e+00, -7.57190703e+00,  1.18647888e+01,  1.60110792e+01,\n",
       "       -9.02712034e+00, -2.25141711e+00, -8.28856756e+00,  7.40823252e-01,\n",
       "       -7.51996709e+00,  1.23233589e+01,  6.33717368e+00,  2.59237131e+00,\n",
       "        1.64387613e+01,  3.20326792e+00,  7.77599116e+00,  4.70799565e+00,\n",
       "       -2.36494557e+00,  4.80110325e+00, -3.40407025e+00,  1.56865798e+00,\n",
       "        3.81454061e+00,  6.14597743e+00, -1.19755008e+01, -7.58244994e+00,\n",
       "...\n",
       "        1.18552361e+01, -1.01196919e+01,  1.30314464e+00,  8.97901570e+00,\n",
       "        8.57630626e-01, -2.52447642e+00, -6.50672199e-02,  9.12436549e+00,\n",
       "       -1.89554646e+00, -9.00909581e-01, -2.40226157e+00,  9.62686333e-01,\n",
       "        1.38830323e+01, -2.34017375e+01, -7.04437236e+00, -8.04292943e-01,\n",
       "        8.56666345e+00, -3.22464784e+00, -1.19091723e+01, -3.36015269e+00,\n",
       "        6.25793197e+00, -5.03048052e+00, -1.59970426e+00, -6.13246111e+00,\n",
       "        5.91498246e+00,  1.69819893e+01, -1.31823648e+00,  3.78510037e+00,\n",
       "        1.79197471e+01, -2.06899011e+00,  2.90784032e-01,  4.27138131e+00,\n",
       "        1.06436163e+00, -8.95844627e+00,  1.44720523e+01, -7.08840752e+00,\n",
       "        8.62488760e+00,  1.82264314e+01, -4.54422272e+00,  1.51609286e+01,\n",
       "        6.95832311e+00, -4.91559959e+00, -2.58125580e+01,  6.29194921e+00,\n",
       "        4.87087018e+00, -4.33175485e+00,  3.79005330e+00, -8.16322590e+00,\n",
       "        2.21364713e+01, -1.01911720e+01, -8.79813585e-01, -5.24802809e+00,\n",
       "        4.84527682e+00, -7.86271728e+00,  1.09013460e+01, -1.20412610e+00,\n",
       "        4.87530981e+00, -5.54836838e+00, -1.34960644e+01, -2.29259317e+01,\n",
       "        6.65811577e+00, -6.36089879e+00, -9.68370519e+00,  1.59081255e+00,\n",
       "        1.06245390e+01, -6.88581681e+00, -2.39414250e+01,  2.37140196e+00,\n",
       "       -8.84888399e+00,  8.10121378e+00, -1.49396209e+01, -9.66430535e-01,\n",
       "       -1.72460905e+00, -4.21024956e+00, -1.27581709e+01, -4.01696161e+00,\n",
       "        5.71318223e+00,  1.43471635e+01,  3.65972496e+00, -2.82381621e+01])</pre></div></li></ul></div></li><li class='xr-section-item'><input id='section-69ef70bf-a18a-4697-b447-cf9702707bf3' class='xr-section-summary-in' type='checkbox'  ><label for='section-69ef70bf-a18a-4697-b447-cf9702707bf3' class='xr-section-summary' >Indexes: <span>(1)</span></label><div class='xr-section-inline-details'></div><div class='xr-section-details'><ul class='xr-var-list'><li class='xr-var-item'><div class='xr-index-name'><div>draw</div></div><div class='xr-index-preview'>PandasIndex</div><input type='checkbox' disabled/><label></label><input id='index-31d25bf8-7d9b-4b35-814a-4f5c87316eec' class='xr-index-data-in' type='checkbox'/><label for='index-31d25bf8-7d9b-4b35-814a-4f5c87316eec' title='Show/Hide index repr'><svg class='icon xr-icon-database'><use xlink:href='#icon-database'></use></svg></label><div class='xr-index-data'><pre>PandasIndex(Index([  0,   1,   2,   3,   4,   5,   6,   7,   8,   9,\n",
       "       ...\n",
       "       390, 391, 392, 393, 394, 395, 396, 397, 398, 399],\n",
       "      dtype=&#x27;int32&#x27;, name=&#x27;draw&#x27;, length=400))</pre></div></li></ul></div></li><li class='xr-section-item'><input id='section-9370d41e-1abb-4108-96f5-4bc8809e1960' class='xr-section-summary-in' type='checkbox'  checked><label for='section-9370d41e-1abb-4108-96f5-4bc8809e1960' class='xr-section-summary' >Attributes: <span>(4)</span></label><div class='xr-section-inline-details'></div><div class='xr-section-details'><dl class='xr-attrs'><dt><span>created_at :</span></dt><dd>2025-05-07T11:28:41.219469+00:00</dd><dt><span>arviz_version :</span></dt><dd>0.20.0</dd><dt><span>inference_library :</span></dt><dd>pymc</dd><dt><span>inference_library_version :</span></dt><dd>5.20.1</dd></dl></div></li></ul></div></div>"
      ],
      "text/plain": [
       "<xarray.Dataset> Size: 18kB\n",
       "Dimensions:       (draw: 400)\n",
       "Coordinates:\n",
       "    chain         int32 4B 0\n",
       "  * draw          (draw) int32 2kB 0 1 2 3 4 5 6 ... 393 394 395 396 397 398 399\n",
       "Data variables:\n",
       "    sigma_other   (draw) float64 3kB 4.183 6.056 0.2879 ... 4.784 2.547 2.046\n",
       "    mu_other      (draw) float64 3kB -1.004 14.6 -15.82 ... -2.07 -7.839 15.07\n",
       "    sigma_csharp  (draw) float64 3kB 12.54 6.063 13.4 10.69 ... 1.489 6.364 7.85\n",
       "    diff          (draw) float64 3kB -2.429 -31.21 11.96 ... 16.42 11.5 -43.31\n",
       "    mu_csharp     (draw) float64 3kB -3.433 -16.61 -3.855 ... 14.35 3.66 -28.24\n",
       "Attributes:\n",
       "    created_at:                 2025-05-07T11:28:41.219469+00:00\n",
       "    arviz_version:              0.20.0\n",
       "    inference_library:          pymc\n",
       "    inference_library_version:  5.20.1"
      ]
     },
     "execution_count": 9,
     "metadata": {},
     "output_type": "execute_result"
    }
   ],
   "source": [
    "model_vs_prior_pred.prior.sel(chain = 0)"
   ]
  },
  {
   "cell_type": "code",
   "execution_count": 10,
   "id": "a7efa007",
   "metadata": {},
   "outputs": [
    {
     "data": {
      "image/png": "[encoded data removed]",
      "text/plain": [
       "<Figure size 640x480 with 1 Axes>"
      ]
     },
     "metadata": {},
     "output_type": "display_data"
    }
   ],
   "source": [
    "# Check the posterior probability that c-sharp-razor has higher energy consumption\n",
    "az.plot_posterior(trace, var_names=['diff'])\n",
    "plt.axvline(0, color='red', linestyle='--', label='No difference')\n",
    "plt.legend()\n",
    "plt.show()"
   ]
  },
  {
   "cell_type": "code",
   "execution_count": 11,
   "id": "a6b20d56",
   "metadata": {},
   "outputs": [
    {
     "data": {
      "application/vnd.microsoft.datawrangler.viewer.v0+json": {
       "columns": [
        {
         "name": "index",
         "rawType": "object",
         "type": "string"
        },
        {
         "name": "mean",
         "rawType": "float64",
         "type": "float"
        },
        {
         "name": "sd",
         "rawType": "float64",
         "type": "float"
        },
        {
         "name": "hdi_3%",
         "rawType": "float64",
         "type": "float"
        },
        {
         "name": "hdi_97%",
         "rawType": "float64",
         "type": "float"
        },
        {
         "name": "mcse_mean",
         "rawType": "float64",
         "type": "float"
        },
        {
         "name": "mcse_sd",
         "rawType": "float64",
         "type": "float"
        },
        {
         "name": "ess_bulk",
         "rawType": "float64",
         "type": "float"
        },
        {
         "name": "ess_tail",
         "rawType": "float64",
         "type": "float"
        },
        {
         "name": "r_hat",
         "rawType": "float64",
         "type": "float"
        }
       ],
       "conversionMethod": "pd.DataFrame",
       "ref": "d10a6fca-ede6-470f-8bc4-cfebfea040ab",
       "rows": [
        [
         "mu_csharp",
         "0.689",
         "0.034",
         "0.625",
         "0.752",
         "0.0",
         "0.0",
         "6856.0",
         "3483.0",
         "1.0"
        ],
        [
         "mu_other",
         "0.33",
         "0.004",
         "0.322",
         "0.337",
         "0.0",
         "0.0",
         "6511.0",
         "3483.0",
         "1.0"
        ],
        [
         "sigma_csharp",
         "0.581",
         "0.025",
         "0.534",
         "0.627",
         "0.0",
         "0.0",
         "8159.0",
         "3262.0",
         "1.0"
        ],
        [
         "sigma_other",
         "0.177",
         "0.003",
         "0.171",
         "0.183",
         "0.0",
         "0.0",
         "7966.0",
         "2914.0",
         "1.0"
        ],
        [
         "diff",
         "0.359",
         "0.035",
         "0.298",
         "0.426",
         "0.0",
         "0.0",
         "6922.0",
         "3588.0",
         "1.0"
        ]
       ],
       "shape": {
        "columns": 9,
        "rows": 5
       }
      },
      "text/html": [
       "<div>\n",
       "<style scoped>\n",
       "    .dataframe tbody tr th:only-of-type {\n",
       "        vertical-align: middle;\n",
       "    }\n",
       "\n",
       "    .dataframe tbody tr th {\n",
       "        vertical-align: top;\n",
       "    }\n",
       "\n",
       "    .dataframe thead th {\n",
       "        text-align: right;\n",
       "    }\n",
       "</style>\n",
       "<table border=\"1\" class=\"dataframe\">\n",
       "  <thead>\n",
       "    <tr style=\"text-align: right;\">\n",
       "      <th></th>\n",
       "      <th>mean</th>\n",
       "      <th>sd</th>\n",
       "      <th>hdi_3%</th>\n",
       "      <th>hdi_97%</th>\n",
       "      <th>mcse_mean</th>\n",
       "      <th>mcse_sd</th>\n",
       "      <th>ess_bulk</th>\n",
       "      <th>ess_tail</th>\n",
       "      <th>r_hat</th>\n",
       "    </tr>\n",
       "  </thead>\n",
       "  <tbody>\n",
       "    <tr>\n",
       "      <th>mu_csharp</th>\n",
       "      <td>0.689</td>\n",
       "      <td>0.034</td>\n",
       "      <td>0.625</td>\n",
       "      <td>0.752</td>\n",
       "      <td>0.0</td>\n",
       "      <td>0.0</td>\n",
       "      <td>6856.0</td>\n",
       "      <td>3483.0</td>\n",
       "      <td>1.0</td>\n",
       "    </tr>\n",
       "    <tr>\n",
       "      <th>mu_other</th>\n",
       "      <td>0.330</td>\n",
       "      <td>0.004</td>\n",
       "      <td>0.322</td>\n",
       "      <td>0.337</td>\n",
       "      <td>0.0</td>\n",
       "      <td>0.0</td>\n",
       "      <td>6511.0</td>\n",
       "      <td>3483.0</td>\n",
       "      <td>1.0</td>\n",
       "    </tr>\n",
       "    <tr>\n",
       "      <th>sigma_csharp</th>\n",
       "      <td>0.581</td>\n",
       "      <td>0.025</td>\n",
       "      <td>0.534</td>\n",
       "      <td>0.627</td>\n",
       "      <td>0.0</td>\n",
       "      <td>0.0</td>\n",
       "      <td>8159.0</td>\n",
       "      <td>3262.0</td>\n",
       "      <td>1.0</td>\n",
       "    </tr>\n",
       "    <tr>\n",
       "      <th>sigma_other</th>\n",
       "      <td>0.177</td>\n",
       "      <td>0.003</td>\n",
       "      <td>0.171</td>\n",
       "      <td>0.183</td>\n",
       "      <td>0.0</td>\n",
       "      <td>0.0</td>\n",
       "      <td>7966.0</td>\n",
       "      <td>2914.0</td>\n",
       "      <td>1.0</td>\n",
       "    </tr>\n",
       "    <tr>\n",
       "      <th>diff</th>\n",
       "      <td>0.359</td>\n",
       "      <td>0.035</td>\n",
       "      <td>0.298</td>\n",
       "      <td>0.426</td>\n",
       "      <td>0.0</td>\n",
       "      <td>0.0</td>\n",
       "      <td>6922.0</td>\n",
       "      <td>3588.0</td>\n",
       "      <td>1.0</td>\n",
       "    </tr>\n",
       "  </tbody>\n",
       "</table>\n",
       "</div>"
      ],
      "text/plain": [
       "               mean     sd  hdi_3%  hdi_97%  mcse_mean  mcse_sd  ess_bulk  \\\n",
       "mu_csharp     0.689  0.034   0.625    0.752        0.0      0.0    6856.0   \n",
       "mu_other      0.330  0.004   0.322    0.337        0.0      0.0    6511.0   \n",
       "sigma_csharp  0.581  0.025   0.534    0.627        0.0      0.0    8159.0   \n",
       "sigma_other   0.177  0.003   0.171    0.183        0.0      0.0    7966.0   \n",
       "diff          0.359  0.035   0.298    0.426        0.0      0.0    6922.0   \n",
       "\n",
       "              ess_tail  r_hat  \n",
       "mu_csharp       3483.0    1.0  \n",
       "mu_other        3483.0    1.0  \n",
       "sigma_csharp    3262.0    1.0  \n",
       "sigma_other     2914.0    1.0  \n",
       "diff            3588.0    1.0  "
      ]
     },
     "execution_count": 11,
     "metadata": {},
     "output_type": "execute_result"
    }
   ],
   "source": [
    "az.summary(trace)"
   ]
  },
  {
   "cell_type": "markdown",
   "id": "4d0e53c1",
   "metadata": {},
   "source": [
    "We see a possitive `diff` and because we retracted the other frameworks from `c-sharp-razor` and the `diff` is positive we can assume that the web framework `c-sharp-razor` consumes more energy than any other web framework in the dataset.\n"
   ]
  },
  {
   "cell_type": "code",
   "execution_count": 12,
   "id": "a40343a9",
   "metadata": {},
   "outputs": [
    {
     "data": {
      "text/plain": [
       "('c-sharp-razor code: ', 0)"
      ]
     },
     "execution_count": 12,
     "metadata": {},
     "output_type": "execute_result"
    }
   ],
   "source": [
    "framework_codes = pd.Categorical(df['application']).codes\n",
    "c_sharp_razor_code = framework_codes[df['application'] == 'c-sharp-razor'][0]\n",
    "\"c-sharp-razor code: \", c_sharp_razor_code"
   ]
  },
  {
   "cell_type": "code",
   "execution_count": 19,
   "id": "16ced6c6",
   "metadata": {},
   "outputs": [
    {
     "name": "stderr",
     "output_type": "stream",
     "text": [
      "Initializing NUTS using jitter+adapt_diag...\n",
      "Multiprocess sampling (4 chains in 4 jobs)\n",
      "NUTS: [mu, sigma]\n"
     ]
    },
    {
     "data": {
      "application/vnd.jupyter.widget-view+json": {
       "model_id": "9540428f3b974ef8ab462b8dd75aefd8",
       "version_major": 2,
       "version_minor": 0
      },
      "text/plain": [
       "Output()"
      ]
     },
     "metadata": {},
     "output_type": "display_data"
    },
    {
     "data": {
      "text/html": [
       "<pre style=\"white-space:pre;overflow-x:auto;line-height:normal;font-family:Menlo,'DejaVu Sans Mono',consolas,'Courier New',monospace\"></pre>\n"
      ],
      "text/plain": []
     },
     "metadata": {},
     "output_type": "display_data"
    },
    {
     "name": "stderr",
     "output_type": "stream",
     "text": [
      "Sampling 4 chains for 1_000 tune and 1_000 draw iterations (4_000 + 4_000 draws total) took 38 seconds.\n"
     ]
    }
   ],
   "source": [
    "df[\"framework_code\"] = framework_codes\n",
    "\n",
    "with pm.Model() as model_categorical:\n",
    "    # Priors for the means and standard deviations\n",
    "    mu = pm.Normal('mu', mu=0, sigma=1, shape=len(df.application.unique()))\n",
    "    sigma = pm.LogNormal('sigma', sigma=1, shape=len(df.application.unique()))\n",
    "\n",
    "    # Likelihoods for the observed data\n",
    "    obs = pm.Normal('obs', mu=mu[df['framework_code']], sigma=sigma[df['framework_code']], observed=df['energy_consumption'])\n",
    "\n",
    "    # Difference in means\n",
    "    diff = pm.Deterministic('diff', mu[c_sharp_razor_code] - mu)\n",
    "\n",
    "    # Sampling\n",
    "    trace_categorical = pm.sample(1000, return_inferencedata=True)"
   ]
  },
  {
   "cell_type": "code",
   "execution_count": 18,
   "id": "4555a2d8",
   "metadata": {},
   "outputs": [
    {
     "name": "stderr",
     "output_type": "stream",
     "text": [
      "c:\\Users\\patr7\\miniconda3\\envs\\prpro-2025\\Lib\\site-packages\\arviz\\stats\\diagnostics.py:596: RuntimeWarning: invalid value encountered in scalar divide\n",
      "  (between_chain_variance / within_chain_variance + num_samples - 1) / (num_samples)\n"
     ]
    },
    {
     "data": {
      "application/vnd.microsoft.datawrangler.viewer.v0+json": {
       "columns": [
        {
         "name": "index",
         "rawType": "object",
         "type": "string"
        },
        {
         "name": "mean",
         "rawType": "float64",
         "type": "float"
        },
        {
         "name": "sd",
         "rawType": "float64",
         "type": "float"
        },
        {
         "name": "hdi_3%",
         "rawType": "float64",
         "type": "float"
        },
        {
         "name": "hdi_97%",
         "rawType": "float64",
         "type": "float"
        },
        {
         "name": "mcse_mean",
         "rawType": "float64",
         "type": "float"
        },
        {
         "name": "mcse_sd",
         "rawType": "float64",
         "type": "float"
        },
        {
         "name": "ess_bulk",
         "rawType": "float64",
         "type": "float"
        },
        {
         "name": "ess_tail",
         "rawType": "float64",
         "type": "float"
        },
        {
         "name": "r_hat",
         "rawType": "float64",
         "type": "float"
        }
       ],
       "conversionMethod": "pd.DataFrame",
       "ref": "be1af3fc-69c0-45f3-a44c-92191a4fbf90",
       "rows": [
        [
         "mu[0]",
         "0.69",
         "0.035",
         "0.623",
         "0.754",
         "0.0",
         "0.0",
         "5847.0",
         "3031.0",
         "1.0"
        ],
        [
         "mu[1]",
         "0.319",
         "0.01",
         "0.301",
         "0.338",
         "0.0",
         "0.0",
         "6045.0",
         "2968.0",
         "1.0"
        ],
        [
         "mu[2]",
         "0.324",
         "0.009",
         "0.308",
         "0.34",
         "0.0",
         "0.0",
         "4896.0",
         "2872.0",
         "1.0"
        ],
        [
         "mu[3]",
         "0.206",
         "0.009",
         "0.189",
         "0.224",
         "0.0",
         "0.0",
         "6773.0",
         "2550.0",
         "1.0"
        ],
        [
         "mu[4]",
         "0.413",
         "0.01",
         "0.394",
         "0.432",
         "0.0",
         "0.0",
         "6352.0",
         "3182.0",
         "1.0"
        ],
        [
         "mu[5]",
         "0.409",
         "0.012",
         "0.386",
         "0.432",
         "0.0",
         "0.0",
         "6843.0",
         "2564.0",
         "1.0"
        ],
        [
         "mu[6]",
         "0.307",
         "0.008",
         "0.293",
         "0.322",
         "0.0",
         "0.0",
         "5698.0",
         "2924.0",
         "1.0"
        ],
        [
         "sigma[0]",
         "0.581",
         "0.025",
         "0.534",
         "0.625",
         "0.0",
         "0.0",
         "5916.0",
         "2872.0",
         "1.0"
        ],
        [
         "sigma[1]",
         "0.166",
         "0.007",
         "0.152",
         "0.179",
         "0.0",
         "0.0",
         "7398.0",
         "3243.0",
         "1.0"
        ],
        [
         "sigma[2]",
         "0.148",
         "0.006",
         "0.136",
         "0.159",
         "0.0",
         "0.0",
         "5914.0",
         "3163.0",
         "1.0"
        ],
        [
         "sigma[3]",
         "0.149",
         "0.006",
         "0.138",
         "0.161",
         "0.0",
         "0.0",
         "6488.0",
         "2971.0",
         "1.0"
        ],
        [
         "sigma[4]",
         "0.167",
         "0.007",
         "0.154",
         "0.181",
         "0.0",
         "0.0",
         "6768.0",
         "3015.0",
         "1.0"
        ],
        [
         "sigma[5]",
         "0.207",
         "0.009",
         "0.191",
         "0.224",
         "0.0",
         "0.0",
         "5970.0",
         "2631.0",
         "1.0"
        ],
        [
         "sigma[6]",
         "0.132",
         "0.006",
         "0.121",
         "0.142",
         "0.0",
         "0.0",
         "7113.0",
         "3212.0",
         "1.0"
        ],
        [
         "diff[0]",
         "0.0",
         "0.0",
         "0.0",
         "0.0",
         "0.0",
         "0.0",
         "4000.0",
         "4000.0",
         null
        ],
        [
         "diff[1]",
         "0.371",
         "0.036",
         "0.303",
         "0.441",
         "0.0",
         "0.0",
         "5905.0",
         "2977.0",
         "1.0"
        ],
        [
         "diff[2]",
         "0.366",
         "0.036",
         "0.295",
         "0.43",
         "0.0",
         "0.0",
         "5709.0",
         "2683.0",
         "1.0"
        ],
        [
         "diff[3]",
         "0.484",
         "0.036",
         "0.416",
         "0.551",
         "0.0",
         "0.0",
         "5913.0",
         "3075.0",
         "1.0"
        ],
        [
         "diff[4]",
         "0.277",
         "0.036",
         "0.207",
         "0.343",
         "0.0",
         "0.0",
         "5949.0",
         "2780.0",
         "1.0"
        ],
        [
         "diff[5]",
         "0.281",
         "0.037",
         "0.213",
         "0.35",
         "0.0",
         "0.0",
         "5731.0",
         "3247.0",
         "1.0"
        ],
        [
         "diff[6]",
         "0.383",
         "0.036",
         "0.313",
         "0.449",
         "0.0",
         "0.0",
         "5860.0",
         "2959.0",
         "1.0"
        ]
       ],
       "shape": {
        "columns": 9,
        "rows": 21
       }
      },
      "text/html": [
       "<div>\n",
       "<style scoped>\n",
       "    .dataframe tbody tr th:only-of-type {\n",
       "        vertical-align: middle;\n",
       "    }\n",
       "\n",
       "    .dataframe tbody tr th {\n",
       "        vertical-align: top;\n",
       "    }\n",
       "\n",
       "    .dataframe thead th {\n",
       "        text-align: right;\n",
       "    }\n",
       "</style>\n",
       "<table border=\"1\" class=\"dataframe\">\n",
       "  <thead>\n",
       "    <tr style=\"text-align: right;\">\n",
       "      <th></th>\n",
       "      <th>mean</th>\n",
       "      <th>sd</th>\n",
       "      <th>hdi_3%</th>\n",
       "      <th>hdi_97%</th>\n",
       "      <th>mcse_mean</th>\n",
       "      <th>mcse_sd</th>\n",
       "      <th>ess_bulk</th>\n",
       "      <th>ess_tail</th>\n",
       "      <th>r_hat</th>\n",
       "    </tr>\n",
       "  </thead>\n",
       "  <tbody>\n",
       "    <tr>\n",
       "      <th>mu[0]</th>\n",
       "      <td>0.690</td>\n",
       "      <td>0.035</td>\n",
       "      <td>0.623</td>\n",
       "      <td>0.754</td>\n",
       "      <td>0.0</td>\n",
       "      <td>0.0</td>\n",
       "      <td>5847.0</td>\n",
       "      <td>3031.0</td>\n",
       "      <td>1.0</td>\n",
       "    </tr>\n",
       "    <tr>\n",
       "      <th>mu[1]</th>\n",
       "      <td>0.319</td>\n",
       "      <td>0.010</td>\n",
       "      <td>0.301</td>\n",
       "      <td>0.338</td>\n",
       "      <td>0.0</td>\n",
       "      <td>0.0</td>\n",
       "      <td>6045.0</td>\n",
       "      <td>2968.0</td>\n",
       "      <td>1.0</td>\n",
       "    </tr>\n",
       "    <tr>\n",
       "      <th>mu[2]</th>\n",
       "      <td>0.324</td>\n",
       "      <td>0.009</td>\n",
       "      <td>0.308</td>\n",
       "      <td>0.340</td>\n",
       "      <td>0.0</td>\n",
       "      <td>0.0</td>\n",
       "      <td>4896.0</td>\n",
       "      <td>2872.0</td>\n",
       "      <td>1.0</td>\n",
       "    </tr>\n",
       "    <tr>\n",
       "      <th>mu[3]</th>\n",
       "      <td>0.206</td>\n",
       "      <td>0.009</td>\n",
       "      <td>0.189</td>\n",
       "      <td>0.224</td>\n",
       "      <td>0.0</td>\n",
       "      <td>0.0</td>\n",
       "      <td>6773.0</td>\n",
       "      <td>2550.0</td>\n",
       "      <td>1.0</td>\n",
       "    </tr>\n",
       "    <tr>\n",
       "      <th>mu[4]</th>\n",
       "      <td>0.413</td>\n",
       "      <td>0.010</td>\n",
       "      <td>0.394</td>\n",
       "      <td>0.432</td>\n",
       "      <td>0.0</td>\n",
       "      <td>0.0</td>\n",
       "      <td>6352.0</td>\n",
       "      <td>3182.0</td>\n",
       "      <td>1.0</td>\n",
       "    </tr>\n",
       "    <tr>\n",
       "      <th>mu[5]</th>\n",
       "      <td>0.409</td>\n",
       "      <td>0.012</td>\n",
       "      <td>0.386</td>\n",
       "      <td>0.432</td>\n",
       "      <td>0.0</td>\n",
       "      <td>0.0</td>\n",
       "      <td>6843.0</td>\n",
       "      <td>2564.0</td>\n",
       "      <td>1.0</td>\n",
       "    </tr>\n",
       "    <tr>\n",
       "      <th>mu[6]</th>\n",
       "      <td>0.307</td>\n",
       "      <td>0.008</td>\n",
       "      <td>0.293</td>\n",
       "      <td>0.322</td>\n",
       "      <td>0.0</td>\n",
       "      <td>0.0</td>\n",
       "      <td>5698.0</td>\n",
       "      <td>2924.0</td>\n",
       "      <td>1.0</td>\n",
       "    </tr>\n",
       "    <tr>\n",
       "      <th>sigma[0]</th>\n",
       "      <td>0.581</td>\n",
       "      <td>0.025</td>\n",
       "      <td>0.534</td>\n",
       "      <td>0.625</td>\n",
       "      <td>0.0</td>\n",
       "      <td>0.0</td>\n",
       "      <td>5916.0</td>\n",
       "      <td>2872.0</td>\n",
       "      <td>1.0</td>\n",
       "    </tr>\n",
       "    <tr>\n",
       "      <th>sigma[1]</th>\n",
       "      <td>0.166</td>\n",
       "      <td>0.007</td>\n",
       "      <td>0.152</td>\n",
       "      <td>0.179</td>\n",
       "      <td>0.0</td>\n",
       "      <td>0.0</td>\n",
       "      <td>7398.0</td>\n",
       "      <td>3243.0</td>\n",
       "      <td>1.0</td>\n",
       "    </tr>\n",
       "    <tr>\n",
       "      <th>sigma[2]</th>\n",
       "      <td>0.148</td>\n",
       "      <td>0.006</td>\n",
       "      <td>0.136</td>\n",
       "      <td>0.159</td>\n",
       "      <td>0.0</td>\n",
       "      <td>0.0</td>\n",
       "      <td>5914.0</td>\n",
       "      <td>3163.0</td>\n",
       "      <td>1.0</td>\n",
       "    </tr>\n",
       "    <tr>\n",
       "      <th>sigma[3]</th>\n",
       "      <td>0.149</td>\n",
       "      <td>0.006</td>\n",
       "      <td>0.138</td>\n",
       "      <td>0.161</td>\n",
       "      <td>0.0</td>\n",
       "      <td>0.0</td>\n",
       "      <td>6488.0</td>\n",
       "      <td>2971.0</td>\n",
       "      <td>1.0</td>\n",
       "    </tr>\n",
       "    <tr>\n",
       "      <th>sigma[4]</th>\n",
       "      <td>0.167</td>\n",
       "      <td>0.007</td>\n",
       "      <td>0.154</td>\n",
       "      <td>0.181</td>\n",
       "      <td>0.0</td>\n",
       "      <td>0.0</td>\n",
       "      <td>6768.0</td>\n",
       "      <td>3015.0</td>\n",
       "      <td>1.0</td>\n",
       "    </tr>\n",
       "    <tr>\n",
       "      <th>sigma[5]</th>\n",
       "      <td>0.207</td>\n",
       "      <td>0.009</td>\n",
       "      <td>0.191</td>\n",
       "      <td>0.224</td>\n",
       "      <td>0.0</td>\n",
       "      <td>0.0</td>\n",
       "      <td>5970.0</td>\n",
       "      <td>2631.0</td>\n",
       "      <td>1.0</td>\n",
       "    </tr>\n",
       "    <tr>\n",
       "      <th>sigma[6]</th>\n",
       "      <td>0.132</td>\n",
       "      <td>0.006</td>\n",
       "      <td>0.121</td>\n",
       "      <td>0.142</td>\n",
       "      <td>0.0</td>\n",
       "      <td>0.0</td>\n",
       "      <td>7113.0</td>\n",
       "      <td>3212.0</td>\n",
       "      <td>1.0</td>\n",
       "    </tr>\n",
       "    <tr>\n",
       "      <th>diff[0]</th>\n",
       "      <td>0.000</td>\n",
       "      <td>0.000</td>\n",
       "      <td>0.000</td>\n",
       "      <td>0.000</td>\n",
       "      <td>0.0</td>\n",
       "      <td>0.0</td>\n",
       "      <td>4000.0</td>\n",
       "      <td>4000.0</td>\n",
       "      <td>NaN</td>\n",
       "    </tr>\n",
       "    <tr>\n",
       "      <th>diff[1]</th>\n",
       "      <td>0.371</td>\n",
       "      <td>0.036</td>\n",
       "      <td>0.303</td>\n",
       "      <td>0.441</td>\n",
       "      <td>0.0</td>\n",
       "      <td>0.0</td>\n",
       "      <td>5905.0</td>\n",
       "      <td>2977.0</td>\n",
       "      <td>1.0</td>\n",
       "    </tr>\n",
       "    <tr>\n",
       "      <th>diff[2]</th>\n",
       "      <td>0.366</td>\n",
       "      <td>0.036</td>\n",
       "      <td>0.295</td>\n",
       "      <td>0.430</td>\n",
       "      <td>0.0</td>\n",
       "      <td>0.0</td>\n",
       "      <td>5709.0</td>\n",
       "      <td>2683.0</td>\n",
       "      <td>1.0</td>\n",
       "    </tr>\n",
       "    <tr>\n",
       "      <th>diff[3]</th>\n",
       "      <td>0.484</td>\n",
       "      <td>0.036</td>\n",
       "      <td>0.416</td>\n",
       "      <td>0.551</td>\n",
       "      <td>0.0</td>\n",
       "      <td>0.0</td>\n",
       "      <td>5913.0</td>\n",
       "      <td>3075.0</td>\n",
       "      <td>1.0</td>\n",
       "    </tr>\n",
       "    <tr>\n",
       "      <th>diff[4]</th>\n",
       "      <td>0.277</td>\n",
       "      <td>0.036</td>\n",
       "      <td>0.207</td>\n",
       "      <td>0.343</td>\n",
       "      <td>0.0</td>\n",
       "      <td>0.0</td>\n",
       "      <td>5949.0</td>\n",
       "      <td>2780.0</td>\n",
       "      <td>1.0</td>\n",
       "    </tr>\n",
       "    <tr>\n",
       "      <th>diff[5]</th>\n",
       "      <td>0.281</td>\n",
       "      <td>0.037</td>\n",
       "      <td>0.213</td>\n",
       "      <td>0.350</td>\n",
       "      <td>0.0</td>\n",
       "      <td>0.0</td>\n",
       "      <td>5731.0</td>\n",
       "      <td>3247.0</td>\n",
       "      <td>1.0</td>\n",
       "    </tr>\n",
       "    <tr>\n",
       "      <th>diff[6]</th>\n",
       "      <td>0.383</td>\n",
       "      <td>0.036</td>\n",
       "      <td>0.313</td>\n",
       "      <td>0.449</td>\n",
       "      <td>0.0</td>\n",
       "      <td>0.0</td>\n",
       "      <td>5860.0</td>\n",
       "      <td>2959.0</td>\n",
       "      <td>1.0</td>\n",
       "    </tr>\n",
       "  </tbody>\n",
       "</table>\n",
       "</div>"
      ],
      "text/plain": [
       "           mean     sd  hdi_3%  hdi_97%  mcse_mean  mcse_sd  ess_bulk  \\\n",
       "mu[0]     0.690  0.035   0.623    0.754        0.0      0.0    5847.0   \n",
       "mu[1]     0.319  0.010   0.301    0.338        0.0      0.0    6045.0   \n",
       "mu[2]     0.324  0.009   0.308    0.340        0.0      0.0    4896.0   \n",
       "mu[3]     0.206  0.009   0.189    0.224        0.0      0.0    6773.0   \n",
       "mu[4]     0.413  0.010   0.394    0.432        0.0      0.0    6352.0   \n",
       "mu[5]     0.409  0.012   0.386    0.432        0.0      0.0    6843.0   \n",
       "mu[6]     0.307  0.008   0.293    0.322        0.0      0.0    5698.0   \n",
       "sigma[0]  0.581  0.025   0.534    0.625        0.0      0.0    5916.0   \n",
       "sigma[1]  0.166  0.007   0.152    0.179        0.0      0.0    7398.0   \n",
       "sigma[2]  0.148  0.006   0.136    0.159        0.0      0.0    5914.0   \n",
       "sigma[3]  0.149  0.006   0.138    0.161        0.0      0.0    6488.0   \n",
       "sigma[4]  0.167  0.007   0.154    0.181        0.0      0.0    6768.0   \n",
       "sigma[5]  0.207  0.009   0.191    0.224        0.0      0.0    5970.0   \n",
       "sigma[6]  0.132  0.006   0.121    0.142        0.0      0.0    7113.0   \n",
       "diff[0]   0.000  0.000   0.000    0.000        0.0      0.0    4000.0   \n",
       "diff[1]   0.371  0.036   0.303    0.441        0.0      0.0    5905.0   \n",
       "diff[2]   0.366  0.036   0.295    0.430        0.0      0.0    5709.0   \n",
       "diff[3]   0.484  0.036   0.416    0.551        0.0      0.0    5913.0   \n",
       "diff[4]   0.277  0.036   0.207    0.343        0.0      0.0    5949.0   \n",
       "diff[5]   0.281  0.037   0.213    0.350        0.0      0.0    5731.0   \n",
       "diff[6]   0.383  0.036   0.313    0.449        0.0      0.0    5860.0   \n",
       "\n",
       "          ess_tail  r_hat  \n",
       "mu[0]       3031.0    1.0  \n",
       "mu[1]       2968.0    1.0  \n",
       "mu[2]       2872.0    1.0  \n",
       "mu[3]       2550.0    1.0  \n",
       "mu[4]       3182.0    1.0  \n",
       "mu[5]       2564.0    1.0  \n",
       "mu[6]       2924.0    1.0  \n",
       "sigma[0]    2872.0    1.0  \n",
       "sigma[1]    3243.0    1.0  \n",
       "sigma[2]    3163.0    1.0  \n",
       "sigma[3]    2971.0    1.0  \n",
       "sigma[4]    3015.0    1.0  \n",
       "sigma[5]    2631.0    1.0  \n",
       "sigma[6]    3212.0    1.0  \n",
       "diff[0]     4000.0    NaN  \n",
       "diff[1]     2977.0    1.0  \n",
       "diff[2]     2683.0    1.0  \n",
       "diff[3]     3075.0    1.0  \n",
       "diff[4]     2780.0    1.0  \n",
       "diff[5]     3247.0    1.0  \n",
       "diff[6]     2959.0    1.0  "
      ]
     },
     "execution_count": 18,
     "metadata": {},
     "output_type": "execute_result"
    }
   ],
   "source": [
    "az.summary(trace_categorical, var_names=['mu', 'sigma', 'diff'])"
   ]
  },
  {
   "cell_type": "code",
   "execution_count": 22,
   "id": "4ac57162",
   "metadata": {},
   "outputs": [
    {
     "data": {
      "text/plain": [
       "array([[<Axes: title={'center': 'mu'}>, <Axes: title={'center': 'mu'}>]],\n",
       "      dtype=object)"
      ]
     },
     "execution_count": 22,
     "metadata": {},
     "output_type": "execute_result"
    },
    {
     "data": {
      "image/png": "[encoded data removed]",
      "text/plain": [
       "<Figure size 1200x200 with 2 Axes>"
      ]
     },
     "metadata": {},
     "output_type": "display_data"
    }
   ],
   "source": [
    "az.plot_trace(trace_categorical, var_names=[\"mu\"])"
   ]
  },
  {
   "cell_type": "code",
   "execution_count": 23,
   "id": "aa4f1faf",
   "metadata": {},
   "outputs": [
    {
     "data": {
      "text/plain": [
       "array([<Axes: title={'center': '94.0% HDI'}>], dtype=object)"
      ]
     },
     "execution_count": 23,
     "metadata": {},
     "output_type": "execute_result"
    },
    {
     "data": {
      "image/png": "[encoded data removed]",
      "text/plain": [
       "<Figure size 600x470 with 1 Axes>"
      ]
     },
     "metadata": {},
     "output_type": "display_data"
    }
   ],
   "source": [
    "az.plot_forest(trace_categorical, var_names=[\"diff\"], combined=True)"
   ]
  },
  {
   "cell_type": "code",
   "execution_count": null,
   "id": "d98905c9",
   "metadata": {},
   "outputs": [],
   "source": [
    "# Check the posterior probability that c-sharp-razor has higher energy consumption\n",
    "az.plot_posterior(trace_categorical, var_names=['diff0'])\n",
    "# plt.axvline(0, color='red', linestyle='--', label='No difference')\n",
    "# plt.legend()\n",
    "# plt.show()"
   ]
  },
  {
   "cell_type": "code",
   "execution_count": 43,
   "id": "40582bc3",
   "metadata": {},
   "outputs": [
    {
     "name": "stderr",
     "output_type": "stream",
     "text": [
      "Initializing NUTS using jitter+adapt_diag...\n",
      "Multiprocess sampling (4 chains in 4 jobs)\n",
      "NUTS: [sigma, mu]\n"
     ]
    },
    {
     "data": {
      "application/vnd.jupyter.widget-view+json": {
       "model_id": "5877e040aa814e6dbf05c5b87f8c6a6f",
       "version_major": 2,
       "version_minor": 0
      },
      "text/plain": [
       "Output()"
      ]
     },
     "metadata": {},
     "output_type": "display_data"
    },
    {
     "data": {
      "text/html": [
       "<pre style=\"white-space:pre;overflow-x:auto;line-height:normal;font-family:Menlo,'DejaVu Sans Mono',consolas,'Courier New',monospace\"></pre>\n"
      ],
      "text/plain": []
     },
     "metadata": {},
     "output_type": "display_data"
    },
    {
     "name": "stderr",
     "output_type": "stream",
     "text": [
      "Sampling 4 chains for 1_000 tune and 1_000 draw iterations (4_000 + 4_000 draws total) took 68 seconds.\n"
     ]
    }
   ],
   "source": [
    "rng = np.random.default_rng(42)\n",
    "with pm.Model() as model_simple:\n",
    "    sigma = pm.Exponential(\"sigma\", 1)\n",
    "    # shape defines a vector size (+1 because ids start from zero)\n",
    "    # we will have four different mu's for K\n",
    "    mu = pm.Normal(\"mu\", 0, 1, shape=(df[\"framework_code\"].max() + 1,))\n",
    "    # it is crazy implicit how pymc matches rows in d[\"clade_id\"] and d[\"K\"]\n",
    "    consumption = pm.LogNormal(\"consumption\", mu[df[\"framework_code\"].values], sigma, observed=df[\"energy_consumption\"])\n",
    "\n",
    "    model_simple_trace = pm.sample(random_seed = rng)"
   ]
  },
  {
   "cell_type": "code",
   "execution_count": 44,
   "id": "b3d54558",
   "metadata": {},
   "outputs": [
    {
     "name": "stderr",
     "output_type": "stream",
     "text": [
      "Warning: Could not load \"C:\\Users\\patr7\\miniconda3\\envs\\prpro-2025\\Library\\bin\\gvplugin_pango.dll\" - It was found, so perhaps one of its dependents was not.  Try ldd.\n"
     ]
    },
    {
     "data": {
      "image/svg+xml": [
       "<?xml version=\"1.0\" encoding=\"UTF-8\" standalone=\"no\"?>\n",
       "<!DOCTYPE svg PUBLIC \"-//W3C//DTD SVG 1.1//EN\"\n",
       " \"http://www.w3.org/Graphics/SVG/1.1/DTD/svg11.dtd\">\n",
       "<!-- Generated by graphviz version 12.2.1 (0)\n",
       " -->\n",
       "<!-- Pages: 1 -->\n",
       "<svg width=\"244pt\" height=\"279pt\"\n",
       " viewBox=\"0.00 0.00 244.15 278.78\" xmlns=\"http://www.w3.org/2000/svg\" xmlns:xlink=\"http://www.w3.org/1999/xlink\">\n",
       "<g id=\"graph0\" class=\"graph\" transform=\"scale(1 1) rotate(0) translate(4 274.78)\">\n",
       "<polygon fill=\"white\" stroke=\"none\" points=\"-4,4 -4,-274.78 240.15,-274.78 240.15,4 -4,4\"/>\n",
       "<g id=\"clust1\" class=\"cluster\">\n",
       "<title>cluster7</title>\n",
       "<path fill=\"none\" stroke=\"black\" d=\"M140.15,-139.39C140.15,-139.39 216.15,-139.39 216.15,-139.39 222.15,-139.39 228.15,-145.39 228.15,-151.39 228.15,-151.39 228.15,-250.78 228.15,-250.78 228.15,-256.78 222.15,-262.78 216.15,-262.78 216.15,-262.78 140.15,-262.78 140.15,-262.78 134.15,-262.78 128.15,-256.78 128.15,-250.78 128.15,-250.78 128.15,-151.39 128.15,-151.39 128.15,-145.39 134.15,-139.39 140.15,-139.39\"/>\n",
       "<text text-anchor=\"middle\" x=\"216.65\" y=\"-147.59\" font-family=\"Times New Roman,serif\" font-size=\"14.00\">7</text>\n",
       "</g>\n",
       "<g id=\"clust2\" class=\"cluster\">\n",
       "<title>cluster1960</title>\n",
       "<path fill=\"none\" stroke=\"black\" d=\"M56.15,-8C56.15,-8 172.15,-8 172.15,-8 178.15,-8 184.15,-14 184.15,-20 184.15,-20 184.15,-119.39 184.15,-119.39 184.15,-125.39 178.15,-131.39 172.15,-131.39 172.15,-131.39 56.15,-131.39 56.15,-131.39 50.15,-131.39 44.15,-125.39 44.15,-119.39 44.15,-119.39 44.15,-20 44.15,-20 44.15,-14 50.15,-8 56.15,-8\"/>\n",
       "<text text-anchor=\"middle\" x=\"162.15\" y=\"-16.2\" font-family=\"Times New Roman,serif\" font-size=\"14.00\">1960</text>\n",
       "</g>\n",
       "<!-- sigma -->\n",
       "<g id=\"node1\" class=\"node\">\n",
       "<title>sigma</title>\n",
       "<ellipse fill=\"none\" stroke=\"black\" cx=\"59.15\" cy=\"-213.49\" rx=\"59.15\" ry=\"41.3\"/>\n",
       "<text text-anchor=\"middle\" x=\"59.15\" y=\"-226.09\" font-family=\"Times New Roman,serif\" font-size=\"14.00\">sigma</text>\n",
       "<text text-anchor=\"middle\" x=\"59.15\" y=\"-209.29\" font-family=\"Times New Roman,serif\" font-size=\"14.00\">~</text>\n",
       "<text text-anchor=\"middle\" x=\"59.15\" y=\"-192.49\" font-family=\"Times New Roman,serif\" font-size=\"14.00\">Exponential</text>\n",
       "</g>\n",
       "<!-- consumption -->\n",
       "<g id=\"node3\" class=\"node\">\n",
       "<title>consumption</title>\n",
       "<ellipse fill=\"lightgrey\" stroke=\"black\" cx=\"114.15\" cy=\"-82.1\" rx=\"62.46\" ry=\"41.3\"/>\n",
       "<text text-anchor=\"middle\" x=\"114.15\" y=\"-94.7\" font-family=\"Times New Roman,serif\" font-size=\"14.00\">consumption</text>\n",
       "<text text-anchor=\"middle\" x=\"114.15\" y=\"-77.9\" font-family=\"Times New Roman,serif\" font-size=\"14.00\">~</text>\n",
       "<text text-anchor=\"middle\" x=\"114.15\" y=\"-61.1\" font-family=\"Times New Roman,serif\" font-size=\"14.00\">LogNormal</text>\n",
       "</g>\n",
       "<!-- sigma&#45;&gt;consumption -->\n",
       "<g id=\"edge2\" class=\"edge\">\n",
       "<title>sigma&#45;&gt;consumption</title>\n",
       "<path fill=\"none\" stroke=\"black\" d=\"M75.65,-173.66C81.09,-160.86 87.22,-146.44 92.97,-132.93\"/>\n",
       "<polygon fill=\"black\" stroke=\"black\" points=\"96.19,-134.3 96.88,-123.73 89.74,-131.56 96.19,-134.3\"/>\n",
       "</g>\n",
       "<!-- mu -->\n",
       "<g id=\"node2\" class=\"node\">\n",
       "<title>mu</title>\n",
       "<ellipse fill=\"none\" stroke=\"black\" cx=\"178.15\" cy=\"-213.49\" rx=\"41.55\" ry=\"41.3\"/>\n",
       "<text text-anchor=\"middle\" x=\"178.15\" y=\"-226.09\" font-family=\"Times New Roman,serif\" font-size=\"14.00\">mu</text>\n",
       "<text text-anchor=\"middle\" x=\"178.15\" y=\"-209.29\" font-family=\"Times New Roman,serif\" font-size=\"14.00\">~</text>\n",
       "<text text-anchor=\"middle\" x=\"178.15\" y=\"-192.49\" font-family=\"Times New Roman,serif\" font-size=\"14.00\">Normal</text>\n",
       "</g>\n",
       "<!-- mu&#45;&gt;consumption -->\n",
       "<g id=\"edge1\" class=\"edge\">\n",
       "<title>mu&#45;&gt;consumption</title>\n",
       "<path fill=\"none\" stroke=\"black\" d=\"M160.15,-176.1C153.3,-162.25 145.39,-146.25 138.07,-131.46\"/>\n",
       "<polygon fill=\"black\" stroke=\"black\" points=\"141.37,-130.23 133.8,-122.82 135.09,-133.34 141.37,-130.23\"/>\n",
       "</g>\n",
       "</g>\n",
       "</svg>\n"
      ],
      "text/plain": [
       "<graphviz.graphs.Digraph at 0x190522ac2c0>"
      ]
     },
     "execution_count": 44,
     "metadata": {},
     "output_type": "execute_result"
    }
   ],
   "source": [
    "pm.model_graph.model_to_graphviz(model_simple)"
   ]
  },
  {
   "cell_type": "code",
   "execution_count": 45,
   "id": "f86c208e",
   "metadata": {},
   "outputs": [
    {
     "data": {
      "text/plain": [
       "array([<Axes: title={'center': '94.0% HDI'}>], dtype=object)"
      ]
     },
     "execution_count": 45,
     "metadata": {},
     "output_type": "execute_result"
    },
    {
     "data": {
      "image/png": "[encoded data removed]",
      "text/plain": [
       "<Figure size 600x200 with 1 Axes>"
      ]
     },
     "metadata": {},
     "output_type": "display_data"
    }
   ],
   "source": [
    "az.plot_forest(\n",
    "    data = model_simple_trace, \n",
    "    colors = [\"k\"],\n",
    "    kind = 'forestplot',\n",
    "    # kind = 'ridgeplot',  # try ridgeplot instead for more information \n",
    "    var_names=\"mu\", \n",
    "    hdi_prob=0.94, \n",
    "    combined = True, # plots the result for all four chains combined (try False)\n",
    "    ridgeplot_alpha = .6,\n",
    "    figsize = (6,2), \n",
    "    textsize = 12)"
   ]
  },
  {
   "cell_type": "code",
   "execution_count": 33,
   "id": "e1062fb8",
   "metadata": {},
   "outputs": [
    {
     "data": {
      "text/plain": [
       "array([[<Axes: title={'center': 'mu\\n0'}>,\n",
       "        <Axes: title={'center': 'mu\\n1'}>,\n",
       "        <Axes: title={'center': 'mu\\n2'}>],\n",
       "       [<Axes: title={'center': 'mu\\n3'}>,\n",
       "        <Axes: title={'center': 'mu\\n4'}>,\n",
       "        <Axes: title={'center': 'mu\\n5'}>],\n",
       "       [<Axes: title={'center': 'mu\\n6'}>, <Axes: >, <Axes: >]],\n",
       "      dtype=object)"
      ]
     },
     "execution_count": 33,
     "metadata": {},
     "output_type": "execute_result"
    },
    {
     "data": {
      "image/png": "[encoded data removed]",
      "text/plain": [
       "<Figure size 2208x1656 with 9 Axes>"
      ]
     },
     "metadata": {},
     "output_type": "display_data"
    }
   ],
   "source": [
    "az.plot_posterior(model_simple_trace, var_names=[\"mu\"], hdi_prob=0.94)"
   ]
  },
  {
   "cell_type": "code",
   "execution_count": 46,
   "id": "ccb5483e",
   "metadata": {},
   "outputs": [
    {
     "name": "stderr",
     "output_type": "stream",
     "text": [
      "Sampling: [consumption, mu, sigma]\n",
      "Sampling: [consumption]\n"
     ]
    },
    {
     "data": {
      "application/vnd.jupyter.widget-view+json": {
       "model_id": "41c0545c2417448a9d5f397c2f37831f",
       "version_major": 2,
       "version_minor": 0
      },
      "text/plain": [
       "Output()"
      ]
     },
     "metadata": {},
     "output_type": "display_data"
    },
    {
     "data": {
      "text/html": [
       "<pre style=\"white-space:pre;overflow-x:auto;line-height:normal;font-family:Menlo,'DejaVu Sans Mono',consolas,'Courier New',monospace\"></pre>\n"
      ],
      "text/plain": []
     },
     "metadata": {},
     "output_type": "display_data"
    }
   ],
   "source": [
    "with model_simple:\n",
    "    model_simple_trace.extend(pm.sample_prior_predictive(random_seed=rng))\n",
    "    model_simple_trace.extend(pm.sample_posterior_predictive(model_simple_trace, random_seed=rng))"
   ]
  },
  {
   "cell_type": "code",
   "execution_count": 47,
   "id": "ef1ee7cc",
   "metadata": {},
   "outputs": [
    {
     "data": {
      "text/plain": [
       "<Axes: xlabel='consumption'>"
      ]
     },
     "execution_count": 47,
     "metadata": {},
     "output_type": "execute_result"
    },
    {
     "data": {
      "image/png": "[encoded data removed]",
      "text/plain": [
       "<Figure size 1000x500 with 1 Axes>"
      ]
     },
     "metadata": {},
     "output_type": "display_data"
    }
   ],
   "source": [
    "az.plot_ppc(model_simple_trace, num_pp_samples=100, figsize=(10, 5), random_seed=42)"
   ]
  },
  {
   "cell_type": "code",
   "execution_count": 48,
   "id": "53eec630",
   "metadata": {},
   "outputs": [
    {
     "data": {
      "application/vnd.microsoft.datawrangler.viewer.v0+json": {
       "columns": [
        {
         "name": "index",
         "rawType": "object",
         "type": "string"
        },
        {
         "name": "mean",
         "rawType": "float64",
         "type": "float"
        },
        {
         "name": "sd",
         "rawType": "float64",
         "type": "float"
        },
        {
         "name": "hdi_3%",
         "rawType": "float64",
         "type": "float"
        },
        {
         "name": "hdi_97%",
         "rawType": "float64",
         "type": "float"
        },
        {
         "name": "mcse_mean",
         "rawType": "float64",
         "type": "float"
        },
        {
         "name": "mcse_sd",
         "rawType": "float64",
         "type": "float"
        },
        {
         "name": "ess_bulk",
         "rawType": "float64",
         "type": "float"
        },
        {
         "name": "ess_tail",
         "rawType": "float64",
         "type": "float"
        },
        {
         "name": "r_hat",
         "rawType": "float64",
         "type": "float"
        }
       ],
       "conversionMethod": "pd.DataFrame",
       "ref": "f8b5a839-609a-4b76-8a99-3e45f9f3101f",
       "rows": [
        [
         "mu[0]",
         "-0.779",
         "0.04",
         "-0.855",
         "-0.705",
         "0.001",
         "0.0",
         "5302.0",
         "3136.0",
         "1.0"
        ],
        [
         "mu[1]",
         "-1.389",
         "0.041",
         "-1.467",
         "-1.312",
         "0.001",
         "0.0",
         "4840.0",
         "3215.0",
         "1.0"
        ],
        [
         "mu[2]",
         "-1.266",
         "0.04",
         "-1.34",
         "-1.19",
         "0.001",
         "0.0",
         "4937.0",
         "3089.0",
         "1.0"
        ],
        [
         "mu[3]",
         "-1.726",
         "0.04",
         "-1.803",
         "-1.655",
         "0.001",
         "0.0",
         "5567.0",
         "3454.0",
         "1.0"
        ],
        [
         "mu[4]",
         "-0.965",
         "0.041",
         "-1.043",
         "-0.891",
         "0.001",
         "0.0",
         "5001.0",
         "2941.0",
         "1.0"
        ],
        [
         "mu[5]",
         "-1.062",
         "0.039",
         "-1.131",
         "-0.983",
         "0.001",
         "0.0",
         "5158.0",
         "3035.0",
         "1.0"
        ],
        [
         "mu[6]",
         "-1.281",
         "0.04",
         "-1.354",
         "-1.205",
         "0.001",
         "0.0",
         "4741.0",
         "2957.0",
         "1.0"
        ],
        [
         "sigma",
         "0.671",
         "0.01",
         "0.652",
         "0.691",
         "0.0",
         "0.0",
         "5483.0",
         "3387.0",
         "1.0"
        ]
       ],
       "shape": {
        "columns": 9,
        "rows": 8
       }
      },
      "text/html": [
       "<div>\n",
       "<style scoped>\n",
       "    .dataframe tbody tr th:only-of-type {\n",
       "        vertical-align: middle;\n",
       "    }\n",
       "\n",
       "    .dataframe tbody tr th {\n",
       "        vertical-align: top;\n",
       "    }\n",
       "\n",
       "    .dataframe thead th {\n",
       "        text-align: right;\n",
       "    }\n",
       "</style>\n",
       "<table border=\"1\" class=\"dataframe\">\n",
       "  <thead>\n",
       "    <tr style=\"text-align: right;\">\n",
       "      <th></th>\n",
       "      <th>mean</th>\n",
       "      <th>sd</th>\n",
       "      <th>hdi_3%</th>\n",
       "      <th>hdi_97%</th>\n",
       "      <th>mcse_mean</th>\n",
       "      <th>mcse_sd</th>\n",
       "      <th>ess_bulk</th>\n",
       "      <th>ess_tail</th>\n",
       "      <th>r_hat</th>\n",
       "    </tr>\n",
       "  </thead>\n",
       "  <tbody>\n",
       "    <tr>\n",
       "      <th>mu[0]</th>\n",
       "      <td>-0.779</td>\n",
       "      <td>0.040</td>\n",
       "      <td>-0.855</td>\n",
       "      <td>-0.705</td>\n",
       "      <td>0.001</td>\n",
       "      <td>0.0</td>\n",
       "      <td>5302.0</td>\n",
       "      <td>3136.0</td>\n",
       "      <td>1.0</td>\n",
       "    </tr>\n",
       "    <tr>\n",
       "      <th>mu[1]</th>\n",
       "      <td>-1.389</td>\n",
       "      <td>0.041</td>\n",
       "      <td>-1.467</td>\n",
       "      <td>-1.312</td>\n",
       "      <td>0.001</td>\n",
       "      <td>0.0</td>\n",
       "      <td>4840.0</td>\n",
       "      <td>3215.0</td>\n",
       "      <td>1.0</td>\n",
       "    </tr>\n",
       "    <tr>\n",
       "      <th>mu[2]</th>\n",
       "      <td>-1.266</td>\n",
       "      <td>0.040</td>\n",
       "      <td>-1.340</td>\n",
       "      <td>-1.190</td>\n",
       "      <td>0.001</td>\n",
       "      <td>0.0</td>\n",
       "      <td>4937.0</td>\n",
       "      <td>3089.0</td>\n",
       "      <td>1.0</td>\n",
       "    </tr>\n",
       "    <tr>\n",
       "      <th>mu[3]</th>\n",
       "      <td>-1.726</td>\n",
       "      <td>0.040</td>\n",
       "      <td>-1.803</td>\n",
       "      <td>-1.655</td>\n",
       "      <td>0.001</td>\n",
       "      <td>0.0</td>\n",
       "      <td>5567.0</td>\n",
       "      <td>3454.0</td>\n",
       "      <td>1.0</td>\n",
       "    </tr>\n",
       "    <tr>\n",
       "      <th>mu[4]</th>\n",
       "      <td>-0.965</td>\n",
       "      <td>0.041</td>\n",
       "      <td>-1.043</td>\n",
       "      <td>-0.891</td>\n",
       "      <td>0.001</td>\n",
       "      <td>0.0</td>\n",
       "      <td>5001.0</td>\n",
       "      <td>2941.0</td>\n",
       "      <td>1.0</td>\n",
       "    </tr>\n",
       "    <tr>\n",
       "      <th>mu[5]</th>\n",
       "      <td>-1.062</td>\n",
       "      <td>0.039</td>\n",
       "      <td>-1.131</td>\n",
       "      <td>-0.983</td>\n",
       "      <td>0.001</td>\n",
       "      <td>0.0</td>\n",
       "      <td>5158.0</td>\n",
       "      <td>3035.0</td>\n",
       "      <td>1.0</td>\n",
       "    </tr>\n",
       "    <tr>\n",
       "      <th>mu[6]</th>\n",
       "      <td>-1.281</td>\n",
       "      <td>0.040</td>\n",
       "      <td>-1.354</td>\n",
       "      <td>-1.205</td>\n",
       "      <td>0.001</td>\n",
       "      <td>0.0</td>\n",
       "      <td>4741.0</td>\n",
       "      <td>2957.0</td>\n",
       "      <td>1.0</td>\n",
       "    </tr>\n",
       "    <tr>\n",
       "      <th>sigma</th>\n",
       "      <td>0.671</td>\n",
       "      <td>0.010</td>\n",
       "      <td>0.652</td>\n",
       "      <td>0.691</td>\n",
       "      <td>0.000</td>\n",
       "      <td>0.0</td>\n",
       "      <td>5483.0</td>\n",
       "      <td>3387.0</td>\n",
       "      <td>1.0</td>\n",
       "    </tr>\n",
       "  </tbody>\n",
       "</table>\n",
       "</div>"
      ],
      "text/plain": [
       "        mean     sd  hdi_3%  hdi_97%  mcse_mean  mcse_sd  ess_bulk  ess_tail  \\\n",
       "mu[0] -0.779  0.040  -0.855   -0.705      0.001      0.0    5302.0    3136.0   \n",
       "mu[1] -1.389  0.041  -1.467   -1.312      0.001      0.0    4840.0    3215.0   \n",
       "mu[2] -1.266  0.040  -1.340   -1.190      0.001      0.0    4937.0    3089.0   \n",
       "mu[3] -1.726  0.040  -1.803   -1.655      0.001      0.0    5567.0    3454.0   \n",
       "mu[4] -0.965  0.041  -1.043   -0.891      0.001      0.0    5001.0    2941.0   \n",
       "mu[5] -1.062  0.039  -1.131   -0.983      0.001      0.0    5158.0    3035.0   \n",
       "mu[6] -1.281  0.040  -1.354   -1.205      0.001      0.0    4741.0    2957.0   \n",
       "sigma  0.671  0.010   0.652    0.691      0.000      0.0    5483.0    3387.0   \n",
       "\n",
       "       r_hat  \n",
       "mu[0]    1.0  \n",
       "mu[1]    1.0  \n",
       "mu[2]    1.0  \n",
       "mu[3]    1.0  \n",
       "mu[4]    1.0  \n",
       "mu[5]    1.0  \n",
       "mu[6]    1.0  \n",
       "sigma    1.0  "
      ]
     },
     "execution_count": 48,
     "metadata": {},
     "output_type": "execute_result"
    }
   ],
   "source": [
    "az.summary(model_simple_trace, hdi_prob=0.94)"
   ]
  },
  {
   "cell_type": "code",
   "execution_count": 49,
   "id": "46efa2b9",
   "metadata": {},
   "outputs": [],
   "source": [
    "with model_simple:\n",
    "    model_simple_trace.extend"
   ]
  }
 ],
 "metadata": {
  "kernelspec": {
   "display_name": "prpro-2025",
   "language": "python",
   "name": "python3"
  },
  "language_info": {
   "codemirror_mode": {
    "name": "ipython",
    "version": 3
   },
   "file_extension": ".py",
   "mimetype": "text/x-python",
   "name": "python",
   "nbconvert_exporter": "python",
   "pygments_lexer": "ipython3",
   "version": "3.12.9"
  }
 },
 "nbformat": 4,
 "nbformat_minor": 5
}
