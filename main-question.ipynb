{
 "cells": [
  {
   "cell_type": "markdown",
   "metadata": {
    "editable": true,
    "slideshow": {
     "slide_type": ""
    },
    "tags": []
   },
   "source": [
    "TODO:\n",
    "- Better explanation of priors\n",
    "- Add more explanatory text\n",
    "- Make sure the conclusion of hypothesis is clear \n",
    "- Better explain posterior results\n",
    "- Add clarity of trace plots.\n",
    "- Decide which data visualizations we would like to include? Boxplot, mean ..."
   ]
  },
  {
   "cell_type": "markdown",
   "metadata": {},
   "source": [
    "# Energy consumption of a Web Application Implemented in Different Programming Languages and Web Frameworks\n",
    "*Probabilistic Programming 2025 Exam by Raúl Pardo ([raup@itu.dk](mailto:raup@itu.dk)) and Andrzej Wąsowski ([wasowski@itu.dk](mailto:wasowski@itu.dk))*<br/>\n",
    "*version 1.0.0 2025-03-20 08:40*\n"
   ]
  },
  {
   "cell_type": "markdown",
   "metadata": {},
   "source": [
    "In this exam, your task is to analyze energy consumption of different implementations of a web application.\n",
    "The goal is to determine whether there are differences in energy consumption in different implementations of the web application or in its API endpoints.\n",
    "This analysis is of utmost importance, as it might help software engineers to make informed choices that lower energy consumption. For instance, a plausible hypothesis is that lower level programming languages such as Rust consume less energy than higher level languages such as Python.\n",
    "A preconception in this domain is that running time is the driving factor in energy consumption.\n",
    "Are these true? The data in this exam and the analysis you will develop will allow to answer this type of questions."
   ]
  },
  {
   "cell_type": "markdown",
   "metadata": {},
   "source": [
    "## Data"
   ]
  },
  {
   "cell_type": "markdown",
   "metadata": {},
   "source": [
    "The dataset contains $N = 1960$ measurements of energy consumption for different implementations and functionality of a web application. For each setup, there are 20 measurements. The dataset is in the file [dataset.csv](dataset.csv). The variables in the dataset are:\n",
    "\n",
    "* **Application**. This variable has the form `<programming_language>-<web_framework>`. It specifies the programming language and web framework used in the experiment. For instance, `rust-actix` denotes the web framework Actix for the programming language Rust, or `c-sharp-razor` denotes the web framework Razor for the programming language C#.\n",
    "    * Note that if a hypothesis involves only programming language, you need to extract it from the values in this variable.\n",
    "\n",
    "* **Endpoint**. This variable refers to the API endpoints of the web application. For example, `/api/register` refers to the API endpoint used for registering users in the web application, or `/logout` is used for logging out of the system.\n",
    "\n",
    "* **Runtime**. This variable indicates the time it took to process the request to the endpoint in seconds.\n",
    "\n",
    "* **Energy consumption**. This variable indicates the energy consumed for processing the request to the endpoint in Joules.\n",
    "\n",
    "Each row in the dataset is a measurement of the total energy consumed and runtime after processing a request in the corresponding API endpoint. The *Application* variable in each row indicates the web framework used for the measurement."
   ]
  },
  {
   "cell_type": "markdown",
   "metadata": {},
   "source": [
    "## Hypotheses\n",
    "\n",
    "To analyze energy consumption in the different implementations, you must investigate the following hypotheses:\n",
    "\n",
    "* **H1** - The web framework `c-sharp-razor` consumes more energy than any other web framework in the dataset.\n",
    "\n",
    "* **H2** - The programming language `javascript` consumes the least amount of energy compared to any other programming language in the dataset.\n",
    "\n",
    "* **H3** - Runtime has a stronger impact on energy consumption for some API endpoints than others. That is, the effect of runtime on energy consumption is larger for some API endpoints than others."
   ]
  },
  {
   "cell_type": "markdown",
   "metadata": {},
   "source": [
    "Your task is to use Bayesian Inference and Regression to decide whether these hypotheses hold, or possibly reject them. This includes:\n",
    "\n",
    "* Loading, restructuring and transforming the data as needed.\n",
    "\n",
    "* Designing Bayesian regression models and using inference algorithms to test the above hypotheses in PyMC.\n",
    "\n",
    "* Explaining your model idea in English, preferably using a figure, and showing the Python code.\n",
    "\n",
    "* Checking and reflecting (in writing) on the quality of the sampling process, considering warnings from the tool, sampling summary statistics, trace plots, and autocorrelation plots. Comment whether the quality of the sampled trace is good, and whether you had to make any adjustments during modeling and/or sampling.\n",
    "\n",
    "* Visualizing the posterior information appropriately to address the hypotheses.\n",
    "  \n",
    "\n",
    "You should hand in a zip file with a Jupyter notebook and the data file (so that we can run it), and a **PDF file rendering of the Jupyter notebook**, so that your work can be assessed just by reading this file. It appears that the best PDF rendering is obtained by File / Export to HTML, and then saving/printing to PDF from your browser.\n",
    "\n",
    "Make sure the notebook is actually a **report** readable to the examiners, especially to the censor who has not followed the course. The report should include:\n",
    "* A brief introduction.\n",
    "* Explanations on how data is loaded and cleaned.\n",
    "* Explanations on analysis and model design (for each of the models you consider).\n",
    "* A discussion of sampling quality (for each model) and all the plots that you present, and a reflection/decision on the outcome for each hypothesis.\n",
    "* An overall conclusion.\n",
    "\n",
    "**IMPORTANT:** For the tasks below, your code must accompany an explanation of its meaning and intended purpose. **Source code alone is not self-explanatory**. As mentioned above, you should also reflect on the results you get, e.g., highlighting issues with the data, or issues, pitfalls and assumptions of a model. **Exams containing only source code or very scarce explanations will result in low grades, including failing grades.**\n",
    "\n"
   ]
  },
  {
   "cell_type": "markdown",
   "metadata": {},
   "source": [
    "\n",
    "\n",
    "## Minimum requirements \n",
    "\n",
    "1. Design a regression model to predict energy consumption using web framework as a predictor.\n",
    "  \n",
    "2. Analyze hypothesis H1 using the regression model in (1.).\n",
    "\n",
    "## Ideas for extension\n",
    "\n",
    "**Groups aiming at grade 7 and more should complete the following tasks:**\n",
    "    \n",
    "3. Analyze hypothesis H2, if necessary design a new model.\n",
    "        \n",
    "4. Perform prior predictive checks in all your models. Explain why the priors you selected are appropriate.\n",
    "    \n",
    "5. Perform posterior predictive checks in all your models. Discuss the results in the posterior predictive checks.\n",
    "    \n",
    "6. Discuss trace convergence in all your models.\n",
    "    \n",
    "**Groups aiming at grade 10 and higher should try 3-5 ideas from below or add some of your own:**\n",
    "\n",
    "7. Analyze hypothesis H3, if necessary design a new model.\n",
    "    \n",
    "8. Perform a counterfactual analysis in your model for H3: For each endpoint, plot posterior predictions on energy consumption for a runtime value much larger than those in the dataset. Does this affect/introduce differences between energy consumption for different endpoints?\n",
    "    \n",
    "9. Design models with a transformation of the predicted variable, i.e., energy consumption. For instance, \n",
    "    * Build a model to analyze the probability that the energy consumption of a web framework is below 0.4 Joules. You may consider versions of this task involving other predictors.\n",
    "    * Transform energy consumption into an ordinal variable representing an energy mark, e.g., an energy consumption in 0.0-0.2 is energy mark A, energy consumption in 0.2-0.4 is energy mark B and energy consumption of ≥ 0.4 is energy mark C. Use an ordinal regression model to analyze the energy mark of each framework. You may consider versions of this task involving other predictors.\n",
    "    \n",
    "10. Use information criteria to compare the models to analyze H1, H2 and H3.\n",
    "    \n",
    "11. Design a meaningful multilevel model in the context of these data.\n",
    "   \n",
    "12. Use causal reasoning to analyze causal relations between the variables in the dataset."
   ]
  },
  {
   "cell_type": "markdown",
   "metadata": {
    "vscode": {
     "languageId": "plaintext"
    }
   },
   "source": [
    "---"
   ]
  },
  {
   "cell_type": "markdown",
   "metadata": {},
   "source": [
    "# Exam Prpro 2025 - Group Nickelback\n",
    "\n",
    "**TODO: Front page**"
   ]
  },
  {
   "cell_type": "markdown",
   "metadata": {},
   "source": [
    "## The problem\n",
    "\n",
    "In this report we explore the energy consumption of different programming languages and framework. Specfically, we want to explore the difference in energy consumption across different implementations of web applications. We are given data from executing requests to these web applications that we will use for our analysis.\n",
    "\n",
    "### Introducing the data\n",
    "\n",
    "The information that we have been given about the data is that there are four columns in our dataset:\n",
    "\n",
    "- Application:\n",
    "  - Formatted with `<programming_language>-<web_framework>`\n",
    "- Endpoint:\n",
    "  - The path of the endpoint like `/api/register`\n",
    "- Energy_consumption:\n",
    "  - The energy consumption of the for processing a request to an endpoint in Joules.\n",
    "  - Because of physics we can not have negative energy consumption, so we can assume that the energy consumption is always positive.\n",
    "- Runtime:\n",
    "  - The time it took to process a request to an endpoint in seconds.\n",
    "  - Because of physics we can not have negative time, so we can assume that the time is always positive.\n"
   ]
  },
  {
   "cell_type": "markdown",
   "metadata": {},
   "source": [
    "Let's first import libraries and read the data into a dataframe."
   ]
  },
  {
   "cell_type": "code",
   "execution_count": 150,
   "metadata": {},
   "outputs": [],
   "source": [
    "import numpy as np\n",
    "import pandas as pd\n",
    "import arviz as az\n",
    "import pymc as pm\n",
    "import matplotlib.pyplot as plt\n",
    "import xarray as xr\n",
    "import scipy.stats as stats\n",
    "import seaborn as sns\n",
    "rng = 42"
   ]
  },
  {
   "cell_type": "code",
   "execution_count": null,
   "metadata": {},
   "outputs": [],
   "source": [
    "df = pd.read_csv('dataset.csv')"
   ]
  },
  {
   "cell_type": "markdown",
   "metadata": {},
   "source": [
    "With the data we can start exploring the data format, so we have an idea of what we are working with."
   ]
  },
  {
   "cell_type": "code",
   "execution_count": null,
   "metadata": {},
   "outputs": [],
   "source": [
    "df"
   ]
  },
  {
   "cell_type": "markdown",
   "metadata": {},
   "source": [
    "It would be interesting to see how many different applications and endpoints we have in our dataset."
   ]
  },
  {
   "cell_type": "code",
   "execution_count": null,
   "metadata": {},
   "outputs": [],
   "source": [
    "df.endpoint.unique().tolist()"
   ]
  },
  {
   "cell_type": "markdown",
   "metadata": {},
   "source": [
    "We see that the dataset contains a total of 14 different endpoints."
   ]
  },
  {
   "cell_type": "code",
   "execution_count": null,
   "metadata": {},
   "outputs": [
    {
     "data": {
      "text/plain": [
       "['rust-actix',\n",
       " 'ruby-sinatra',\n",
       " 'go-gorilla',\n",
       " 'go-gin',\n",
       " 'python-flask',\n",
       " 'c-sharp-razor',\n",
       " 'javascript-express']"
      ]
     },
     "metadata": {},
     "output_type": "display_data"
    }
   ],
   "source": [
    "df.application.unique().tolist()"
   ]
  },
  {
   "cell_type": "markdown",
   "metadata": {},
   "source": [
    "And the dataset contains seven different applications.\n",
    "\n",
    "Just to be sure lets check that all applications have the same number of measurements."
   ]
  },
  {
   "cell_type": "code",
   "execution_count": 146,
   "metadata": {},
   "outputs": [],
   "source": [
    "df.groupby('application').endpoint.nunique().reset_index().sort_values('endpoint', ascending=False)"
   ]
  },
  {
   "cell_type": "markdown",
   "metadata": {},
   "source": [
    "#### Let's try to understand the data a little better."
   ]
  },
  {
   "cell_type": "markdown",
   "metadata": {},
   "source": [
    "**TODO: Why boxplot?**"
   ]
  },
  {
   "cell_type": "code",
   "execution_count": 117,
   "metadata": {},
   "outputs": [],
   "source": [
    "target = \"c-sharp-razor\"\n",
    "# target = \"javascript-express\"\n",
    "csharpdata = df.where(df[\"application\"] == target)\n",
    "data = csharpdata\n",
    "grouped = [ group[\"energy_consumption\"].values for _, group in data.groupby([\"endpoint\"]) ]\n",
    "labels = data.groupby([\"endpoint\"]).groups.keys()\n",
    "\n",
    "plt.figure(figsize=(12, 6))\n",
    "plt.boxplot(grouped, labels=labels, patch_artist=True)\n",
    "plt.title(f\"Energy Consumption Distribution per Application and Endpoint for {target}\")\n",
    "plt.ylabel(\"Energy Consumption\")\n",
    "plt.xticks(rotation=45)\n",
    "plt.tight_layout()\n",
    "plt.show()"
   ]
  },
  {
   "cell_type": "markdown",
   "metadata": {},
   "source": [
    "**TODO: Why is this plot interesting - what can we say about it?**"
   ]
  },
  {
   "cell_type": "code",
   "execution_count": 118,
   "metadata": {},
   "outputs": [],
   "source": [
    "sns.set_theme(style=\"whitegrid\")\n",
    "\n",
    "# Use a more vibrant color palette\n",
    "palette = sns.color_palette(\"tab20\", n_colors=14)\n",
    "\n",
    "# Create the FacetGrid with custom palette\n",
    "g = sns.FacetGrid(df, col=\"application\", col_wrap=3, sharex=False, sharey=False, height=4)\n",
    "g.map_dataframe(sns.scatterplot, x=\"runtime\", y=\"energy_consumption\", hue=\"endpoint\", palette=palette, alpha=0.7)\n",
    "\n",
    "# Clean up the layout\n",
    "g.set_axis_labels(\"Runtime (s)\", \"Energy Consumption (Joules)\")\n",
    "g.set_titles(col_template=\"{col_name}\")\n",
    "g.add_legend(title=\"Endpoint\")\n",
    "g.figure.subplots_adjust(top=0.9)\n",
    "g.figure.suptitle(\"Runtime vs. Energy Consumption per Application and Endpoint\")\n",
    "\n",
    "plt.show()"
   ]
  },
  {
   "cell_type": "markdown",
   "metadata": {},
   "source": [
    "Seems like linear behaviour, so we should be able to capture it using linear regressionmodels."
   ]
  },
  {
   "cell_type": "markdown",
   "metadata": {},
   "source": [
    "## Data transformations"
   ]
  },
  {
   "cell_type": "markdown",
   "metadata": {},
   "source": [
    "Next, we will do a few data transformations:\n",
    "- We will extract `language` $L$ and `framework` $F$ into separate data columns\n",
    "- For the analysis we will need to work with categorical data, specfically the columns `application` $A$, `language` $L$, and *framework* $F$.\n",
    "- And we will normalize `running time` $R$ and `energy consumption` $C$, because regression models work better with variables of similar scale."
   ]
  },
  {
   "cell_type": "code",
   "execution_count": 119,
   "metadata": {},
   "outputs": [],
   "source": [
    "language, framework = list(zip(*df[\"application\"].apply(lambda a: a.split(\"-\") if not a.startswith(\"c-sharp\") else [a[0:7], a[8:]])))\n",
    "df[\"L\"] = df[\"language\"] = list(language)\n",
    "df[\"framework\"] = list(framework)\n",
    "df[\"F\"] = list(framework)"
   ]
  },
  {
   "cell_type": "markdown",
   "metadata": {},
   "source": [
    "The next cell will create indexes for the categorical data columns"
   ]
  },
  {
   "cell_type": "code",
   "execution_count": 120,
   "metadata": {},
   "outputs": [],
   "source": [
    "cats = pd.Categorical(df[\"application\"])\n",
    "L_cats = pd.Categorical(df[\"language\"])\n",
    "F_cats = pd.Categorical(df[\"framework\"])\n",
    "df[\"A\"] = cats.codes\n",
    "df[\"L\"] = L_cats.codes\n",
    "df[\"F\"] = F_cats.codes\n",
    "df[\"C\"] = df[\"energy_consumption\"]\n",
    "df[\"R\"] = df[\"runtime\"]\n",
    "\n",
    "print(\"Application code to to its category label:\")\n",
    "for code, label in enumerate(cats.categories):\n",
    "    print(f\"  {code}: {label}\")"
   ]
  },
  {
   "cell_type": "markdown",
   "metadata": {},
   "source": [
    "Next we will create a standadized $X_{stand}$ column, so high outliers will not affect the model too much. \n",
    "\n",
    "The formuular for standardization is:\n",
    "$$X_{stand} = \\frac{X - median(X)}{Std(X)}$$\n",
    "Where $Std(X)$ is the standard deviation.\n"
   ]
  },
  {
   "cell_type": "code",
   "execution_count": 121,
   "metadata": {},
   "outputs": [],
   "source": [
    "df[\"R_stand\"] = (df[\"R\"] - df[\"R\"].mean()) / df[\"R\"].std()\n",
    "df[\"C_stand\"] = (df[\"C\"] - df[\"C\"].mean()) / df[\"C\"].std()"
   ]
  },
  {
   "cell_type": "markdown",
   "metadata": {},
   "source": [
    "Let's take a look at the final *dataframe* with all our data transformations applied"
   ]
  },
  {
   "cell_type": "code",
   "execution_count": 122,
   "metadata": {},
   "outputs": [],
   "source": [
    "df"
   ]
  },
  {
   "cell_type": "markdown",
   "metadata": {},
   "source": [
    "## Testing Hypothesis 1\n",
    "\n",
    "The first step will be to create a simple model with a single intercept per application ($A$).\n",
    "\n",
    "Let's build a simple model. How should do we want to model our priors? Since we have standardized our outcome variable $C$, we know the mean to be 0 and hence it makes sense to model the likelihood as a $\\text{Normal}$ distribution. As for the predictor $\\alpha$ let us pick a relatively flat normal distribution for the distribution of intercepts.\n",
    "$$\n",
    "\\begin{aligned}\n",
    "    C &\\sim \\text{Normal}(\\mu, \\sigma) \\\\\n",
    "    \\mu &\\sim \\alpha_{[A[i]]} \\\\\n",
    "    \\alpha &\\sim \\text{Normal}(0,2) \\\\\n",
    "    \\sigma &\\sim \\text{Exponential}(1)\n",
    "\\end{aligned}\n",
    "$$"
   ]
  },
  {
   "cell_type": "markdown",
   "metadata": {},
   "source": [
    "**Why these distributions?**\n",
    "\n",
    "The reasoning for choosing distributions for the priors is as follows:\n",
    "\n",
    "- **$\\alpha$**: We don't have a good intuition about the intercepts of the different applications. Therefore, we default to a normal distribution with a mean of 0 and a standard deviattion of 2. This means we expect the intercepts to be between -4 and 4 with a 95% probability. We believe that defaulting to a normal distribution is the most reasonable choice given one doesn't have an intuition about the distribution.\n",
    "- **$\\sigma$**: We know that the standard deviation of the outcome variable is positive. Therefore, we choose an exponential distribution with a mean of 1. This means we expect the standard deviation to be between 0 and 2 with a 95% probability. "
   ]
  },
  {
   "cell_type": "markdown",
   "metadata": {},
   "source": [
    "\n",
    "The first step will be checking that our priors are sensible by doing a prior predictive check:"
   ]
  },
  {
   "cell_type": "code",
   "execution_count": 151,
   "metadata": {},
   "outputs": [
    {
     "data": {
      "image/png": "[encoded data removed]",
      "text/plain": [
       "<Figure size 640x480 with 2 Axes>"
      ]
     },
     "metadata": {},
     "output_type": "display_data"
    }
   ],
   "source": [
    "n_samples = 1000\n",
    "alpha_mean = 0\n",
    "alpha_std = 2\n",
    "\n",
    "ax1 = plt.subplot(2, 2, (1,1))\n",
    "x = np.linspace(-7,7,n_samples)\n",
    "alpha_sample = stats.norm.pdf(x, alpha_mean, alpha_std)\n",
    "sigma_sample = stats.expon.pdf(x, 1)\n",
    "ax1.plot(x, alpha_sample)\n",
    "ax1.set_title(\"Prior of alpha - Normal(0,10)\")\n",
    "\n",
    "ax2 = plt.subplot(2, 2, (2,2))\n",
    "alpha_sample = stats.norm.rvs(loc=alpha_mean, scale=alpha_std, size=n_samples)\n",
    "sigma_sample = stats.expon.rvs(1, size=n_samples)\n",
    "prior_h = stats.norm.rvs(loc=alpha_sample, scale=sigma_sample)\n",
    "az.plot_kde(prior_h, ax=ax2)\n",
    "ax2.set_xlabel(\"Energy consumption\")\n",
    "ax2.set_yticks([]);\n",
    "ax2.set_title(\"Prior for C - Normal(alpha, sigma)\")\n",
    "plt.show()"
   ]
  },
  {
   "cell_type": "markdown",
   "metadata": {},
   "source": []
  },
  {
   "cell_type": "markdown",
   "metadata": {},
   "source": [
    "Recall that category 0 for application is `c-sharp-razor`. We are now ready to create the PYMC model:"
   ]
  },
  {
   "cell_type": "markdown",
   "metadata": {},
   "source": [
    "$$\n",
    "\n",
    "\\begin{aligned}\n",
    "    C &\\sim \\text{Normal}(\\mu, \\sigma) \\\\\n",
    "    \\mu &\\sim \\alpha_{[A[i]]} \\\\\n",
    "    \\alpha &\\sim \\text{HalfNormal}(1) \\\\\n",
    "    \\sigma &\\sim \\text{Exponential}(1)\n",
    "\\end{aligned}\n",
    "\n",
    "$$"
   ]
  },
  {
   "cell_type": "code",
   "execution_count": 124,
   "metadata": {},
   "outputs": [],
   "source": [
    "with pm.Model() as m_h1b:\n",
    "    C_data = pm.Data(\"C_data\", df[\"energy_consumption\"].values, mutable=True)\n",
    "    A_data = pm.Data(\"A_data\", df[\"A\"].values, mutable=True)\n",
    "\n",
    "\n",
    "    alpha = pm.HalfNormal(\"alpha\", 1, shape=df[\"A\"].unique().size)\n",
    "    sigma = pm.Exponential(\"sigma\", 1)\n",
    "    mu = pm.Deterministic(\"mu\", alpha[A_data])\n",
    "    C = pm.Normal(\"C\", mu=mu, sigma=sigma, observed=C_data)\n",
    "\n",
    "    diff = pm.Deterministic(\"diff\", alpha - alpha[0])\n",
    "\n",
    "    trace_h1b = pm.sample(random_seed=rng, idata_kwargs = { 'log_likelihood': True })"
   ]
  },
  {
   "cell_type": "code",
   "execution_count": 125,
   "metadata": {},
   "outputs": [],
   "source": [
    "np.random.seed(rng)\n",
    "\n",
    "n_samples = 1000\n",
    "ax1 = plt.subplot(2, 2, (1,1))\n",
    "x = np.linspace(-1,5,n_samples)\n",
    "alpha_sample = stats.halfnorm.pdf(x, 0,1)\n",
    "sigma_sample = stats.expon.pdf(x, 1)\n",
    "ax1.plot(x, alpha_sample)\n",
    "ax1.set_title(\"Prior of alpha - HalfNormal(0,1)\")\n",
    "\n",
    "ax2 = plt.subplot(2, 2, (2,2))\n",
    "alpha_sample = stats.halfnorm.rvs(loc=0, scale=1, size=n_samples)\n",
    "sigma_sample = stats.expon.rvs(1, size=n_samples)\n",
    "prior_h = stats.norm.rvs(loc=alpha_sample, scale=sigma_sample)\n",
    "# prior_h = stats.truncnorm()\n",
    "az.plot_kde(\n",
    "    prior_h, \n",
    "    ax=ax2\n",
    ")\n",
    "ax2.set_xlabel(\"Energy consumption\")\n",
    "# ax2.set_xlim(0, 20)\n",
    "ax2.set_yticks([])\n",
    "ax2.set_title(\"Prior for C - Normal(alpha, sigma)\")\n",
    "plt.show()"
   ]
  },
  {
   "cell_type": "markdown",
   "metadata": {},
   "source": [
    "Looks a lot more reasonable, $\\alpha$ can no longer be negative which better fits our domain knowledge. Additionally, the prior of $C$ is situated to the right of 0 which is preferable for the same reason as $\\alpha$."
   ]
  },
  {
   "cell_type": "markdown",
   "metadata": {},
   "source": [
    "Next, we will consider the sampling process starting with a trace plot:"
   ]
  },
  {
   "cell_type": "code",
   "execution_count": 126,
   "metadata": {},
   "outputs": [],
   "source": [
    "az.plot_trace(trace_h1b, var_names=[\"alpha\"])"
   ]
  },
  {
   "cell_type": "markdown",
   "metadata": {},
   "source": [
    "Looking at the plot trace - the sampling process looks successful. Specfically, in the right hand side plot we see good mixing in (read: *zig zagging*) and good convergance (chains are sticking to the same high probability areas). "
   ]
  },
  {
   "cell_type": "code",
   "execution_count": 127,
   "metadata": {},
   "outputs": [],
   "source": [
    "az.summary(trace_h1b, var_names=[\"alpha\"])"
   ]
  },
  {
   "cell_type": "markdown",
   "metadata": {},
   "source": [
    "Looking at the summary of the simulation, firstly we see that the $\\hat r$ values are all 1, again suggesting that the sampling process was successful (and similarly the effective sample size (ess_bulk) is also high). \n",
    "\n",
    "Interestingly, considering only the alpha parameters, we see that the mean $\\alpha$ is highest for the category \"*c-sharp-razor*\", and the model is fairly confident (low standard deviation)."
   ]
  },
  {
   "cell_type": "markdown",
   "metadata": {},
   "source": [
    "Let's take a look at the \"diff\" which in this model are the contrasts between the baseline, \"*c-sharp-razor*\", and the other applications."
   ]
  },
  {
   "cell_type": "code",
   "execution_count": 128,
   "metadata": {},
   "outputs": [],
   "source": [
    "az.plot_forest(trace_h1b, var_names=[\"diff\"], combined=True)"
   ]
  },
  {
   "cell_type": "markdown",
   "metadata": {},
   "source": [
    "Recall that $0$ (zero) is the application \"*c-sharp-razor*\". We see from the forest plot of contrasts above that they are all sitting well to the left of 0.0, meaning that the energy consumption of \"*c-sharp-razor*\" is higher than all the other language/frameworks. We are able to reject hypothesis 1."
   ]
  },
  {
   "cell_type": "markdown",
   "metadata": {},
   "source": [
    "------\n",
    "\n",
    "Posterior predictive check - let's see how well the model can recreate the data.\n",
    "\n",
    "First we sample the posterior using pymc"
   ]
  },
  {
   "cell_type": "code",
   "execution_count": 129,
   "metadata": {},
   "outputs": [],
   "source": [
    "with m_h1b:\n",
    "    pm.sample_posterior_predictive(trace_h1b, extend_inferencedata=True, random_seed=rng)"
   ]
  },
  {
   "cell_type": "code",
   "execution_count": 130,
   "metadata": {},
   "outputs": [],
   "source": [
    "_, ax = plt.subplots()\n",
    "az.plot_ppc(trace_h1b, num_pp_samples = 200, ax=ax)"
   ]
  },
  {
   "cell_type": "markdown",
   "metadata": {},
   "source": [
    "Looking at the posterior predictive we see that although the peak of our model isn't nearly as pronounced as the \"observed\" the location and width of the peak match that of the observed data."
   ]
  },
  {
   "cell_type": "markdown",
   "metadata": {},
   "source": [
    "### Improving the model\n",
    "\n"
   ]
  },
  {
   "cell_type": "markdown",
   "metadata": {},
   "source": [
    "Looking at the posterior predictive check we are still not happy with the model. It severely underestimates the peak and the outcome variable can still be negative.\n",
    "\n",
    "Looks Normal distribution might not fit the data, we think it looks like a LogNormal distribution. It starts above 0, rapidly increasing peak.\n",
    "\n",
    "$$\n",
    "\n",
    "\\begin{aligned}\n",
    "    C &\\sim \\text{LogNormal}(\\mu, \\sigma) \\\\\n",
    "    \\mu &\\sim \\alpha_{[A[i]]} \\\\\n",
    "    \\alpha &\\sim \\text{Normal}(0,1) \\\\\n",
    "    \\sigma &\\sim \\text{Exponential}(1)\n",
    "\\end{aligned}\n",
    "\n",
    "$$\n",
    "\n"
   ]
  },
  {
   "cell_type": "code",
   "execution_count": 131,
   "metadata": {},
   "outputs": [],
   "source": [
    "with pm.Model() as m_h1_lognormal:\n",
    "    sigma = pm.Exponential(\"sigma\", 1)\n",
    "    mu = pm.Normal(\"mu\", 0, 1, shape=(df[\"A\"].max() + 1,))\n",
    "    \n",
    "    consumption = pm.LogNormal(\"consumption\", mu[df[\"A\"].values], sigma, observed=df[\"energy_consumption\"])\n",
    "\n",
    "    diff = pm.Deterministic(\"diff\", mu - mu[0])\n",
    "\n",
    "    trace_h1_lognormal = pm.sample(random_seed = rng, idata_kwargs = { 'log_likelihood': True })\n",
    "    pm.sample_posterior_predictive(trace_h1_lognormal, extend_inferencedata=True, random_seed=rng)"
   ]
  },
  {
   "cell_type": "markdown",
   "metadata": {},
   "source": [
    "Let's consider the sampling process"
   ]
  },
  {
   "cell_type": "code",
   "execution_count": 132,
   "metadata": {},
   "outputs": [],
   "source": [
    "az.plot_trace(trace_h1_lognormal, var_names=[\"mu\"])"
   ]
  },
  {
   "cell_type": "markdown",
   "metadata": {},
   "source": [
    "This also looks good - mixing and convergence"
   ]
  },
  {
   "cell_type": "code",
   "execution_count": 133,
   "metadata": {},
   "outputs": [],
   "source": [
    "az.plot_ppc(trace_h1_lognormal, num_pp_samples=100, figsize=(10, 5), random_seed=42)"
   ]
  },
  {
   "cell_type": "markdown",
   "metadata": {},
   "source": [
    "Look at the beauty. Compared to the normal distribution our new posterior predictive check creates the data much better!\n",
    "\n",
    "Let's take a look at the contrasts."
   ]
  },
  {
   "cell_type": "code",
   "execution_count": 134,
   "metadata": {},
   "outputs": [],
   "source": [
    "az.plot_forest(trace_h1_lognormal, var_names=[\"diff\"], combined=True)"
   ]
  },
  {
   "cell_type": "code",
   "execution_count": 135,
   "metadata": {},
   "outputs": [],
   "source": [
    "az.summary(trace_h1_lognormal, var_names=[\"mu\", \"sigma\"])"
   ]
  },
  {
   "cell_type": "markdown",
   "metadata": {},
   "source": [
    "**TODO: Explain the results from the lognormal model.**"
   ]
  },
  {
   "cell_type": "markdown",
   "metadata": {},
   "source": [
    "**TODO: Motivate why running time is interesting because of the results from lognormal**"
   ]
  },
  {
   "cell_type": "code",
   "execution_count": 136,
   "metadata": {},
   "outputs": [
    {
     "name": "stderr",
     "output_type": "stream",
     "text": [
      "/home/chobbie/anaconda3/envs/prpro-2025/lib/python3.12/site-packages/pymc/data.py:440: FutureWarning: Data is now always mutable. Specifying the `mutable` kwarg will raise an error in a future release\n",
      "  warnings.warn(\n",
      "Initializing NUTS using jitter+adapt_diag...\n",
      "Multiprocess sampling (4 chains in 4 jobs)\n",
      "NUTS: [alpha, sigma, beta]\n"
     ]
    },
    {
     "data": {
      "application/vnd.jupyter.widget-view+json": {
       "model_id": "3db287e28ab94d6d814c6a6ff53b9239",
       "version_major": 2,
       "version_minor": 0
      },
      "text/plain": [
       "Output()"
      ]
     },
     "metadata": {},
     "output_type": "display_data"
    },
    {
     "data": {
      "text/html": [
       "<pre style=\"white-space:pre;overflow-x:auto;line-height:normal;font-family:Menlo,'DejaVu Sans Mono',consolas,'Courier New',monospace\"></pre>\n"
      ],
      "text/plain": []
     },
     "metadata": {},
     "output_type": "display_data"
    },
    {
     "name": "stderr",
     "output_type": "stream",
     "text": [
      "Sampling 4 chains for 1_000 tune and 1_000 draw iterations (4_000 + 4_000 draws total) took 3 seconds.\n"
     ]
    }
   ],
   "source": [
    "with pm.Model() as m_h1_with_runningtime:\n",
    "    alpha = pm.Normal(\"alpha\", 0,1)\n",
    "    sigma = pm.Exponential(\"sigma\", 1)\n",
    "    beta  = pm.Normal(\"beta\", 0,1, shape=df[\"A\"].unique().size)\n",
    "\n",
    "    C_data = pm.Data(\"C_data\", df[\"C\"].values, mutable=True)\n",
    "    A_data = pm.Data(\"A_data\", df[\"A\"].values, mutable=True)\n",
    "    R_data = pm.Data(\"R_data\", df[\"R_stand\"].values, mutable=True)\n",
    "\n",
    "    mu = pm.Deterministic(\"mu\", alpha + beta[A_data] * R_data)\n",
    "    C = pm.LogNormal(\"C\", mu=mu, sigma=sigma, observed=C_data)\n",
    "\n",
    "    diff = pm.Deterministic(\"diff\", beta - beta[0])\n",
    "\n",
    "    trace_h1_with_runningtime = pm.sample(random_seed=rng, idata_kwargs = { 'log_likelihood': True })"
   ]
  },
  {
   "cell_type": "code",
   "execution_count": 137,
   "metadata": {},
   "outputs": [
    {
     "data": {
      "text/html": [
       "<div>\n",
       "<style scoped>\n",
       "    .dataframe tbody tr th:only-of-type {\n",
       "        vertical-align: middle;\n",
       "    }\n",
       "\n",
       "    .dataframe tbody tr th {\n",
       "        vertical-align: top;\n",
       "    }\n",
       "\n",
       "    .dataframe thead th {\n",
       "        text-align: right;\n",
       "    }\n",
       "</style>\n",
       "<table border=\"1\" class=\"dataframe\">\n",
       "  <thead>\n",
       "    <tr style=\"text-align: right;\">\n",
       "      <th></th>\n",
       "      <th>mean</th>\n",
       "      <th>sd</th>\n",
       "      <th>hdi_3%</th>\n",
       "      <th>hdi_97%</th>\n",
       "      <th>mcse_mean</th>\n",
       "      <th>mcse_sd</th>\n",
       "      <th>ess_bulk</th>\n",
       "      <th>ess_tail</th>\n",
       "      <th>r_hat</th>\n",
       "    </tr>\n",
       "  </thead>\n",
       "  <tbody>\n",
       "    <tr>\n",
       "      <th>alpha</th>\n",
       "      <td>-1.119</td>\n",
       "      <td>0.007</td>\n",
       "      <td>-1.132</td>\n",
       "      <td>-1.107</td>\n",
       "      <td>0.0</td>\n",
       "      <td>0.0</td>\n",
       "      <td>4339.0</td>\n",
       "      <td>3218.0</td>\n",
       "      <td>1.0</td>\n",
       "    </tr>\n",
       "    <tr>\n",
       "      <th>beta[0]</th>\n",
       "      <td>0.445</td>\n",
       "      <td>0.008</td>\n",
       "      <td>0.431</td>\n",
       "      <td>0.460</td>\n",
       "      <td>0.0</td>\n",
       "      <td>0.0</td>\n",
       "      <td>4758.0</td>\n",
       "      <td>2928.0</td>\n",
       "      <td>1.0</td>\n",
       "    </tr>\n",
       "    <tr>\n",
       "      <th>beta[1]</th>\n",
       "      <td>1.350</td>\n",
       "      <td>0.026</td>\n",
       "      <td>1.303</td>\n",
       "      <td>1.401</td>\n",
       "      <td>0.0</td>\n",
       "      <td>0.0</td>\n",
       "      <td>5269.0</td>\n",
       "      <td>3009.0</td>\n",
       "      <td>1.0</td>\n",
       "    </tr>\n",
       "    <tr>\n",
       "      <th>beta[2]</th>\n",
       "      <td>1.075</td>\n",
       "      <td>0.029</td>\n",
       "      <td>1.021</td>\n",
       "      <td>1.131</td>\n",
       "      <td>0.0</td>\n",
       "      <td>0.0</td>\n",
       "      <td>5449.0</td>\n",
       "      <td>3336.0</td>\n",
       "      <td>1.0</td>\n",
       "    </tr>\n",
       "    <tr>\n",
       "      <th>beta[3]</th>\n",
       "      <td>0.971</td>\n",
       "      <td>0.022</td>\n",
       "      <td>0.930</td>\n",
       "      <td>1.011</td>\n",
       "      <td>0.0</td>\n",
       "      <td>0.0</td>\n",
       "      <td>5543.0</td>\n",
       "      <td>3639.0</td>\n",
       "      <td>1.0</td>\n",
       "    </tr>\n",
       "    <tr>\n",
       "      <th>beta[4]</th>\n",
       "      <td>0.696</td>\n",
       "      <td>0.027</td>\n",
       "      <td>0.647</td>\n",
       "      <td>0.747</td>\n",
       "      <td>0.0</td>\n",
       "      <td>0.0</td>\n",
       "      <td>5446.0</td>\n",
       "      <td>3397.0</td>\n",
       "      <td>1.0</td>\n",
       "    </tr>\n",
       "    <tr>\n",
       "      <th>beta[5]</th>\n",
       "      <td>0.830</td>\n",
       "      <td>0.022</td>\n",
       "      <td>0.788</td>\n",
       "      <td>0.869</td>\n",
       "      <td>0.0</td>\n",
       "      <td>0.0</td>\n",
       "      <td>5081.0</td>\n",
       "      <td>3394.0</td>\n",
       "      <td>1.0</td>\n",
       "    </tr>\n",
       "    <tr>\n",
       "      <th>beta[6]</th>\n",
       "      <td>0.928</td>\n",
       "      <td>0.031</td>\n",
       "      <td>0.865</td>\n",
       "      <td>0.986</td>\n",
       "      <td>0.0</td>\n",
       "      <td>0.0</td>\n",
       "      <td>4762.0</td>\n",
       "      <td>2968.0</td>\n",
       "      <td>1.0</td>\n",
       "    </tr>\n",
       "  </tbody>\n",
       "</table>\n",
       "</div>"
      ],
      "text/plain": [
       "          mean     sd  hdi_3%  hdi_97%  mcse_mean  mcse_sd  ess_bulk  \\\n",
       "alpha   -1.119  0.007  -1.132   -1.107        0.0      0.0    4339.0   \n",
       "beta[0]  0.445  0.008   0.431    0.460        0.0      0.0    4758.0   \n",
       "beta[1]  1.350  0.026   1.303    1.401        0.0      0.0    5269.0   \n",
       "beta[2]  1.075  0.029   1.021    1.131        0.0      0.0    5449.0   \n",
       "beta[3]  0.971  0.022   0.930    1.011        0.0      0.0    5543.0   \n",
       "beta[4]  0.696  0.027   0.647    0.747        0.0      0.0    5446.0   \n",
       "beta[5]  0.830  0.022   0.788    0.869        0.0      0.0    5081.0   \n",
       "beta[6]  0.928  0.031   0.865    0.986        0.0      0.0    4762.0   \n",
       "\n",
       "         ess_tail  r_hat  \n",
       "alpha      3218.0    1.0  \n",
       "beta[0]    2928.0    1.0  \n",
       "beta[1]    3009.0    1.0  \n",
       "beta[2]    3336.0    1.0  \n",
       "beta[3]    3639.0    1.0  \n",
       "beta[4]    3397.0    1.0  \n",
       "beta[5]    3394.0    1.0  \n",
       "beta[6]    2968.0    1.0  "
      ]
     },
     "execution_count": 137,
     "metadata": {},
     "output_type": "execute_result"
    }
   ],
   "source": [
    "az.summary(trace_h1_with_runningtime, var_names=[\"alpha\", \"beta\"])"
   ]
  },
  {
   "cell_type": "code",
   "execution_count": 138,
   "metadata": {},
   "outputs": [
    {
     "data": {
      "text/plain": [
       "array([<Axes: title={'center': '94.0% HDI'}>], dtype=object)"
      ]
     },
     "execution_count": 138,
     "metadata": {},
     "output_type": "execute_result"
    },
    {
     "data": {
      "image/png": "[encoded data removed]",
      "text/plain": [
       "<Figure size 600x470 with 1 Axes>"
      ]
     },
     "metadata": {},
     "output_type": "display_data"
    }
   ],
   "source": [
    "az.plot_forest(trace_h1_with_runningtime, var_names=[\"diff\"], combined=True)"
   ]
  },
  {
   "cell_type": "markdown",
   "metadata": {},
   "source": [
    "Interesting - per running time unit (seconds) C\\# performs better than the other languages."
   ]
  },
  {
   "cell_type": "markdown",
   "metadata": {},
   "source": [
    "**TODO: Motivate why comparing is fun**"
   ]
  },
  {
   "cell_type": "code",
   "execution_count": 139,
   "metadata": {},
   "outputs": [
    {
     "name": "stderr",
     "output_type": "stream",
     "text": [
      "/home/chobbie/anaconda3/envs/prpro-2025/lib/python3.12/site-packages/arviz/stats/stats.py:1653: UserWarning: For one or more samples the posterior variance of the log predictive densities exceeds 0.4. This could be indication of WAIC starting to fail. \n",
      "See http://arxiv.org/abs/1507.04544 for details\n",
      "  warnings.warn(\n",
      "/home/chobbie/anaconda3/envs/prpro-2025/lib/python3.12/site-packages/arviz/stats/stats.py:1653: UserWarning: For one or more samples the posterior variance of the log predictive densities exceeds 0.4. This could be indication of WAIC starting to fail. \n",
      "See http://arxiv.org/abs/1507.04544 for details\n",
      "  warnings.warn(\n"
     ]
    },
    {
     "data": {
      "text/html": [
       "<div>\n",
       "<style scoped>\n",
       "    .dataframe tbody tr th:only-of-type {\n",
       "        vertical-align: middle;\n",
       "    }\n",
       "\n",
       "    .dataframe tbody tr th {\n",
       "        vertical-align: top;\n",
       "    }\n",
       "\n",
       "    .dataframe thead th {\n",
       "        text-align: right;\n",
       "    }\n",
       "</style>\n",
       "<table border=\"1\" class=\"dataframe\">\n",
       "  <thead>\n",
       "    <tr style=\"text-align: right;\">\n",
       "      <th></th>\n",
       "      <th>rank</th>\n",
       "      <th>elpd_waic</th>\n",
       "      <th>p_waic</th>\n",
       "      <th>elpd_diff</th>\n",
       "      <th>weight</th>\n",
       "      <th>se</th>\n",
       "      <th>dse</th>\n",
       "      <th>warning</th>\n",
       "      <th>scale</th>\n",
       "    </tr>\n",
       "  </thead>\n",
       "  <tbody>\n",
       "    <tr>\n",
       "      <th>with runningtime</th>\n",
       "      <td>0</td>\n",
       "      <td>2160.190704</td>\n",
       "      <td>51.530009</td>\n",
       "      <td>0.000000</td>\n",
       "      <td>0.987337</td>\n",
       "      <td>108.680929</td>\n",
       "      <td>0.000000</td>\n",
       "      <td>True</td>\n",
       "      <td>log</td>\n",
       "    </tr>\n",
       "    <tr>\n",
       "      <th>lognormal</th>\n",
       "      <td>1</td>\n",
       "      <td>372.824999</td>\n",
       "      <td>8.924437</td>\n",
       "      <td>1787.365705</td>\n",
       "      <td>0.000326</td>\n",
       "      <td>41.554404</td>\n",
       "      <td>92.998326</td>\n",
       "      <td>False</td>\n",
       "      <td>log</td>\n",
       "    </tr>\n",
       "    <tr>\n",
       "      <th>normal</th>\n",
       "      <td>2</td>\n",
       "      <td>-189.312667</td>\n",
       "      <td>10.915078</td>\n",
       "      <td>2349.503371</td>\n",
       "      <td>0.012338</td>\n",
       "      <td>60.314034</td>\n",
       "      <td>91.350829</td>\n",
       "      <td>True</td>\n",
       "      <td>log</td>\n",
       "    </tr>\n",
       "  </tbody>\n",
       "</table>\n",
       "</div>"
      ],
      "text/plain": [
       "                  rank    elpd_waic     p_waic    elpd_diff    weight  \\\n",
       "with runningtime     0  2160.190704  51.530009     0.000000  0.987337   \n",
       "lognormal            1   372.824999   8.924437  1787.365705  0.000326   \n",
       "normal               2  -189.312667  10.915078  2349.503371  0.012338   \n",
       "\n",
       "                          se        dse  warning scale  \n",
       "with runningtime  108.680929   0.000000     True   log  \n",
       "lognormal          41.554404  92.998326    False   log  \n",
       "normal             60.314034  91.350829     True   log  "
      ]
     },
     "execution_count": 139,
     "metadata": {},
     "output_type": "execute_result"
    }
   ],
   "source": [
    "az.compare({'normal':trace_h1b, 'lognormal':trace_h1_lognormal, 'with runningtime': trace_h1_with_runningtime}, ic='waic')"
   ]
  },
  {
   "cell_type": "markdown",
   "metadata": {},
   "source": [
    "**TODO: What do theese results tell us?**\n",
    "\n",
    "We see that the model using a lognormal likelihood has a better predictive capability. \n",
    "- elpd_waic is higher (because we are not on deviance scale). \n",
    "- p_waic (effective parameters) is also lower \n",
    "- weight = bigger"
   ]
  },
  {
   "cell_type": "markdown",
   "metadata": {},
   "source": [
    "## Conclusion on H1\n",
    "\n",
    "- We don't know enough about the data gathering process for a decisive conclusion"
   ]
  },
  {
   "cell_type": "markdown",
   "metadata": {},
   "source": [
    "#### Notes:\n",
    "\n",
    "- C\\# energy consumption may be high because of garbage collection or JIT may result in longer requests. More energy spent on GC and JIT.\n",
    "-  "
   ]
  },
  {
   "cell_type": "markdown",
   "metadata": {},
   "source": [
    "----\n",
    "\n",
    "## If time permits?"
   ]
  },
  {
   "cell_type": "code",
   "execution_count": 140,
   "metadata": {},
   "outputs": [
    {
     "data": {
      "image/svg+xml": [
       "<?xml version=\"1.0\" encoding=\"UTF-8\" standalone=\"no\"?>\n",
       "<!DOCTYPE svg PUBLIC \"-//W3C//DTD SVG 1.1//EN\"\n",
       " \"http://www.w3.org/Graphics/SVG/1.1/DTD/svg11.dtd\">\n",
       "<!-- Generated by graphviz version 12.0.0 (20240803.0821)\n",
       " -->\n",
       "<!-- Pages: 1 -->\n",
       "<svg width=\"206pt\" height=\"188pt\"\n",
       " viewBox=\"0.00 0.00 206.00 188.00\" xmlns=\"http://www.w3.org/2000/svg\" xmlns:xlink=\"http://www.w3.org/1999/xlink\">\n",
       "<g id=\"graph0\" class=\"graph\" transform=\"scale(1 1) rotate(0) translate(4 184)\">\n",
       "<polygon fill=\"white\" stroke=\"none\" points=\"-4,4 -4,-184 202,-184 202,4 -4,4\"/>\n",
       "<!-- F -->\n",
       "<g id=\"node1\" class=\"node\">\n",
       "<title>F</title>\n",
       "<ellipse fill=\"none\" stroke=\"black\" cx=\"27\" cy=\"-162\" rx=\"27\" ry=\"18\"/>\n",
       "<text text-anchor=\"middle\" x=\"27\" y=\"-157.32\" font-family=\"Times,serif\" font-size=\"14.00\">F</text>\n",
       "</g>\n",
       "<!-- R -->\n",
       "<g id=\"node5\" class=\"node\">\n",
       "<title>R</title>\n",
       "<ellipse fill=\"none\" stroke=\"black\" cx=\"99\" cy=\"-90\" rx=\"27\" ry=\"18\"/>\n",
       "<text text-anchor=\"middle\" x=\"99\" y=\"-85.33\" font-family=\"Times,serif\" font-size=\"14.00\">R</text>\n",
       "</g>\n",
       "<!-- F&#45;&gt;R -->\n",
       "<g id=\"edge2\" class=\"edge\">\n",
       "<title>F&#45;&gt;R</title>\n",
       "<path fill=\"none\" stroke=\"black\" d=\"M41.92,-146.5C51.77,-136.92 64.86,-124.19 76.03,-113.34\"/>\n",
       "<polygon fill=\"black\" stroke=\"black\" points=\"78.29,-116.02 83.02,-106.54 73.41,-111 78.29,-116.02\"/>\n",
       "</g>\n",
       "<!-- P -->\n",
       "<g id=\"node2\" class=\"node\">\n",
       "<title>P</title>\n",
       "<ellipse fill=\"none\" stroke=\"black\" cx=\"99\" cy=\"-162\" rx=\"27\" ry=\"18\"/>\n",
       "<text text-anchor=\"middle\" x=\"99\" y=\"-157.32\" font-family=\"Times,serif\" font-size=\"14.00\">P</text>\n",
       "</g>\n",
       "<!-- P&#45;&gt;R -->\n",
       "<g id=\"edge1\" class=\"edge\">\n",
       "<title>P&#45;&gt;R</title>\n",
       "<path fill=\"none\" stroke=\"black\" d=\"M99,-143.7C99,-136.41 99,-127.73 99,-119.54\"/>\n",
       "<polygon fill=\"black\" stroke=\"black\" points=\"102.5,-119.62 99,-109.62 95.5,-119.62 102.5,-119.62\"/>\n",
       "</g>\n",
       "<!-- E -->\n",
       "<g id=\"node3\" class=\"node\">\n",
       "<title>E</title>\n",
       "<ellipse fill=\"none\" stroke=\"black\" cx=\"171\" cy=\"-162\" rx=\"27\" ry=\"18\"/>\n",
       "<text text-anchor=\"middle\" x=\"171\" y=\"-157.32\" font-family=\"Times,serif\" font-size=\"14.00\">E</text>\n",
       "</g>\n",
       "<!-- E&#45;&gt;R -->\n",
       "<g id=\"edge4\" class=\"edge\">\n",
       "<title>E&#45;&gt;R</title>\n",
       "<path fill=\"none\" stroke=\"black\" d=\"M156.08,-146.5C146.23,-136.92 133.14,-124.19 121.97,-113.34\"/>\n",
       "<polygon fill=\"black\" stroke=\"black\" points=\"124.59,-111 114.98,-106.54 119.71,-116.02 124.59,-111\"/>\n",
       "</g>\n",
       "<!-- C -->\n",
       "<g id=\"node4\" class=\"node\">\n",
       "<title>C</title>\n",
       "<ellipse fill=\"none\" stroke=\"black\" cx=\"99\" cy=\"-18\" rx=\"27\" ry=\"18\"/>\n",
       "<text text-anchor=\"middle\" x=\"99\" y=\"-13.32\" font-family=\"Times,serif\" font-size=\"14.00\">C</text>\n",
       "</g>\n",
       "<!-- R&#45;&gt;C -->\n",
       "<g id=\"edge3\" class=\"edge\">\n",
       "<title>R&#45;&gt;C</title>\n",
       "<path fill=\"none\" stroke=\"black\" d=\"M99,-71.7C99,-64.41 99,-55.73 99,-47.54\"/>\n",
       "<polygon fill=\"black\" stroke=\"black\" points=\"102.5,-47.62 99,-37.62 95.5,-47.62 102.5,-47.62\"/>\n",
       "</g>\n",
       "</g>\n",
       "</svg>\n"
      ],
      "text/plain": [
       "<graphviz.graphs.Digraph at 0x7f66ca8bb080>"
      ]
     },
     "execution_count": 140,
     "metadata": {},
     "output_type": "execute_result"
    }
   ],
   "source": [
    "from causalgraphicalmodels import CausalGraphicalModel\n",
    "\n",
    "potential1 = CausalGraphicalModel([\"P\", \"F\", \"R\",\"C\", \"E\"], [(\"P\", \"R\"), (\"F\", \"R\"), (\"R\", \"C\"), (\"E\", \"R\")])\n",
    "potential1.draw()\n"
   ]
  },
  {
   "cell_type": "code",
   "execution_count": 141,
   "metadata": {},
   "outputs": [
    {
     "data": {
      "image/svg+xml": [
       "<?xml version=\"1.0\" encoding=\"UTF-8\" standalone=\"no\"?>\n",
       "<!DOCTYPE svg PUBLIC \"-//W3C//DTD SVG 1.1//EN\"\n",
       " \"http://www.w3.org/Graphics/SVG/1.1/DTD/svg11.dtd\">\n",
       "<!-- Generated by graphviz version 12.0.0 (20240803.0821)\n",
       " -->\n",
       "<!-- Pages: 1 -->\n",
       "<svg width=\"206pt\" height=\"188pt\"\n",
       " viewBox=\"0.00 0.00 206.00 188.00\" xmlns=\"http://www.w3.org/2000/svg\" xmlns:xlink=\"http://www.w3.org/1999/xlink\">\n",
       "<g id=\"graph0\" class=\"graph\" transform=\"scale(1 1) rotate(0) translate(4 184)\">\n",
       "<polygon fill=\"white\" stroke=\"none\" points=\"-4,4 -4,-184 202,-184 202,4 -4,4\"/>\n",
       "<!-- F -->\n",
       "<g id=\"node1\" class=\"node\">\n",
       "<title>F</title>\n",
       "<ellipse fill=\"none\" stroke=\"black\" cx=\"27\" cy=\"-90\" rx=\"27\" ry=\"18\"/>\n",
       "<text text-anchor=\"middle\" x=\"27\" y=\"-85.33\" font-family=\"Times,serif\" font-size=\"14.00\">F</text>\n",
       "</g>\n",
       "<!-- C -->\n",
       "<g id=\"node4\" class=\"node\">\n",
       "<title>C</title>\n",
       "<ellipse fill=\"none\" stroke=\"black\" cx=\"99\" cy=\"-18\" rx=\"27\" ry=\"18\"/>\n",
       "<text text-anchor=\"middle\" x=\"99\" y=\"-13.32\" font-family=\"Times,serif\" font-size=\"14.00\">C</text>\n",
       "</g>\n",
       "<!-- F&#45;&gt;C -->\n",
       "<g id=\"edge2\" class=\"edge\">\n",
       "<title>F&#45;&gt;C</title>\n",
       "<path fill=\"none\" stroke=\"black\" d=\"M41.92,-74.5C51.77,-64.92 64.86,-52.19 76.03,-41.34\"/>\n",
       "<polygon fill=\"black\" stroke=\"black\" points=\"78.29,-44.02 83.02,-34.54 73.41,-39 78.29,-44.02\"/>\n",
       "</g>\n",
       "<!-- P -->\n",
       "<g id=\"node2\" class=\"node\">\n",
       "<title>P</title>\n",
       "<ellipse fill=\"none\" stroke=\"black\" cx=\"99\" cy=\"-90\" rx=\"27\" ry=\"18\"/>\n",
       "<text text-anchor=\"middle\" x=\"99\" y=\"-85.33\" font-family=\"Times,serif\" font-size=\"14.00\">P</text>\n",
       "</g>\n",
       "<!-- P&#45;&gt;C -->\n",
       "<g id=\"edge1\" class=\"edge\">\n",
       "<title>P&#45;&gt;C</title>\n",
       "<path fill=\"none\" stroke=\"black\" d=\"M99,-71.7C99,-64.41 99,-55.73 99,-47.54\"/>\n",
       "<polygon fill=\"black\" stroke=\"black\" points=\"102.5,-47.62 99,-37.62 95.5,-47.62 102.5,-47.62\"/>\n",
       "</g>\n",
       "<!-- E -->\n",
       "<g id=\"node3\" class=\"node\">\n",
       "<title>E</title>\n",
       "<ellipse fill=\"none\" stroke=\"black\" cx=\"171\" cy=\"-162\" rx=\"27\" ry=\"18\"/>\n",
       "<text text-anchor=\"middle\" x=\"171\" y=\"-157.32\" font-family=\"Times,serif\" font-size=\"14.00\">E</text>\n",
       "</g>\n",
       "<!-- R -->\n",
       "<g id=\"node5\" class=\"node\">\n",
       "<title>R</title>\n",
       "<ellipse fill=\"none\" stroke=\"black\" cx=\"171\" cy=\"-90\" rx=\"27\" ry=\"18\"/>\n",
       "<text text-anchor=\"middle\" x=\"171\" y=\"-85.33\" font-family=\"Times,serif\" font-size=\"14.00\">R</text>\n",
       "</g>\n",
       "<!-- E&#45;&gt;R -->\n",
       "<g id=\"edge4\" class=\"edge\">\n",
       "<title>E&#45;&gt;R</title>\n",
       "<path fill=\"none\" stroke=\"black\" d=\"M171,-143.7C171,-136.41 171,-127.73 171,-119.54\"/>\n",
       "<polygon fill=\"black\" stroke=\"black\" points=\"174.5,-119.62 171,-109.62 167.5,-119.62 174.5,-119.62\"/>\n",
       "</g>\n",
       "<!-- R&#45;&gt;C -->\n",
       "<g id=\"edge3\" class=\"edge\">\n",
       "<title>R&#45;&gt;C</title>\n",
       "<path fill=\"none\" stroke=\"black\" d=\"M156.08,-74.5C146.23,-64.92 133.14,-52.19 121.97,-41.34\"/>\n",
       "<polygon fill=\"black\" stroke=\"black\" points=\"124.59,-39 114.98,-34.54 119.71,-44.02 124.59,-39\"/>\n",
       "</g>\n",
       "</g>\n",
       "</svg>\n"
      ],
      "text/plain": [
       "<graphviz.graphs.Digraph at 0x7f666d8769f0>"
      ]
     },
     "execution_count": 141,
     "metadata": {},
     "output_type": "execute_result"
    }
   ],
   "source": [
    "potential2 = CausalGraphicalModel([\"P\", \"F\", \"R\",\"C\", \"E\"], [(\"R\",\"C\"), (\"E\",\"R\"), (\"F\",\"C\"), (\"P\", \"C\")])\n",
    "potential2.draw()"
   ]
  },
  {
   "cell_type": "code",
   "execution_count": 142,
   "metadata": {},
   "outputs": [
    {
     "data": {
      "text/html": [
       "<div>\n",
       "<style scoped>\n",
       "    .dataframe tbody tr th:only-of-type {\n",
       "        vertical-align: middle;\n",
       "    }\n",
       "\n",
       "    .dataframe tbody tr th {\n",
       "        vertical-align: top;\n",
       "    }\n",
       "\n",
       "    .dataframe thead th {\n",
       "        text-align: right;\n",
       "    }\n",
       "</style>\n",
       "<table border=\"1\" class=\"dataframe\">\n",
       "  <thead>\n",
       "    <tr style=\"text-align: right;\">\n",
       "      <th></th>\n",
       "      <th>language</th>\n",
       "      <th>endpoint</th>\n",
       "    </tr>\n",
       "  </thead>\n",
       "  <tbody>\n",
       "    <tr>\n",
       "      <th>0</th>\n",
       "      <td>c-sharp</td>\n",
       "      <td>14</td>\n",
       "    </tr>\n",
       "    <tr>\n",
       "      <th>1</th>\n",
       "      <td>go</td>\n",
       "      <td>14</td>\n",
       "    </tr>\n",
       "    <tr>\n",
       "      <th>2</th>\n",
       "      <td>javascript</td>\n",
       "      <td>14</td>\n",
       "    </tr>\n",
       "    <tr>\n",
       "      <th>3</th>\n",
       "      <td>python</td>\n",
       "      <td>14</td>\n",
       "    </tr>\n",
       "    <tr>\n",
       "      <th>4</th>\n",
       "      <td>ruby</td>\n",
       "      <td>14</td>\n",
       "    </tr>\n",
       "    <tr>\n",
       "      <th>5</th>\n",
       "      <td>rust</td>\n",
       "      <td>14</td>\n",
       "    </tr>\n",
       "  </tbody>\n",
       "</table>\n",
       "</div>"
      ],
      "text/plain": [
       "     language  endpoint\n",
       "0     c-sharp        14\n",
       "1          go        14\n",
       "2  javascript        14\n",
       "3      python        14\n",
       "4        ruby        14\n",
       "5        rust        14"
      ]
     },
     "execution_count": 142,
     "metadata": {},
     "output_type": "execute_result"
    }
   ],
   "source": [
    "df[\"L\"] = pd.Categorical(df[\"language\"]).codes\n",
    "df[\"F\"] = pd.Categorical(df[\"framework\"]).codes\n",
    "df.groupby('language').endpoint.nunique().reset_index().sort_values('endpoint', ascending=False)"
   ]
  },
  {
   "cell_type": "code",
   "execution_count": 143,
   "metadata": {},
   "outputs": [],
   "source": [
    "# with pm.Model() as m_h2_lognormal:\n",
    "#     sigma = pm.Exponential(\"sigma\", 1)\n",
    "#     # shape defines a vector size (+1 because ids start from zero)\n",
    "#     # we will have four different mu's for K\n",
    "#     mu_L = pm.Normal(\"mu_L\", 0, 1, shape=(df[\"L\"].max() + 1,))\n",
    "#     mu_F = pm.Normal(\"mu_F\", 0, 1, shape=(df[\"F\"].unique().size))\n",
    "#     # it is crazy implicit how pymc matches rows in d[\"clade_id\"] and d[\"K\"]\n",
    "#     consumption = pm.LogNormal(\"consumption\", mu_L[df[\"L\"].values] + mu_F[df[\"F\"].values], sigma, observed=df[\"energy_consumption\"])\n",
    "\n",
    "#     trace_h2_lognormal = pm.sample(random_seed = rng, idata_kwargs = { 'log_likelihood': True })\n",
    "#     pm.sample_posterior_predictive(trace_h2_lognormal, extend_inferencedata=True, random_seed=rng)"
   ]
  },
  {
   "cell_type": "code",
   "execution_count": 144,
   "metadata": {},
   "outputs": [],
   "source": [
    "# az.plot_forest(trace_h2_lognormal, var_names=[\"mu_L\", \"mu_F\"], combined=True)"
   ]
  },
  {
   "cell_type": "code",
   "execution_count": null,
   "metadata": {},
   "outputs": [],
   "source": []
  }
 ],
 "metadata": {
  "kernelspec": {
   "display_name": "prpro-2025",
   "language": "python",
   "name": "prpro-2025"
  },
  "language_info": {
   "codemirror_mode": {
    "name": "ipython",
    "version": 3
   },
   "file_extension": ".py",
   "mimetype": "text/x-python",
   "name": "python",
   "nbconvert_exporter": "python",
   "pygments_lexer": "ipython3",
   "version": "3.12.8"
  }
 },
 "nbformat": 4,
 "nbformat_minor": 4
}
