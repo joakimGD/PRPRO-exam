{
 "cells": [
  {
   "cell_type": "markdown",
   "metadata": {},
   "source": [
    "# Energy consumption of a Web Application Implemented in Different Programming Languages and Web Frameworks\n",
    "*Probabilistic Programming 2025 Exam by Raúl Pardo ([raup@itu.dk](mailto:raup@itu.dk)) and Andrzej Wąsowski ([wasowski@itu.dk](mailto:wasowski@itu.dk))*<br/>\n",
    "*version 1.0.0 2025-03-20 08:40*\n"
   ]
  },
  {
   "cell_type": "markdown",
   "metadata": {},
   "source": [
    "In this exam, your task is to analyze energy consumption of different implementations of a web application.\n",
    "The goal is to determine whether there are differences in energy consumption in different implementations of the web application or in its API endpoints.\n",
    "This analysis is of utmost importance, as it might help software engineers to make informed choices that lower energy consumption. For instance, a plausible hypothesis is that lower level programming languages such as Rust consume less energy than higher level languages such as Python.\n",
    "A preconception in this domain is that running time is the driving factor in energy consumption.\n",
    "Are these true? The data in this exam and the analysis you will develop will allow to answer this type of questions."
   ]
  },
  {
   "cell_type": "markdown",
   "metadata": {},
   "source": [
    "## Data"
   ]
  },
  {
   "cell_type": "markdown",
   "metadata": {},
   "source": [
    "The dataset contains $N = 1960$ measurements of energy consumption for different implementations and functionality of a web application. For each setup, there are 20 measurements. The dataset is in the file [dataset.csv](dataset.csv). The variables in the dataset are:\n",
    "\n",
    "* **Application**. This variable has the form `<programming_language>-<web_framework>`. It specifies the programming language and web framework used in the experiment. For instance, `rust-actix` denotes the web framework Actix for the programming language Rust, or `c-sharp-razor` denotes the web framework Razor for the programming language C#.\n",
    "    * Note that if a hypothesis involves only programming language, you need to extract it from the values in this variable.\n",
    "\n",
    "* **Endpoint**. This variable refers to the API endpoints of the web application. For example, `/api/register` refers to the API endpoint used for registering users in the web application, or `/logout` is used for logging out of the system.\n",
    "\n",
    "* **Runtime**. This variable indicates the time it took to process the request to the endpoint in seconds.\n",
    "\n",
    "* **Energy consumption**. This variable indicates the energy consumed for processing the request to the endpoint in Joules.\n",
    "\n",
    "Each row in the dataset is a measurement of the total energy consumed and runtime after processing a request in the corresponding API endpoint. The *Application* variable in each row indicates the web framework used for the measurement."
   ]
  },
  {
   "cell_type": "markdown",
   "metadata": {},
   "source": [
    "## Hypotheses\n",
    "\n",
    "To analyze energy consumption in the different implementations, you must investigate the following hypotheses:\n",
    "\n",
    "* **H1** - The web framework `c-sharp-razor` consumes more energy than any other web framework in the dataset.\n",
    "\n",
    "* **H2** - The programming language `javascript` consumes the least amount of energy compared to any other programming language in the dataset.\n",
    "\n",
    "* **H3** - Runtime has a stronger impact on energy consumption for some API endpoints than others. That is, the effect of runtime on energy consumption is larger for some API endpoints than others."
   ]
  },
  {
   "cell_type": "markdown",
   "metadata": {},
   "source": [
    "Your task is to use Bayesian Inference and Regression to decide whether these hypotheses hold, or possibly reject them. This includes:\n",
    "\n",
    "* Loading, restructuring and transforming the data as needed.\n",
    "\n",
    "* Designing Bayesian regression models and using inference algorithms to test the above hypotheses in PyMC.\n",
    "\n",
    "* Explaining your model idea in English, preferably using a figure, and showing the Python code.\n",
    "\n",
    "* Checking and reflecting (in writing) on the quality of the sampling process, considering warnings from the tool, sampling summary statistics, trace plots, and autocorrelation plots. Comment whether the quality of the sampled trace is good, and whether you had to make any adjustments during modeling and/or sampling.\n",
    "\n",
    "* Visualizing the posterior information appropriately to address the hypotheses.\n",
    "  \n",
    "\n",
    "You should hand in a zip file with a Jupyter notebook and the data file (so that we can run it), and a **PDF file rendering of the Jupyter notebook**, so that your work can be assessed just by reading this file. It appears that the best PDF rendering is obtained by File / Export to HTML, and then saving/printing to PDF from your browser.\n",
    "\n",
    "Make sure the notebook is actually a **report** readable to the examiners, especially to the censor who has not followed the course. The report should include:\n",
    "* A brief introduction.\n",
    "* Explanations on how data is loaded and cleaned.\n",
    "* Explanations on analysis and model design (for each of the models you consider).\n",
    "* A discussion of sampling quality (for each model) and all the plots that you present, and a reflection/decision on the outcome for each hypothesis.\n",
    "* An overall conclusion.\n",
    "\n",
    "**IMPORTANT:** For the tasks below, your code must accompany an explanation of its meaning and intended purpose. **Source code alone is not self-explanatory**. As mentioned above, you should also reflect on the results you get, e.g., highlighting issues with the data, or issues, pitfalls and assumptions of a model. **Exams containing only source code or very scarce explanations will result in low grades, including failing grades.**\n",
    "\n"
   ]
  },
  {
   "cell_type": "markdown",
   "metadata": {},
   "source": [
    "\n",
    "\n",
    "## Minimum requirements \n",
    "\n",
    "1. Design a regression model to predict energy consumption using web framework as a predictor.\n",
    "  \n",
    "2. Analyze hypothesis H1 using the regression model in (1.).\n",
    "\n",
    "## Ideas for extension\n",
    "\n",
    "**Groups aiming at grade 7 and more should complete the following tasks:**\n",
    "    \n",
    "3. Analyze hypothesis H2, if necessary design a new model.\n",
    "        \n",
    "4. Perform prior predictive checks in all your models. Explain why the priors you selected are appropriate.\n",
    "    \n",
    "5. Perform posterior predictive checks in all your models. Discuss the results in the posterior predictive checks.\n",
    "    \n",
    "6. Discuss trace convergence in all your models.\n",
    "    \n",
    "**Groups aiming at grade 10 and higher should try 3-5 ideas from below or add some of your own:**\n",
    "\n",
    "7. Analyze hypothesis H3, if necessary design a new model.\n",
    "    \n",
    "8. Perform a counterfactual analysis in your model for H3: For each endpoint, plot posterior predictions on energy consumption for a runtime value much larger than those in the dataset. Does this affect/introduce differences between energy consumption for different endpoints?\n",
    "    \n",
    "9. Design models with a transformation of the predicted variable, i.e., energy consumption. For instance, \n",
    "    * Build a model to analyze the probability that the energy consumption of a web framework is below 0.4 Joules. You may consider versions of this task involving other predictors.\n",
    "    * Transform energy consumption into an ordinal variable representing an energy mark, e.g., an energy consumption in 0.0-0.2 is energy mark A, energy consumption in 0.2-0.4 is energy mark B and energy consumption of ≥ 0.4 is energy mark C. Use an ordinal regression model to analyze the energy mark of each framework. You may consider versions of this task involving other predictors.\n",
    "    \n",
    "10. Use information criteria to compare the models to analyze H1, H2 and H3.\n",
    "    \n",
    "11. Design a meaningful multilevel model in the context of these data.\n",
    "   \n",
    "12. Use causal reasoning to analyze causal relations between the variables in the dataset."
   ]
  },
  {
   "cell_type": "markdown",
   "metadata": {
    "vscode": {
     "languageId": "plaintext"
    }
   },
   "source": [
    "---"
   ]
  },
  {
   "cell_type": "code",
   "execution_count": 2,
   "metadata": {},
   "outputs": [],
   "source": [
    "import numpy as np\n",
    "import pandas as pd\n",
    "import arviz as az\n",
    "import pymc as pm\n",
    "import matplotlib.pyplot as plt"
   ]
  },
  {
   "cell_type": "code",
   "execution_count": 3,
   "metadata": {},
   "outputs": [],
   "source": [
    "df = pd.read_csv('dataset.csv')"
   ]
  },
  {
   "cell_type": "code",
   "execution_count": 67,
   "metadata": {},
   "outputs": [],
   "source": [
    "language, framework = list(zip(*df[\"application\"].apply(lambda a: a.split(\"-\") if not a.startswith(\"c-sharp\") else [a[0:7], a[8:]])))\n",
    "df[\"language\"] = list(language)\n",
    "df[\"framework\"] = list(framework)"
   ]
  },
  {
   "cell_type": "code",
   "execution_count": 68,
   "metadata": {},
   "outputs": [
    {
     "data": {
      "text/html": [
       "<div>\n",
       "<style scoped>\n",
       "    .dataframe tbody tr th:only-of-type {\n",
       "        vertical-align: middle;\n",
       "    }\n",
       "\n",
       "    .dataframe tbody tr th {\n",
       "        vertical-align: top;\n",
       "    }\n",
       "\n",
       "    .dataframe thead th {\n",
       "        text-align: right;\n",
       "    }\n",
       "</style>\n",
       "<table border=\"1\" class=\"dataframe\">\n",
       "  <thead>\n",
       "    <tr style=\"text-align: right;\">\n",
       "      <th></th>\n",
       "      <th>application</th>\n",
       "      <th>endpoint</th>\n",
       "      <th>energy_consumption</th>\n",
       "      <th>runtime</th>\n",
       "      <th>language</th>\n",
       "      <th>framework</th>\n",
       "    </tr>\n",
       "  </thead>\n",
       "  <tbody>\n",
       "    <tr>\n",
       "      <th>0</th>\n",
       "      <td>rust-actix</td>\n",
       "      <td>/api/register</td>\n",
       "      <td>0.449358</td>\n",
       "      <td>0.148812</td>\n",
       "      <td>rust</td>\n",
       "      <td>actix</td>\n",
       "    </tr>\n",
       "    <tr>\n",
       "      <th>1</th>\n",
       "      <td>rust-actix</td>\n",
       "      <td>/api/register</td>\n",
       "      <td>0.433871</td>\n",
       "      <td>0.148895</td>\n",
       "      <td>rust</td>\n",
       "      <td>actix</td>\n",
       "    </tr>\n",
       "    <tr>\n",
       "      <th>2</th>\n",
       "      <td>rust-actix</td>\n",
       "      <td>/api/register</td>\n",
       "      <td>0.270844</td>\n",
       "      <td>0.094729</td>\n",
       "      <td>rust</td>\n",
       "      <td>actix</td>\n",
       "    </tr>\n",
       "    <tr>\n",
       "      <th>3</th>\n",
       "      <td>rust-actix</td>\n",
       "      <td>/api/register</td>\n",
       "      <td>0.479776</td>\n",
       "      <td>0.163467</td>\n",
       "      <td>rust</td>\n",
       "      <td>actix</td>\n",
       "    </tr>\n",
       "    <tr>\n",
       "      <th>4</th>\n",
       "      <td>rust-actix</td>\n",
       "      <td>/api/register</td>\n",
       "      <td>0.268833</td>\n",
       "      <td>0.092300</td>\n",
       "      <td>rust</td>\n",
       "      <td>actix</td>\n",
       "    </tr>\n",
       "    <tr>\n",
       "      <th>...</th>\n",
       "      <td>...</td>\n",
       "      <td>...</td>\n",
       "      <td>...</td>\n",
       "      <td>...</td>\n",
       "      <td>...</td>\n",
       "      <td>...</td>\n",
       "    </tr>\n",
       "    <tr>\n",
       "      <th>1955</th>\n",
       "      <td>javascript-express</td>\n",
       "      <td>/logout</td>\n",
       "      <td>0.096436</td>\n",
       "      <td>0.032214</td>\n",
       "      <td>javascript</td>\n",
       "      <td>express</td>\n",
       "    </tr>\n",
       "    <tr>\n",
       "      <th>1956</th>\n",
       "      <td>javascript-express</td>\n",
       "      <td>/logout</td>\n",
       "      <td>0.097559</td>\n",
       "      <td>0.032214</td>\n",
       "      <td>javascript</td>\n",
       "      <td>express</td>\n",
       "    </tr>\n",
       "    <tr>\n",
       "      <th>1957</th>\n",
       "      <td>javascript-express</td>\n",
       "      <td>/logout</td>\n",
       "      <td>0.096922</td>\n",
       "      <td>0.032214</td>\n",
       "      <td>javascript</td>\n",
       "      <td>express</td>\n",
       "    </tr>\n",
       "    <tr>\n",
       "      <th>1958</th>\n",
       "      <td>javascript-express</td>\n",
       "      <td>/logout</td>\n",
       "      <td>0.097086</td>\n",
       "      <td>0.032214</td>\n",
       "      <td>javascript</td>\n",
       "      <td>express</td>\n",
       "    </tr>\n",
       "    <tr>\n",
       "      <th>1959</th>\n",
       "      <td>javascript-express</td>\n",
       "      <td>/logout</td>\n",
       "      <td>0.096938</td>\n",
       "      <td>0.032214</td>\n",
       "      <td>javascript</td>\n",
       "      <td>express</td>\n",
       "    </tr>\n",
       "  </tbody>\n",
       "</table>\n",
       "<p>1960 rows × 6 columns</p>\n",
       "</div>"
      ],
      "text/plain": [
       "             application       endpoint  energy_consumption   runtime  \\\n",
       "0             rust-actix  /api/register            0.449358  0.148812   \n",
       "1             rust-actix  /api/register            0.433871  0.148895   \n",
       "2             rust-actix  /api/register            0.270844  0.094729   \n",
       "3             rust-actix  /api/register            0.479776  0.163467   \n",
       "4             rust-actix  /api/register            0.268833  0.092300   \n",
       "...                  ...            ...                 ...       ...   \n",
       "1955  javascript-express        /logout            0.096436  0.032214   \n",
       "1956  javascript-express        /logout            0.097559  0.032214   \n",
       "1957  javascript-express        /logout            0.096922  0.032214   \n",
       "1958  javascript-express        /logout            0.097086  0.032214   \n",
       "1959  javascript-express        /logout            0.096938  0.032214   \n",
       "\n",
       "        language framework  \n",
       "0           rust     actix  \n",
       "1           rust     actix  \n",
       "2           rust     actix  \n",
       "3           rust     actix  \n",
       "4           rust     actix  \n",
       "...          ...       ...  \n",
       "1955  javascript   express  \n",
       "1956  javascript   express  \n",
       "1957  javascript   express  \n",
       "1958  javascript   express  \n",
       "1959  javascript   express  \n",
       "\n",
       "[1960 rows x 6 columns]"
      ]
     },
     "execution_count": 68,
     "metadata": {},
     "output_type": "execute_result"
    }
   ],
   "source": [
    "df"
   ]
  },
  {
   "cell_type": "markdown",
   "metadata": {},
   "source": [
    "Let's try to understand the data a little better."
   ]
  },
  {
   "cell_type": "code",
   "execution_count": null,
   "metadata": {},
   "outputs": [
    {
     "name": "stderr",
     "output_type": "stream",
     "text": [
      "/tmp/ipykernel_33017/1298083601.py:7: MatplotlibDeprecationWarning: The 'labels' parameter of boxplot() has been renamed 'tick_labels' since Matplotlib 3.9; support for the old name will be dropped in 3.11.\n",
      "  plt.boxplot(grouped, labels=labels, patch_artist=True)\n"
     ]
    },
    {
     "data": {
      "image/png": "[encoded data removed]",
      "text/plain": [
       "<Figure size 1200x600 with 1 Axes>"
      ]
     },
     "metadata": {},
     "output_type": "display_data"
    }
   ],
   "source": [
    "csharpdata = df.where(df[\"application\"] == \"c-sharp-razor\")\n",
    "data = csharpdata\n",
    "grouped = [ group[\"energy_consumption\"].values for _, group in data.groupby([\"endpoint\"]) ]\n",
    "labels = data.groupby([\"endpoint\"]).groups.keys()\n",
    "\n",
    "plt.figure(figsize=(12, 6))\n",
    "plt.boxplot(grouped, labels=labels, patch_artist=True)\n",
    "plt.title(\"Energy Consumption Distribution per Application and Endpoint for C#-razor\")\n",
    "plt.ylabel(\"Energy Consumption\")\n",
    "plt.xticks(rotation=45)\n",
    "plt.tight_layout()\n",
    "plt.show()\n"
   ]
  },
  {
   "cell_type": "markdown",
   "metadata": {},
   "source": [
    "What a beautiful plot. But there seems to be some clear variance between consumption in endpoints within the same application.\n",
    "\n",
    "\n",
    "##### Testing H1\n",
    "\n",
    "The first step will be to create a simple model with a single intercept per application. We will treat application as a categorical value. From here on we will refer to application A and consumption C.\n",
    "\n",
    "Let's build a simple model:\n",
    "$$\n",
    "\\begin{aligned}\n",
    "    C &\\sim \\text{Normal}(\\mu, \\sigma) \\\\\n",
    "    \\mu &\\sim \\alpha_{[A[i]]} \\\\\n",
    "    \\alpha &\\sim \\text{Normal}(0,10) \\\\\n",
    "    \\sigma &\\sim \\text{Exponential}(1)\n",
    "\\end{aligned}\n",
    "$$\n",
    "\n",
    "We defined the prior for $\\alpha$ as an extremely flat $\\text{Normal}$ distribution because we don't have much prior knowledge of the energy consumption of different programming language and framework pairs.\n",
    "\n",
    "The first step will be to create categorical values for the application column of the data:"
   ]
  },
  {
   "cell_type": "code",
   "execution_count": 78,
   "metadata": {},
   "outputs": [
    {
     "data": {
      "text/plain": [
       "('c-sharp-razor code: ', 0)"
      ]
     },
     "execution_count": 78,
     "metadata": {},
     "output_type": "execute_result"
    }
   ],
   "source": [
    "cats = pd.Categorical(df[\"application\"])\n",
    "df[\"A\"] = cats.codes\n",
    "\"c-sharp-razor code: \", cats.codes[cats == \"c-sharp-razor\"][0]"
   ]
  },
  {
   "cell_type": "markdown",
   "metadata": {},
   "source": [
    "Here we see that value 0 is \"*c-sharp-razor*\". We are now ready to create the PYMC model:"
   ]
  },
  {
   "cell_type": "code",
   "execution_count": 105,
   "metadata": {},
   "outputs": [
    {
     "name": "stderr",
     "output_type": "stream",
     "text": [
      "/home/chobbie/anaconda3/envs/prpro-2025/lib/python3.12/site-packages/pymc/data.py:440: FutureWarning: Data is now always mutable. Specifying the `mutable` kwarg will raise an error in a future release\n",
      "  warnings.warn(\n",
      "Initializing NUTS using jitter+adapt_diag...\n",
      "Multiprocess sampling (4 chains in 4 jobs)\n",
      "NUTS: [alpha, sigma]\n"
     ]
    },
    {
     "data": {
      "application/vnd.jupyter.widget-view+json": {
       "model_id": "9afcbbdbe2d04b448daf667c3d0fd357",
       "version_major": 2,
       "version_minor": 0
      },
      "text/plain": [
       "Output()"
      ]
     },
     "metadata": {},
     "output_type": "display_data"
    },
    {
     "data": {
      "text/html": [
       "<pre style=\"white-space:pre;overflow-x:auto;line-height:normal;font-family:Menlo,'DejaVu Sans Mono',consolas,'Courier New',monospace\"></pre>\n"
      ],
      "text/plain": []
     },
     "metadata": {},
     "output_type": "display_data"
    },
    {
     "name": "stderr",
     "output_type": "stream",
     "text": [
      "Sampling 4 chains for 1_000 tune and 1_000 draw iterations (4_000 + 4_000 draws total) took 2 seconds.\n"
     ]
    },
    {
     "data": {
      "image/svg+xml": [
       "<?xml version=\"1.0\" encoding=\"UTF-8\" standalone=\"no\"?>\n",
       "<!DOCTYPE svg PUBLIC \"-//W3C//DTD SVG 1.1//EN\"\n",
       " \"http://www.w3.org/Graphics/SVG/1.1/DTD/svg11.dtd\">\n",
       "<!-- Generated by graphviz version 12.0.0 (20240803.0821)\n",
       " -->\n",
       "<!-- Pages: 1 -->\n",
       "<svg width=\"438pt\" height=\"486pt\"\n",
       " viewBox=\"0.00 0.00 437.77 486.50\" xmlns=\"http://www.w3.org/2000/svg\" xmlns:xlink=\"http://www.w3.org/1999/xlink\">\n",
       "<g id=\"graph0\" class=\"graph\" transform=\"scale(1 1) rotate(0) translate(4 482.5)\">\n",
       "<polygon fill=\"white\" stroke=\"none\" points=\"-4,4 -4,-482.5 433.77,-482.5 433.77,4 -4,4\"/>\n",
       "<g id=\"clust1\" class=\"cluster\">\n",
       "<title>cluster7</title>\n",
       "<path fill=\"none\" stroke=\"black\" d=\"M20,-236.62C20,-236.62 126,-236.62 126,-236.62 132,-236.62 138,-242.62 138,-248.62 138,-248.62 138,-458.5 138,-458.5 138,-464.5 132,-470.5 126,-470.5 126,-470.5 20,-470.5 20,-470.5 14,-470.5 8,-464.5 8,-458.5 8,-458.5 8,-248.62 8,-248.62 8,-242.62 14,-236.62 20,-236.62\"/>\n",
       "<text text-anchor=\"middle\" x=\"125.5\" y=\"-244.57\" font-family=\"Times,serif\" font-size=\"14.00\">7</text>\n",
       "</g>\n",
       "<g id=\"clust2\" class=\"cluster\">\n",
       "<title>cluster1960</title>\n",
       "<path fill=\"none\" stroke=\"black\" d=\"M158,-8C158,-8 264,-8 264,-8 270,-8 276,-14 276,-20 276,-20 276,-446.12 276,-446.12 276,-452.12 270,-458.12 264,-458.12 264,-458.12 158,-458.12 158,-458.12 152,-458.12 146,-452.12 146,-446.12 146,-446.12 146,-20 146,-20 146,-14 152,-8 158,-8\"/>\n",
       "<text text-anchor=\"middle\" x=\"250\" y=\"-15.95\" font-family=\"Times,serif\" font-size=\"14.00\">1960</text>\n",
       "</g>\n",
       "<!-- diff -->\n",
       "<g id=\"node1\" class=\"node\">\n",
       "<title>diff</title>\n",
       "<polygon fill=\"none\" stroke=\"black\" points=\"129.75,-329.62 16.25,-329.62 16.25,-269.87 129.75,-269.87 129.75,-329.62\"/>\n",
       "<text text-anchor=\"middle\" x=\"73\" y=\"-312.32\" font-family=\"Times,serif\" font-size=\"14.00\">diff</text>\n",
       "<text text-anchor=\"middle\" x=\"73\" y=\"-295.07\" font-family=\"Times,serif\" font-size=\"14.00\">~</text>\n",
       "<text text-anchor=\"middle\" x=\"73\" y=\"-277.82\" font-family=\"Times,serif\" font-size=\"14.00\">Deterministic</text>\n",
       "</g>\n",
       "<!-- alpha -->\n",
       "<g id=\"node2\" class=\"node\">\n",
       "<title>alpha</title>\n",
       "<ellipse fill=\"none\" stroke=\"black\" cx=\"77\" cy=\"-420.25\" rx=\"48.97\" ry=\"42.25\"/>\n",
       "<text text-anchor=\"middle\" x=\"77\" y=\"-432.82\" font-family=\"Times,serif\" font-size=\"14.00\">alpha</text>\n",
       "<text text-anchor=\"middle\" x=\"77\" y=\"-415.57\" font-family=\"Times,serif\" font-size=\"14.00\">~</text>\n",
       "<text text-anchor=\"middle\" x=\"77\" y=\"-398.32\" font-family=\"Times,serif\" font-size=\"14.00\">Normal</text>\n",
       "</g>\n",
       "<!-- alpha&#45;&gt;diff -->\n",
       "<g id=\"edge6\" class=\"edge\">\n",
       "<title>alpha&#45;&gt;diff</title>\n",
       "<path fill=\"none\" stroke=\"black\" d=\"M75.6,-377.8C75.2,-365.99 74.77,-353.14 74.37,-341.37\"/>\n",
       "<polygon fill=\"black\" stroke=\"black\" points=\"77.88,-341.44 74.04,-331.56 70.88,-341.68 77.88,-341.44\"/>\n",
       "</g>\n",
       "<!-- mu -->\n",
       "<g id=\"node7\" class=\"node\">\n",
       "<title>mu</title>\n",
       "<polygon fill=\"none\" stroke=\"black\" points=\"267.75,-329.62 154.25,-329.62 154.25,-269.87 267.75,-269.87 267.75,-329.62\"/>\n",
       "<text text-anchor=\"middle\" x=\"211\" y=\"-312.32\" font-family=\"Times,serif\" font-size=\"14.00\">mu</text>\n",
       "<text text-anchor=\"middle\" x=\"211\" y=\"-295.07\" font-family=\"Times,serif\" font-size=\"14.00\">~</text>\n",
       "<text text-anchor=\"middle\" x=\"211\" y=\"-277.82\" font-family=\"Times,serif\" font-size=\"14.00\">Deterministic</text>\n",
       "</g>\n",
       "<!-- alpha&#45;&gt;mu -->\n",
       "<g id=\"edge2\" class=\"edge\">\n",
       "<title>alpha&#45;&gt;mu</title>\n",
       "<path fill=\"none\" stroke=\"black\" d=\"M110.81,-389.35C128.7,-373.53 150.8,-353.98 169.7,-337.28\"/>\n",
       "<polygon fill=\"black\" stroke=\"black\" points=\"171.82,-340.07 176.99,-330.83 167.18,-334.83 171.82,-340.07\"/>\n",
       "</g>\n",
       "<!-- sigma -->\n",
       "<g id=\"node3\" class=\"node\">\n",
       "<title>sigma</title>\n",
       "<ellipse fill=\"none\" stroke=\"black\" cx=\"358\" cy=\"-299.75\" rx=\"71.77\" ry=\"42.25\"/>\n",
       "<text text-anchor=\"middle\" x=\"358\" y=\"-312.32\" font-family=\"Times,serif\" font-size=\"14.00\">sigma</text>\n",
       "<text text-anchor=\"middle\" x=\"358\" y=\"-295.07\" font-family=\"Times,serif\" font-size=\"14.00\">~</text>\n",
       "<text text-anchor=\"middle\" x=\"358\" y=\"-277.82\" font-family=\"Times,serif\" font-size=\"14.00\">Exponential</text>\n",
       "</g>\n",
       "<!-- C -->\n",
       "<g id=\"node4\" class=\"node\">\n",
       "<title>C</title>\n",
       "<ellipse fill=\"lightgrey\" stroke=\"black\" cx=\"215\" cy=\"-179.25\" rx=\"48.97\" ry=\"42.25\"/>\n",
       "<text text-anchor=\"middle\" x=\"215\" y=\"-191.82\" font-family=\"Times,serif\" font-size=\"14.00\">C</text>\n",
       "<text text-anchor=\"middle\" x=\"215\" y=\"-174.57\" font-family=\"Times,serif\" font-size=\"14.00\">~</text>\n",
       "<text text-anchor=\"middle\" x=\"215\" y=\"-157.32\" font-family=\"Times,serif\" font-size=\"14.00\">Normal</text>\n",
       "</g>\n",
       "<!-- sigma&#45;&gt;C -->\n",
       "<g id=\"edge4\" class=\"edge\">\n",
       "<title>sigma&#45;&gt;C</title>\n",
       "<path fill=\"none\" stroke=\"black\" d=\"M317.02,-264.79C298.72,-249.63 277.14,-231.74 258.55,-216.34\"/>\n",
       "<polygon fill=\"black\" stroke=\"black\" points=\"260.79,-213.65 250.86,-209.96 256.32,-219.04 260.79,-213.65\"/>\n",
       "</g>\n",
       "<!-- C_data -->\n",
       "<g id=\"node5\" class=\"node\">\n",
       "<title>C_data</title>\n",
       "<path fill=\"lightgrey\" stroke=\"black\" d=\"M235.38,-101C235.38,-101 194.62,-101 194.62,-101 188.62,-101 182.62,-95 182.62,-89 182.62,-89 182.62,-53.25 182.62,-53.25 182.62,-47.25 188.62,-41.25 194.62,-41.25 194.62,-41.25 235.38,-41.25 235.38,-41.25 241.38,-41.25 247.38,-47.25 247.38,-53.25 247.38,-53.25 247.38,-89 247.38,-89 247.38,-95 241.38,-101 235.38,-101\"/>\n",
       "<text text-anchor=\"middle\" x=\"215\" y=\"-83.7\" font-family=\"Times,serif\" font-size=\"14.00\">C_data</text>\n",
       "<text text-anchor=\"middle\" x=\"215\" y=\"-66.45\" font-family=\"Times,serif\" font-size=\"14.00\">~</text>\n",
       "<text text-anchor=\"middle\" x=\"215\" y=\"-49.2\" font-family=\"Times,serif\" font-size=\"14.00\">Data</text>\n",
       "</g>\n",
       "<!-- C&#45;&gt;C_data -->\n",
       "<g id=\"edge1\" class=\"edge\">\n",
       "<title>C&#45;&gt;C_data</title>\n",
       "<path fill=\"none\" stroke=\"black\" d=\"M215,-136.61C215,-128.74 215,-120.53 215,-112.69\"/>\n",
       "<polygon fill=\"black\" stroke=\"black\" points=\"218.5,-112.71 215,-102.71 211.5,-112.71 218.5,-112.71\"/>\n",
       "</g>\n",
       "<!-- A_data -->\n",
       "<g id=\"node6\" class=\"node\">\n",
       "<title>A_data</title>\n",
       "<path fill=\"lightgrey\" stroke=\"black\" d=\"M231,-450.12C231,-450.12 191,-450.12 191,-450.12 185,-450.12 179,-444.12 179,-438.12 179,-438.12 179,-402.37 179,-402.37 179,-396.37 185,-390.37 191,-390.37 191,-390.37 231,-390.37 231,-390.37 237,-390.37 243,-396.37 243,-402.37 243,-402.37 243,-438.12 243,-438.12 243,-444.12 237,-450.12 231,-450.12\"/>\n",
       "<text text-anchor=\"middle\" x=\"211\" y=\"-432.82\" font-family=\"Times,serif\" font-size=\"14.00\">A_data</text>\n",
       "<text text-anchor=\"middle\" x=\"211\" y=\"-415.57\" font-family=\"Times,serif\" font-size=\"14.00\">~</text>\n",
       "<text text-anchor=\"middle\" x=\"211\" y=\"-398.32\" font-family=\"Times,serif\" font-size=\"14.00\">Data</text>\n",
       "</g>\n",
       "<!-- A_data&#45;&gt;mu -->\n",
       "<g id=\"edge3\" class=\"edge\">\n",
       "<title>A_data&#45;&gt;mu</title>\n",
       "<path fill=\"none\" stroke=\"black\" d=\"M211,-389.96C211,-375.29 211,-357.29 211,-341.31\"/>\n",
       "<polygon fill=\"black\" stroke=\"black\" points=\"214.5,-341.63 211,-331.63 207.5,-341.63 214.5,-341.63\"/>\n",
       "</g>\n",
       "<!-- mu&#45;&gt;C -->\n",
       "<g id=\"edge5\" class=\"edge\">\n",
       "<title>mu&#45;&gt;C</title>\n",
       "<path fill=\"none\" stroke=\"black\" d=\"M211.99,-269.46C212.36,-258.44 212.8,-245.54 213.22,-233.04\"/>\n",
       "<polygon fill=\"black\" stroke=\"black\" points=\"216.71,-233.35 213.55,-223.24 209.71,-233.11 216.71,-233.35\"/>\n",
       "</g>\n",
       "</g>\n",
       "</svg>\n"
      ],
      "text/plain": [
       "<graphviz.graphs.Digraph at 0x7f61137d76e0>"
      ]
     },
     "execution_count": 105,
     "metadata": {},
     "output_type": "execute_result"
    }
   ],
   "source": [
    "with pm.Model() as m_h1a:\n",
    "    alpha = pm.Normal(\"alpha\", 0, 10, shape=df[\"A\"].unique().size)\n",
    "    sigma = pm.Exponential(\"sigma\", 1)\n",
    "\n",
    "    C_data = pm.Data(\"C_data\", df[\"energy_consumption\"].values, mutable=True)\n",
    "    A_data = pm.Data(\"A_data\", df[\"A\"].values, mutable=True)\n",
    "\n",
    "    mu = pm.Deterministic(\"mu\", alpha[A_data])\n",
    "    C = pm.Normal(\"C\", mu, sigma, observed=C_data)\n",
    "\n",
    "    diff = pm.Deterministic(\"diff\", alpha - alpha[0])\n",
    "\n",
    "    trace_h1a = pm.sample()\n",
    "pm.model_to_graphviz(m_h1a)\n"
   ]
  },
  {
   "cell_type": "code",
   "execution_count": 106,
   "metadata": {},
   "outputs": [
    {
     "name": "stderr",
     "output_type": "stream",
     "text": [
      "/home/chobbie/anaconda3/envs/prpro-2025/lib/python3.12/site-packages/arviz/stats/diagnostics.py:596: RuntimeWarning: invalid value encountered in scalar divide\n",
      "  (between_chain_variance / within_chain_variance + num_samples - 1) / (num_samples)\n"
     ]
    },
    {
     "data": {
      "text/html": [
       "<div>\n",
       "<style scoped>\n",
       "    .dataframe tbody tr th:only-of-type {\n",
       "        vertical-align: middle;\n",
       "    }\n",
       "\n",
       "    .dataframe tbody tr th {\n",
       "        vertical-align: top;\n",
       "    }\n",
       "\n",
       "    .dataframe thead th {\n",
       "        text-align: right;\n",
       "    }\n",
       "</style>\n",
       "<table border=\"1\" class=\"dataframe\">\n",
       "  <thead>\n",
       "    <tr style=\"text-align: right;\">\n",
       "      <th></th>\n",
       "      <th>mean</th>\n",
       "      <th>sd</th>\n",
       "      <th>hdi_3%</th>\n",
       "      <th>hdi_97%</th>\n",
       "      <th>mcse_mean</th>\n",
       "      <th>mcse_sd</th>\n",
       "      <th>ess_bulk</th>\n",
       "      <th>ess_tail</th>\n",
       "      <th>r_hat</th>\n",
       "    </tr>\n",
       "  </thead>\n",
       "  <tbody>\n",
       "    <tr>\n",
       "      <th>alpha[0]</th>\n",
       "      <td>0.690</td>\n",
       "      <td>0.015</td>\n",
       "      <td>0.661</td>\n",
       "      <td>0.718</td>\n",
       "      <td>0.0</td>\n",
       "      <td>0.0</td>\n",
       "      <td>7065.0</td>\n",
       "      <td>3219.0</td>\n",
       "      <td>1.0</td>\n",
       "    </tr>\n",
       "    <tr>\n",
       "      <th>alpha[1]</th>\n",
       "      <td>0.319</td>\n",
       "      <td>0.016</td>\n",
       "      <td>0.289</td>\n",
       "      <td>0.348</td>\n",
       "      <td>0.0</td>\n",
       "      <td>0.0</td>\n",
       "      <td>5583.0</td>\n",
       "      <td>2978.0</td>\n",
       "      <td>1.0</td>\n",
       "    </tr>\n",
       "    <tr>\n",
       "      <th>alpha[2]</th>\n",
       "      <td>0.324</td>\n",
       "      <td>0.016</td>\n",
       "      <td>0.294</td>\n",
       "      <td>0.353</td>\n",
       "      <td>0.0</td>\n",
       "      <td>0.0</td>\n",
       "      <td>5799.0</td>\n",
       "      <td>3274.0</td>\n",
       "      <td>1.0</td>\n",
       "    </tr>\n",
       "    <tr>\n",
       "      <th>alpha[3]</th>\n",
       "      <td>0.206</td>\n",
       "      <td>0.016</td>\n",
       "      <td>0.177</td>\n",
       "      <td>0.237</td>\n",
       "      <td>0.0</td>\n",
       "      <td>0.0</td>\n",
       "      <td>4469.0</td>\n",
       "      <td>3274.0</td>\n",
       "      <td>1.0</td>\n",
       "    </tr>\n",
       "    <tr>\n",
       "      <th>alpha[4]</th>\n",
       "      <td>0.413</td>\n",
       "      <td>0.016</td>\n",
       "      <td>0.382</td>\n",
       "      <td>0.443</td>\n",
       "      <td>0.0</td>\n",
       "      <td>0.0</td>\n",
       "      <td>5125.0</td>\n",
       "      <td>2847.0</td>\n",
       "      <td>1.0</td>\n",
       "    </tr>\n",
       "    <tr>\n",
       "      <th>alpha[5]</th>\n",
       "      <td>0.409</td>\n",
       "      <td>0.016</td>\n",
       "      <td>0.380</td>\n",
       "      <td>0.438</td>\n",
       "      <td>0.0</td>\n",
       "      <td>0.0</td>\n",
       "      <td>4562.0</td>\n",
       "      <td>3166.0</td>\n",
       "      <td>1.0</td>\n",
       "    </tr>\n",
       "    <tr>\n",
       "      <th>alpha[6]</th>\n",
       "      <td>0.307</td>\n",
       "      <td>0.016</td>\n",
       "      <td>0.280</td>\n",
       "      <td>0.338</td>\n",
       "      <td>0.0</td>\n",
       "      <td>0.0</td>\n",
       "      <td>5289.0</td>\n",
       "      <td>3176.0</td>\n",
       "      <td>1.0</td>\n",
       "    </tr>\n",
       "    <tr>\n",
       "      <th>diff[0]</th>\n",
       "      <td>0.000</td>\n",
       "      <td>0.000</td>\n",
       "      <td>0.000</td>\n",
       "      <td>0.000</td>\n",
       "      <td>0.0</td>\n",
       "      <td>0.0</td>\n",
       "      <td>4000.0</td>\n",
       "      <td>4000.0</td>\n",
       "      <td>NaN</td>\n",
       "    </tr>\n",
       "    <tr>\n",
       "      <th>diff[1]</th>\n",
       "      <td>-0.370</td>\n",
       "      <td>0.022</td>\n",
       "      <td>-0.412</td>\n",
       "      <td>-0.327</td>\n",
       "      <td>0.0</td>\n",
       "      <td>0.0</td>\n",
       "      <td>6216.0</td>\n",
       "      <td>3361.0</td>\n",
       "      <td>1.0</td>\n",
       "    </tr>\n",
       "    <tr>\n",
       "      <th>diff[2]</th>\n",
       "      <td>-0.365</td>\n",
       "      <td>0.022</td>\n",
       "      <td>-0.403</td>\n",
       "      <td>-0.323</td>\n",
       "      <td>0.0</td>\n",
       "      <td>0.0</td>\n",
       "      <td>6798.0</td>\n",
       "      <td>3265.0</td>\n",
       "      <td>1.0</td>\n",
       "    </tr>\n",
       "    <tr>\n",
       "      <th>diff[3]</th>\n",
       "      <td>-0.483</td>\n",
       "      <td>0.023</td>\n",
       "      <td>-0.524</td>\n",
       "      <td>-0.439</td>\n",
       "      <td>0.0</td>\n",
       "      <td>0.0</td>\n",
       "      <td>5398.0</td>\n",
       "      <td>3410.0</td>\n",
       "      <td>1.0</td>\n",
       "    </tr>\n",
       "    <tr>\n",
       "      <th>diff[4]</th>\n",
       "      <td>-0.276</td>\n",
       "      <td>0.022</td>\n",
       "      <td>-0.321</td>\n",
       "      <td>-0.236</td>\n",
       "      <td>0.0</td>\n",
       "      <td>0.0</td>\n",
       "      <td>6690.0</td>\n",
       "      <td>3555.0</td>\n",
       "      <td>1.0</td>\n",
       "    </tr>\n",
       "    <tr>\n",
       "      <th>diff[5]</th>\n",
       "      <td>-0.280</td>\n",
       "      <td>0.022</td>\n",
       "      <td>-0.320</td>\n",
       "      <td>-0.238</td>\n",
       "      <td>0.0</td>\n",
       "      <td>0.0</td>\n",
       "      <td>5490.0</td>\n",
       "      <td>3181.0</td>\n",
       "      <td>1.0</td>\n",
       "    </tr>\n",
       "    <tr>\n",
       "      <th>diff[6]</th>\n",
       "      <td>-0.383</td>\n",
       "      <td>0.022</td>\n",
       "      <td>-0.426</td>\n",
       "      <td>-0.343</td>\n",
       "      <td>0.0</td>\n",
       "      <td>0.0</td>\n",
       "      <td>6100.0</td>\n",
       "      <td>3700.0</td>\n",
       "      <td>1.0</td>\n",
       "    </tr>\n",
       "  </tbody>\n",
       "</table>\n",
       "</div>"
      ],
      "text/plain": [
       "           mean     sd  hdi_3%  hdi_97%  mcse_mean  mcse_sd  ess_bulk  \\\n",
       "alpha[0]  0.690  0.015   0.661    0.718        0.0      0.0    7065.0   \n",
       "alpha[1]  0.319  0.016   0.289    0.348        0.0      0.0    5583.0   \n",
       "alpha[2]  0.324  0.016   0.294    0.353        0.0      0.0    5799.0   \n",
       "alpha[3]  0.206  0.016   0.177    0.237        0.0      0.0    4469.0   \n",
       "alpha[4]  0.413  0.016   0.382    0.443        0.0      0.0    5125.0   \n",
       "alpha[5]  0.409  0.016   0.380    0.438        0.0      0.0    4562.0   \n",
       "alpha[6]  0.307  0.016   0.280    0.338        0.0      0.0    5289.0   \n",
       "diff[0]   0.000  0.000   0.000    0.000        0.0      0.0    4000.0   \n",
       "diff[1]  -0.370  0.022  -0.412   -0.327        0.0      0.0    6216.0   \n",
       "diff[2]  -0.365  0.022  -0.403   -0.323        0.0      0.0    6798.0   \n",
       "diff[3]  -0.483  0.023  -0.524   -0.439        0.0      0.0    5398.0   \n",
       "diff[4]  -0.276  0.022  -0.321   -0.236        0.0      0.0    6690.0   \n",
       "diff[5]  -0.280  0.022  -0.320   -0.238        0.0      0.0    5490.0   \n",
       "diff[6]  -0.383  0.022  -0.426   -0.343        0.0      0.0    6100.0   \n",
       "\n",
       "          ess_tail  r_hat  \n",
       "alpha[0]    3219.0    1.0  \n",
       "alpha[1]    2978.0    1.0  \n",
       "alpha[2]    3274.0    1.0  \n",
       "alpha[3]    3274.0    1.0  \n",
       "alpha[4]    2847.0    1.0  \n",
       "alpha[5]    3166.0    1.0  \n",
       "alpha[6]    3176.0    1.0  \n",
       "diff[0]     4000.0    NaN  \n",
       "diff[1]     3361.0    1.0  \n",
       "diff[2]     3265.0    1.0  \n",
       "diff[3]     3410.0    1.0  \n",
       "diff[4]     3555.0    1.0  \n",
       "diff[5]     3181.0    1.0  \n",
       "diff[6]     3700.0    1.0  "
      ]
     },
     "execution_count": 106,
     "metadata": {},
     "output_type": "execute_result"
    }
   ],
   "source": [
    "az.summary(trace_h1a, var_names=[\"alpha\", \"diff\"])"
   ]
  },
  {
   "cell_type": "markdown",
   "metadata": {},
   "source": [
    "Looking at the summary of the simulation, firstly we see that the $\\hat r$ values are all 1, meaning the simulation was successful (and similarly the effective sample size (ess_bulk) is also high). Interestingly, considering only the alpha parameters, we see that the mean $\\alpha$ is highest for the category \"*c-sharp-razor*\", and the model is fairly confident (low standard deviation).\n",
    "\n",
    "Let's take a closer look at the \"diff\" which in this model is the contrast to the baseline, application \"*c-sharp-razor*\"."
   ]
  },
  {
   "cell_type": "code",
   "execution_count": 108,
   "metadata": {},
   "outputs": [
    {
     "data": {
      "text/plain": [
       "array([<Axes: title={'center': '94.0% HDI'}>], dtype=object)"
      ]
     },
     "execution_count": 108,
     "metadata": {},
     "output_type": "execute_result"
    },
    {
     "data": {
      "image/png": "[encoded data removed]",
      "text/plain": [
       "<Figure size 600x470 with 1 Axes>"
      ]
     },
     "metadata": {},
     "output_type": "display_data"
    }
   ],
   "source": [
    "az.plot_forest(trace_h1a, var_names=[\"diff\"], combined=True)"
   ]
  },
  {
   "cell_type": "markdown",
   "metadata": {},
   "source": [
    "Recall that $0$ (zero) is the application \"*c-sharp-razor*\". We see from the forest plot of contrasts above that they are all sitting well to the left of 0.0, meaning that the energy consumption of \"*c-sharp-razor*\" is higher than all the other language/frameworks. We are able to reject hypothesis 1.\n",
    "\n",
    "There is certainly a point to be made about the chocice of $\\text{Normal}$ distribution. We could've chosen the $\\text{Student-T}$ distribution to better accommedate potential outliers that may happen as a result of garbage collectors etc."
   ]
  },
  {
   "cell_type": "markdown",
   "metadata": {},
   "source": []
  },
  {
   "cell_type": "code",
   "execution_count": 92,
   "metadata": {},
   "outputs": [
    {
     "data": {
      "image/png": "[encoded data removed]",
      "text/plain": [
       "<Figure size 1200x600 with 2 Axes>"
      ]
     },
     "metadata": {},
     "output_type": "display_data"
    }
   ],
   "source": [
    "df_sorted = df.where(df[\"application\"] == \"c-sharp-reazor\").sort_values(by=[\"application\", \"endpoint\"])\n",
    "df_sorted[\"label\"] = df_sorted[\"endpoint\"]  # keep only endpoint in label\n",
    "\n",
    "# Group data\n",
    "grouped = df_sorted.groupby([\"application\", \"endpoint\"])\n",
    "data = [group[\"energy_consumption\"].values for _, group in grouped]\n",
    "labels = [endpoint for (app, endpoint) in grouped.groups.keys()]\n",
    "apps = [app for (app, endpoint) in grouped.groups.keys()]\n",
    "\n",
    "# Plot boxplot\n",
    "fig, ax = plt.subplots(figsize=(12, 6))\n",
    "box = ax.boxplot(data, patch_artist=True)\n",
    "\n",
    "# Set endpoint labels (first row)\n",
    "ax.set_xticks(range(1, len(labels) + 1))\n",
    "ax.set_xticklabels(labels, rotation=45)\n",
    "\n",
    "# Now add application labels above/below grouped endpoint labels\n",
    "prev_app = None\n",
    "tick_positions = []\n",
    "tick_labels = []\n",
    "start = 1\n",
    "\n",
    "for i, app in enumerate(apps + [\"__end__\"]):  # add dummy to detect last group\n",
    "    if app != prev_app and prev_app is not None:\n",
    "        end = i\n",
    "        pos = (start + end - 1) / 2\n",
    "        tick_positions.append(pos)\n",
    "        tick_labels.append(prev_app)\n",
    "        start = i\n",
    "    prev_app = app\n",
    "\n",
    "# Add application labels as a second row of labels\n",
    "ax2 = ax.twiny()\n",
    "ax2.set_xticks(tick_positions)\n",
    "ax2.set_xticklabels(tick_labels, fontsize=10)\n",
    "ax2.set_xlim(ax.get_xlim())\n",
    "ax2.tick_params(axis='x', pad=30)  # push labels down\n",
    "\n",
    "# Titles and formatting\n",
    "plt.title(\"Energy Consumption Distribution by Application and Endpoint\")\n",
    "ax.set_ylabel(\"Energy Consumption\")\n",
    "plt.tight_layout()\n",
    "plt.show()"
   ]
  },
  {
   "cell_type": "code",
   "execution_count": null,
   "metadata": {},
   "outputs": [
    {
     "data": {
      "text/plain": [
       "14"
      ]
     },
     "execution_count": 40,
     "metadata": {},
     "output_type": "execute_result"
    }
   ],
   "source": [
    "df.endpoint.unique().size"
   ]
  },
  {
   "cell_type": "code",
   "execution_count": 41,
   "metadata": {},
   "outputs": [
    {
     "data": {
      "text/plain": [
       "7"
      ]
     },
     "execution_count": 41,
     "metadata": {},
     "output_type": "execute_result"
    }
   ],
   "source": [
    "df.application.unique().size"
   ]
  },
  {
   "cell_type": "code",
   "execution_count": null,
   "metadata": {},
   "outputs": [],
   "source": []
  }
 ],
 "metadata": {
  "kernelspec": {
   "display_name": "prpro-2025",
   "language": "python",
   "name": "prpro-2025"
  },
  "language_info": {
   "codemirror_mode": {
    "name": "ipython",
    "version": 3
   },
   "file_extension": ".py",
   "mimetype": "text/x-python",
   "name": "python",
   "nbconvert_exporter": "python",
   "pygments_lexer": "ipython3",
   "version": "3.12.8"
  }
 },
 "nbformat": 4,
 "nbformat_minor": 4
}
