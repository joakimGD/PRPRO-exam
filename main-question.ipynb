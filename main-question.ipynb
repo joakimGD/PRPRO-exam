{
 "cells": [
  {
   "cell_type": "markdown",
   "metadata": {},
   "source": [
    "# Energy consumption of a Web Application Implemented in Different Programming Languages and Web Frameworks\n",
    "*Probabilistic Programming 2025 Exam by Raúl Pardo ([raup@itu.dk](mailto:raup@itu.dk)) and Andrzej Wąsowski ([wasowski@itu.dk](mailto:wasowski@itu.dk))*<br/>\n",
    "*version 1.0.0 2025-03-20 08:40*\n"
   ]
  },
  {
   "cell_type": "markdown",
   "metadata": {},
   "source": [
    "In this exam, your task is to analyze energy consumption of different implementations of a web application.\n",
    "The goal is to determine whether there are differences in energy consumption in different implementations of the web application or in its API endpoints.\n",
    "This analysis is of utmost importance, as it might help software engineers to make informed choices that lower energy consumption. For instance, a plausible hypothesis is that lower level programming languages such as Rust consume less energy than higher level languages such as Python.\n",
    "A preconception in this domain is that running time is the driving factor in energy consumption.\n",
    "Are these true? The data in this exam and the analysis you will develop will allow to answer this type of questions."
   ]
  },
  {
   "cell_type": "markdown",
   "metadata": {},
   "source": [
    "## Data"
   ]
  },
  {
   "cell_type": "markdown",
   "metadata": {},
   "source": [
    "The dataset contains $N = 1960$ measurements of energy consumption for different implementations and functionality of a web application. For each setup, there are 20 measurements. The dataset is in the file [dataset.csv](dataset.csv). The variables in the dataset are:\n",
    "\n",
    "* **Application**. This variable has the form `<programming_language>-<web_framework>`. It specifies the programming language and web framework used in the experiment. For instance, `rust-actix` denotes the web framework Actix for the programming language Rust, or `c-sharp-razor` denotes the web framework Razor for the programming language C#.\n",
    "    * Note that if a hypothesis involves only programming language, you need to extract it from the values in this variable.\n",
    "\n",
    "* **Endpoint**. This variable refers to the API endpoints of the web application. For example, `/api/register` refers to the API endpoint used for registering users in the web application, or `/logout` is used for logging out of the system.\n",
    "\n",
    "* **Runtime**. This variable indicates the time it took to process the request to the endpoint in seconds.\n",
    "\n",
    "* **Energy consumption**. This variable indicates the energy consumed for processing the request to the endpoint in Joules.\n",
    "\n",
    "Each row in the dataset is a measurement of the total energy consumed and runtime after processing a request in the corresponding API endpoint. The *Application* variable in each row indicates the web framework used for the measurement."
   ]
  },
  {
   "cell_type": "markdown",
   "metadata": {},
   "source": [
    "## Hypotheses\n",
    "\n",
    "To analyze energy consumption in the different implementations, you must investigate the following hypotheses:\n",
    "\n",
    "* **H1** - The web framework `c-sharp-razor` consumes more energy than any other web framework in the dataset.\n",
    "\n",
    "* **H2** - The programming language `javascript` consumes the least amount of energy compared to any other programming language in the dataset.\n",
    "\n",
    "* **H3** - Runtime has a stronger impact on energy consumption for some API endpoints than others. That is, the effect of runtime on energy consumption is larger for some API endpoints than others."
   ]
  },
  {
   "cell_type": "markdown",
   "metadata": {},
   "source": [
    "Your task is to use Bayesian Inference and Regression to decide whether these hypotheses hold, or possibly reject them. This includes:\n",
    "\n",
    "* Loading, restructuring and transforming the data as needed.\n",
    "\n",
    "* Designing Bayesian regression models and using inference algorithms to test the above hypotheses in PyMC.\n",
    "\n",
    "* Explaining your model idea in English, preferably using a figure, and showing the Python code.\n",
    "\n",
    "* Checking and reflecting (in writing) on the quality of the sampling process, considering warnings from the tool, sampling summary statistics, trace plots, and autocorrelation plots. Comment whether the quality of the sampled trace is good, and whether you had to make any adjustments during modeling and/or sampling.\n",
    "\n",
    "* Visualizing the posterior information appropriately to address the hypotheses.\n",
    "  \n",
    "\n",
    "You should hand in a zip file with a Jupyter notebook and the data file (so that we can run it), and a **PDF file rendering of the Jupyter notebook**, so that your work can be assessed just by reading this file. It appears that the best PDF rendering is obtained by File / Export to HTML, and then saving/printing to PDF from your browser.\n",
    "\n",
    "Make sure the notebook is actually a **report** readable to the examiners, especially to the censor who has not followed the course. The report should include:\n",
    "* A brief introduction.\n",
    "* Explanations on how data is loaded and cleaned.\n",
    "* Explanations on analysis and model design (for each of the models you consider).\n",
    "* A discussion of sampling quality (for each model) and all the plots that you present, and a reflection/decision on the outcome for each hypothesis.\n",
    "* An overall conclusion.\n",
    "\n",
    "**IMPORTANT:** For the tasks below, your code must accompany an explanation of its meaning and intended purpose. **Source code alone is not self-explanatory**. As mentioned above, you should also reflect on the results you get, e.g., highlighting issues with the data, or issues, pitfalls and assumptions of a model. **Exams containing only source code or very scarce explanations will result in low grades, including failing grades.**\n",
    "\n"
   ]
  },
  {
   "cell_type": "markdown",
   "metadata": {},
   "source": [
    "\n",
    "\n",
    "## Minimum requirements \n",
    "\n",
    "1. Design a regression model to predict energy consumption using web framework as a predictor.\n",
    "  \n",
    "2. Analyze hypothesis H1 using the regression model in (1.).\n",
    "\n",
    "## Ideas for extension\n",
    "\n",
    "**Groups aiming at grade 7 and more should complete the following tasks:**\n",
    "    \n",
    "3. Analyze hypothesis H2, if necessary design a new model.\n",
    "        \n",
    "4. Perform prior predictive checks in all your models. Explain why the priors you selected are appropriate.\n",
    "    \n",
    "5. Perform posterior predictive checks in all your models. Discuss the results in the posterior predictive checks.\n",
    "    \n",
    "6. Discuss trace convergence in all your models.\n",
    "    \n",
    "**Groups aiming at grade 10 and higher should try 3-5 ideas from below or add some of your own:**\n",
    "\n",
    "7. Analyze hypothesis H3, if necessary design a new model.\n",
    "    \n",
    "8. Perform a counterfactual analysis in your model for H3: For each endpoint, plot posterior predictions on energy consumption for a runtime value much larger than those in the dataset. Does this affect/introduce differences between energy consumption for different endpoints?\n",
    "    \n",
    "9. Design models with a transformation of the predicted variable, i.e., energy consumption. For instance, \n",
    "    * Build a model to analyze the probability that the energy consumption of a web framework is below 0.4 Joules. You may consider versions of this task involving other predictors.\n",
    "    * Transform energy consumption into an ordinal variable representing an energy mark, e.g., an energy consumption in 0.0-0.2 is energy mark A, energy consumption in 0.2-0.4 is energy mark B and energy consumption of ≥ 0.4 is energy mark C. Use an ordinal regression model to analyze the energy mark of each framework. You may consider versions of this task involving other predictors.\n",
    "    \n",
    "10. Use information criteria to compare the models to analyze H1, H2 and H3.\n",
    "    \n",
    "11. Design a meaningful multilevel model in the context of these data.\n",
    "   \n",
    "12. Use causal reasoning to analyze causal relations between the variables in the dataset."
   ]
  },
  {
   "cell_type": "markdown",
   "metadata": {
    "vscode": {
     "languageId": "plaintext"
    }
   },
   "source": [
    "---"
   ]
  },
  {
   "cell_type": "code",
   "execution_count": 1,
   "metadata": {},
   "outputs": [],
   "source": [
    "import numpy as np\n",
    "import pandas as pd\n",
    "import arviz as az\n",
    "import pymc as pm\n",
    "import matplotlib.pyplot as plt"
   ]
  },
  {
   "cell_type": "code",
   "execution_count": 2,
   "metadata": {},
   "outputs": [],
   "source": [
    "df = pd.read_csv('dataset.csv')"
   ]
  },
  {
   "cell_type": "code",
   "execution_count": 6,
   "metadata": {},
   "outputs": [
    {
     "data": {
      "application/vnd.microsoft.datawrangler.viewer.v0+json": {
       "columns": [
        {
         "name": "index",
         "rawType": "int64",
         "type": "integer"
        },
        {
         "name": "application",
         "rawType": "object",
         "type": "string"
        },
        {
         "name": "endpoint",
         "rawType": "object",
         "type": "string"
        },
        {
         "name": "energy_consumption",
         "rawType": "float64",
         "type": "float"
        },
        {
         "name": "runtime",
         "rawType": "float64",
         "type": "float"
        }
       ],
       "conversionMethod": "pd.DataFrame",
       "ref": "e5c57eaf-4496-410a-87db-ec0498e4b6d3",
       "rows": [
        [
         "0",
         "rust-actix",
         "/api/register",
         "0.4493584406276907",
         "0.1488120555877685"
        ],
        [
         "1",
         "rust-actix",
         "/api/register",
         "0.4338710918675588",
         "0.1488950252532959"
        ],
        [
         "2",
         "rust-actix",
         "/api/register",
         "0.2708436065876184",
         "0.094728946685791"
        ],
        [
         "3",
         "rust-actix",
         "/api/register",
         "0.4797763649394256",
         "0.1634671688079834"
        ],
        [
         "4",
         "rust-actix",
         "/api/register",
         "0.2688328697571478",
         "0.0922999382019043"
        ],
        [
         "5",
         "rust-actix",
         "/api/register",
         "0.2702365128308768",
         "0.0925853252410888"
        ],
        [
         "6",
         "rust-actix",
         "/api/register",
         "0.2764840322390682",
         "0.0945019721984863"
        ],
        [
         "7",
         "rust-actix",
         "/api/register",
         "0.4777908933456274",
         "0.1634671688079834"
        ],
        [
         "8",
         "rust-actix",
         "/api/register",
         "0.4469782898038941",
         "0.1480019092559814"
        ],
        [
         "9",
         "rust-actix",
         "/api/register",
         "0.2807451948908122",
         "0.0957138538360595"
        ],
        [
         "10",
         "rust-actix",
         "/api/register",
         "0.275577776656746",
         "0.0946917533874511"
        ],
        [
         "11",
         "rust-actix",
         "/api/register",
         "0.2674819997358781",
         "0.0936589241027832"
        ],
        [
         "12",
         "rust-actix",
         "/api/register",
         "0.2747045620658352",
         "0.0936870574951171"
        ],
        [
         "13",
         "rust-actix",
         "/api/register",
         "0.2658132729318936",
         "0.0910179615020752"
        ],
        [
         "14",
         "rust-actix",
         "/api/register",
         "0.4398228676238885",
         "0.1506121158599853"
        ],
        [
         "15",
         "rust-actix",
         "/api/register",
         "0.2752072942618609",
         "0.0942761898040771"
        ],
        [
         "16",
         "rust-actix",
         "/api/register",
         "0.5630224351607466",
         "0.1927711963653564"
        ],
        [
         "17",
         "rust-actix",
         "/api/register",
         "0.2706266993884582",
         "0.0926671028137207"
        ],
        [
         "18",
         "rust-actix",
         "/api/register",
         "0.4416270297774074",
         "0.1506121158599853"
        ],
        [
         "19",
         "rust-actix",
         "/api/register",
         "0.2706957477806781",
         "0.0913131237030029"
        ],
        [
         "20",
         "ruby-sinatra",
         "/api/register",
         "0.5841972949619958",
         "0.1956791877746582"
        ],
        [
         "21",
         "ruby-sinatra",
         "/api/register",
         "0.5881046508206963",
         "0.195897102355957"
        ],
        [
         "22",
         "ruby-sinatra",
         "/api/register",
         "0.5890982909642161",
         "0.1962590217590332"
        ],
        [
         "23",
         "ruby-sinatra",
         "/api/register",
         "0.6001181565943623",
         "0.1956138610839843"
        ],
        [
         "24",
         "ruby-sinatra",
         "/api/register",
         "0.6044563422080954",
         "0.1932110786437988"
        ],
        [
         "25",
         "ruby-sinatra",
         "/api/register",
         "0.7157190034071729",
         "0.195674180984497"
        ],
        [
         "26",
         "ruby-sinatra",
         "/api/register",
         "0.6162752726751249",
         "0.2059569358825683"
        ],
        [
         "27",
         "ruby-sinatra",
         "/api/register",
         "0.5875811870786264",
         "0.1940350532531738"
        ],
        [
         "28",
         "ruby-sinatra",
         "/api/register",
         "0.5843676884742873",
         "0.1947600841522216"
        ],
        [
         "29",
         "ruby-sinatra",
         "/api/register",
         "0.5713378944683993",
         "0.1952641010284423"
        ],
        [
         "30",
         "ruby-sinatra",
         "/api/register",
         "0.5834586716858323",
         "0.1947128772735595"
        ],
        [
         "31",
         "ruby-sinatra",
         "/api/register",
         "0.5757538143973305",
         "0.1937460899353027"
        ],
        [
         "32",
         "ruby-sinatra",
         "/api/register",
         "0.6132945149906844",
         "0.2059569358825683"
        ],
        [
         "33",
         "ruby-sinatra",
         "/api/register",
         "0.5811726626399148",
         "0.1943099498748779"
        ],
        [
         "34",
         "ruby-sinatra",
         "/api/register",
         "0.6079680281686703",
         "0.2037179470062255"
        ],
        [
         "35",
         "ruby-sinatra",
         "/api/register",
         "0.5909846953462078",
         "0.1969091892242431"
        ],
        [
         "36",
         "ruby-sinatra",
         "/api/register",
         "0.5787379476797125",
         "0.1936309337615966"
        ],
        [
         "37",
         "ruby-sinatra",
         "/api/register",
         "0.5835730211498457",
         "0.1949951648712158"
        ],
        [
         "38",
         "ruby-sinatra",
         "/api/register",
         "0.5884973420779714",
         "0.1963729858398437"
        ],
        [
         "39",
         "ruby-sinatra",
         "/api/register",
         "0.5789493179916007",
         "0.1975617408752441"
        ],
        [
         "40",
         "go-gorilla",
         "/api/register",
         "0.4835881760811842",
         "0.1281499862670898"
        ],
        [
         "41",
         "go-gorilla",
         "/api/register",
         "0.4259970705379601",
         "0.1435070037841797"
        ],
        [
         "42",
         "go-gorilla",
         "/api/register",
         "0.3876895286540501",
         "0.1307461261749267"
        ],
        [
         "43",
         "go-gorilla",
         "/api/register",
         "0.3855730688046602",
         "0.1277580261230468"
        ],
        [
         "44",
         "go-gorilla",
         "/api/register",
         "0.3855762509065242",
         "0.1298160552978515"
        ],
        [
         "45",
         "go-gorilla",
         "/api/register",
         "0.3889759769294868",
         "0.1277499198913574"
        ],
        [
         "46",
         "go-gorilla",
         "/api/register",
         "0.3772413171654989",
         "0.1285860538482666"
        ],
        [
         "47",
         "go-gorilla",
         "/api/register",
         "0.3729707032107397",
         "0.1281499862670898"
        ],
        [
         "48",
         "go-gorilla",
         "/api/register",
         "0.3850522803366516",
         "0.130173921585083"
        ],
        [
         "49",
         "go-gorilla",
         "/api/register",
         "0.3722042712927303",
         "0.1278462409973144"
        ]
       ],
       "shape": {
        "columns": 4,
        "rows": 1960
       }
      },
      "text/html": [
       "<div>\n",
       "<style scoped>\n",
       "    .dataframe tbody tr th:only-of-type {\n",
       "        vertical-align: middle;\n",
       "    }\n",
       "\n",
       "    .dataframe tbody tr th {\n",
       "        vertical-align: top;\n",
       "    }\n",
       "\n",
       "    .dataframe thead th {\n",
       "        text-align: right;\n",
       "    }\n",
       "</style>\n",
       "<table border=\"1\" class=\"dataframe\">\n",
       "  <thead>\n",
       "    <tr style=\"text-align: right;\">\n",
       "      <th></th>\n",
       "      <th>application</th>\n",
       "      <th>endpoint</th>\n",
       "      <th>energy_consumption</th>\n",
       "      <th>runtime</th>\n",
       "    </tr>\n",
       "  </thead>\n",
       "  <tbody>\n",
       "    <tr>\n",
       "      <th>0</th>\n",
       "      <td>rust-actix</td>\n",
       "      <td>/api/register</td>\n",
       "      <td>0.449358</td>\n",
       "      <td>0.148812</td>\n",
       "    </tr>\n",
       "    <tr>\n",
       "      <th>1</th>\n",
       "      <td>rust-actix</td>\n",
       "      <td>/api/register</td>\n",
       "      <td>0.433871</td>\n",
       "      <td>0.148895</td>\n",
       "    </tr>\n",
       "    <tr>\n",
       "      <th>2</th>\n",
       "      <td>rust-actix</td>\n",
       "      <td>/api/register</td>\n",
       "      <td>0.270844</td>\n",
       "      <td>0.094729</td>\n",
       "    </tr>\n",
       "    <tr>\n",
       "      <th>3</th>\n",
       "      <td>rust-actix</td>\n",
       "      <td>/api/register</td>\n",
       "      <td>0.479776</td>\n",
       "      <td>0.163467</td>\n",
       "    </tr>\n",
       "    <tr>\n",
       "      <th>4</th>\n",
       "      <td>rust-actix</td>\n",
       "      <td>/api/register</td>\n",
       "      <td>0.268833</td>\n",
       "      <td>0.092300</td>\n",
       "    </tr>\n",
       "    <tr>\n",
       "      <th>...</th>\n",
       "      <td>...</td>\n",
       "      <td>...</td>\n",
       "      <td>...</td>\n",
       "      <td>...</td>\n",
       "    </tr>\n",
       "    <tr>\n",
       "      <th>1955</th>\n",
       "      <td>javascript-express</td>\n",
       "      <td>/logout</td>\n",
       "      <td>0.096436</td>\n",
       "      <td>0.032214</td>\n",
       "    </tr>\n",
       "    <tr>\n",
       "      <th>1956</th>\n",
       "      <td>javascript-express</td>\n",
       "      <td>/logout</td>\n",
       "      <td>0.097559</td>\n",
       "      <td>0.032214</td>\n",
       "    </tr>\n",
       "    <tr>\n",
       "      <th>1957</th>\n",
       "      <td>javascript-express</td>\n",
       "      <td>/logout</td>\n",
       "      <td>0.096922</td>\n",
       "      <td>0.032214</td>\n",
       "    </tr>\n",
       "    <tr>\n",
       "      <th>1958</th>\n",
       "      <td>javascript-express</td>\n",
       "      <td>/logout</td>\n",
       "      <td>0.097086</td>\n",
       "      <td>0.032214</td>\n",
       "    </tr>\n",
       "    <tr>\n",
       "      <th>1959</th>\n",
       "      <td>javascript-express</td>\n",
       "      <td>/logout</td>\n",
       "      <td>0.096938</td>\n",
       "      <td>0.032214</td>\n",
       "    </tr>\n",
       "  </tbody>\n",
       "</table>\n",
       "<p>1960 rows × 4 columns</p>\n",
       "</div>"
      ],
      "text/plain": [
       "             application       endpoint  energy_consumption   runtime\n",
       "0             rust-actix  /api/register            0.449358  0.148812\n",
       "1             rust-actix  /api/register            0.433871  0.148895\n",
       "2             rust-actix  /api/register            0.270844  0.094729\n",
       "3             rust-actix  /api/register            0.479776  0.163467\n",
       "4             rust-actix  /api/register            0.268833  0.092300\n",
       "...                  ...            ...                 ...       ...\n",
       "1955  javascript-express        /logout            0.096436  0.032214\n",
       "1956  javascript-express        /logout            0.097559  0.032214\n",
       "1957  javascript-express        /logout            0.096922  0.032214\n",
       "1958  javascript-express        /logout            0.097086  0.032214\n",
       "1959  javascript-express        /logout            0.096938  0.032214\n",
       "\n",
       "[1960 rows x 4 columns]"
      ]
     },
     "execution_count": 6,
     "metadata": {},
     "output_type": "execute_result"
    }
   ],
   "source": [
    "df"
   ]
  },
  {
   "cell_type": "code",
   "execution_count": 5,
   "metadata": {},
   "outputs": [
    {
     "data": {
      "text/plain": [
       "['/api/register',\n",
       " '/api/msgs/user0',\n",
       " '/api/msgs',\n",
       " '/api/fllws/user',\n",
       " '/api/unfllws/user',\n",
       " '/api/latest',\n",
       " '/register',\n",
       " '/login',\n",
       " '/user/follow',\n",
       " '/add_message',\n",
       " '/public',\n",
       " '/user/user0',\n",
       " '/user/unfollow',\n",
       " '/logout']"
      ]
     },
     "execution_count": 5,
     "metadata": {},
     "output_type": "execute_result"
    }
   ],
   "source": [
    "df.endpoint.unique().tolist()"
   ]
  },
  {
   "cell_type": "code",
   "execution_count": 7,
   "metadata": {},
   "outputs": [
    {
     "data": {
      "text/plain": [
       "['rust-actix',\n",
       " 'ruby-sinatra',\n",
       " 'go-gorilla',\n",
       " 'go-gin',\n",
       " 'python-flask',\n",
       " 'c-sharp-razor',\n",
       " 'javascript-express']"
      ]
     },
     "execution_count": 7,
     "metadata": {},
     "output_type": "execute_result"
    }
   ],
   "source": [
    "df.application.unique().tolist()"
   ]
  }
 ],
 "metadata": {
  "kernelspec": {
   "display_name": "prpro-2025",
   "language": "python",
   "name": "python3"
  },
  "language_info": {
   "codemirror_mode": {
    "name": "ipython",
    "version": 3
   },
   "file_extension": ".py",
   "mimetype": "text/x-python",
   "name": "python",
   "nbconvert_exporter": "python",
   "pygments_lexer": "ipython3",
   "version": "3.12.9"
  }
 },
 "nbformat": 4,
 "nbformat_minor": 4
}
